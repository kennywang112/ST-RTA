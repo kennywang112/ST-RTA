{
 "cells": [
  {
   "cell_type": "markdown",
   "id": "d06319a9",
   "metadata": {},
   "source": [
    "分析改用特定道路組合下為有設施的機率"
   ]
  },
  {
   "cell_type": "code",
   "execution_count": null,
   "id": "465d341e",
   "metadata": {},
   "outputs": [],
   "source": [
    "import os\n",
    "import pandas as pd\n",
    "import bnlearn as bn\n",
    "import matplotlib.pyplot as plt\n",
    "plt.rcParams['font.family'] = ['Arial Unicode Ms']\n",
    "\n",
    "current_dir = os.getcwd()\n",
    "parent_dir = os.path.dirname(current_dir)\n",
    "analyze_path = os.path.join(parent_dir, \"utils\")\n",
    "\n",
    "os.chdir(analyze_path)"
   ]
  },
  {
   "cell_type": "code",
   "execution_count": null,
   "id": "85577e5a",
   "metadata": {},
   "outputs": [],
   "source": [
    "from utils_behaviour import get_model, draw_bn_plotly, cpd_add_n, filter_cpd_for_hotspot, get_outlier\n",
    "from config import category_value_map, feature_name_map, select_group_behaviour"
   ]
  },
  {
   "cell_type": "code",
   "execution_count": null,
   "id": "7082fed2",
   "metadata": {},
   "outputs": [],
   "source": [
    "computeddata = 'ComputedDataV2'\n",
    "# This is from TDAv2\n",
    "combined_data = pd.read_csv(f'../{computeddata}/ForModel/combined_data_with_hotspot.csv')\n",
    "combined_data.shape"
   ]
  },
  {
   "cell_type": "code",
   "execution_count": null,
   "id": "7a2badf5",
   "metadata": {},
   "outputs": [],
   "source": [
    "from utils_eda import speed_bin\n",
    "\n",
    "data = combined_data[select_group_behaviour].copy()\n",
    "data['facility'] = data[['youbike_100m_count']].apply(lambda row: '1' if (row > 0).any() else '0', axis=1)\n",
    "data.drop(columns=['youbike_100m_count'], inplace=True)\n",
    "\n",
    "data['速限-第1當事者'] = speed_bin(data)"
   ]
  },
  {
   "cell_type": "code",
   "execution_count": null,
   "id": "d39f81e5",
   "metadata": {},
   "outputs": [],
   "source": [
    "parent = [\n",
    "    '號誌-號誌種類名稱', '號誌-號誌動作名稱','車道劃分設施-分道設施-快車道或一般車道間名稱', '車道劃分設施-分道設施-快慢車道間名稱',\n",
    "    '車道劃分設施-分道設施-路面邊線名稱', '車道劃分設施-分向設施子類別名稱', '道路型態子類別名稱',\n",
    "    '速限-第1當事者', '道路類別-第1當事者-名稱', 'facility', 'COUNTYNAME'\n",
    "    ]\n",
    "cause = ['肇因研判子類別名稱-主要']\n",
    "result = ['事故類型及型態子類別名稱']\n",
    "\n",
    "white_list = [\n",
    "    ('速限-第1當事者', '肇因研判子類別名稱-主要'),\n",
    "    ('道路類別-第1當事者-名稱', '肇因研判子類別名稱-主要'),\n",
    "    ('道路型態子類別名稱', '肇因研判子類別名稱-主要'),\n",
    "    ('facility', '肇因研判子類別名稱-主要'),\n",
    "    ('號誌-號誌種類名稱', '肇因研判子類別名稱-主要'),\n",
    "]\n",
    "\n",
    "black_list = []\n",
    "# cause -> parent\n",
    "black_list += [(c, p) for c in cause for p in parent]\n",
    "# result -> parent/cause\n",
    "black_list += [(r, x) for r in result for x in (parent + cause + result)]"
   ]
  },
  {
   "cell_type": "code",
   "execution_count": null,
   "id": "a2181157",
   "metadata": {},
   "outputs": [],
   "source": [
    "model_all, model_param_all, model_independence_all = get_model(data, black_list=black_list, white_list=white_list)\n",
    "# draw_bn_plotly(model_independence_all, layout_algo='spring', en=False, width=600, height=400, seed=42, iter=30)"
   ]
  },
  {
   "cell_type": "code",
   "execution_count": null,
   "id": "b8f96989",
   "metadata": {},
   "outputs": [],
   "source": [
    "parent = ['速限-第1當事者', '道路類別-第1當事者-名稱', '道路型態子類別名稱', 'facility', '號誌-號誌種類名稱']\n",
    "child = '肇因研判子類別名稱-主要'\n",
    "evidence_v = list(data['肇因研判子類別名稱-主要'].value_counts().head(5).index)"
   ]
  },
  {
   "cell_type": "code",
   "execution_count": null,
   "id": "f227cb90",
   "metadata": {},
   "outputs": [],
   "source": [
    "CPDs = bn.print_CPD(model_param_all)\n",
    "dfprob_cause = CPDs[child]\n",
    "filtered = cpd_add_n(parent, child, dfprob_cause, data, threshold=0)"
   ]
  },
  {
   "cell_type": "code",
   "execution_count": null,
   "id": "816c4cf4",
   "metadata": {},
   "outputs": [],
   "source": [
    "filtered_n = filtered[filtered['n'] > 0]\n",
    "filtered_n.sort_values(by=['號誌-號誌種類名稱', '速限-第1當事者', '道路型態子類別名稱', 'facility', 'p'], ascending=False, inplace=True)\n",
    "\n",
    "filtered_n['total_n'] = (\n",
    "    filtered_n\n",
    "    .groupby(parent)['n']\n",
    "    .transform('sum')\n",
    ")\n",
    "\n",
    "filtered_n.sort_values(by=['total_n', 'p'], ascending=False, inplace=True)\n",
    "\n",
    "# check_sum must be around 1\n",
    "# check_sum = (filtered_n.groupby(parent)['p'].sum())\n",
    "# check_sum"
   ]
  },
  {
   "cell_type": "code",
   "execution_count": null,
   "id": "aa5fe1bb",
   "metadata": {},
   "outputs": [],
   "source": [
    "filtered_n = filtered_n[parent + ['肇因研判子類別名稱-主要', 'p', 'n', 'total_n']]\n",
    "filtered_n.sort_values(by=parent + ['肇因研判子類別名稱-主要'], ascending=False, inplace=False)\n",
    "filtered_n"
   ]
  },
  {
   "cell_type": "markdown",
   "id": "578d3a09",
   "metadata": {},
   "source": [
    "### 找出「有設施」與「無設施」在各種道路組合下的差異"
   ]
  },
  {
   "cell_type": "code",
   "execution_count": null,
   "id": "525ba692",
   "metadata": {},
   "outputs": [],
   "source": [
    "import numpy as np\n",
    "design = ['道路類別-第1當事者-名稱', '號誌-號誌種類名稱', '速限-第1當事者', '道路型態子類別名稱']\n",
    "df = filtered_n.copy()\n",
    "df['facility'] = df['facility'].astype(int)\n",
    "\n",
    "# 對「道路組合 + facility」把 n 加總\n",
    "g = (df.groupby(design + ['facility'])['n']\n",
    "       .sum()\n",
    "       .unstack('facility', fill_value=0)\n",
    "       .rename(columns={0: 'facility_0', 1: 'facility_1'})\n",
    "    )\n",
    "\n",
    "# P(facility=1 | 道路組合)\n",
    "g['total_n'] = g['facility_0'] + g['facility_1']\n",
    "g['Facility_P'] = g['facility_1'] / (g['total_n']).replace(0, np.nan)\n",
    "\n",
    "g = g.reset_index()\n",
    "g = g[(g['total_n'] > 0) &\n",
    "      (g['Facility_P'] > 0.1)]\n",
    "g.sort_values(by='Facility_P', ascending=False, inplace=True)\n",
    "g_hotspot = filter_cpd_for_hotspot(g)"
   ]
  },
  {
   "cell_type": "code",
   "execution_count": null,
   "id": "0c34c85f",
   "metadata": {},
   "outputs": [],
   "source": [
    "g_hotspot"
   ]
  },
  {
   "cell_type": "code",
   "execution_count": null,
   "id": "3b86ee4a",
   "metadata": {},
   "outputs": [],
   "source": [
    "g_hotspot = g_hotspot[['號誌-號誌種類名稱', '速限-第1當事者', '道路型態子類別名稱', 'Facility_P', 'total_n']]\n",
    "g_hotspot.sort_values(by=['號誌-號誌種類名稱', '速限-第1當事者', 'Facility_P'], ascending=False, inplace=True)\n",
    "g_hotspot['Facility_P'] = g_hotspot['Facility_P'].round(3)\n",
    "# g_hotspot = g_hotspot[g_hotspot['total_n']>100]\n",
    "\n",
    "for col in ['號誌-號誌種類名稱', '道路型態子類別名稱']:\n",
    "    g_hotspot[col] = g_hotspot[col].map(category_value_map[col])\n",
    "g_hotspot.rename(columns=feature_name_map, inplace=True)\n",
    "\n",
    "# g_hotspot.to_excel(f'../{computeddata}/Behaviour/Behaviour_hotspot.xlsx', index=False)"
   ]
  },
  {
   "cell_type": "code",
   "execution_count": 37,
   "id": "4ecfa207",
   "metadata": {},
   "outputs": [
    {
     "data": {
      "application/vnd.microsoft.datawrangler.viewer.v0+json": {
       "columns": [
        {
         "name": "index",
         "rawType": "int64",
         "type": "integer"
        },
        {
         "name": "Traffic signal type",
         "rawType": "object",
         "type": "string"
        },
        {
         "name": "Speed limit (Party 1)",
         "rawType": "object",
         "type": "string"
        },
        {
         "name": "Road type (subcategory)",
         "rawType": "object",
         "type": "string"
        },
        {
         "name": "Facility_P",
         "rawType": "float64",
         "type": "float"
        },
        {
         "name": "total_n",
         "rawType": "int64",
         "type": "integer"
        }
       ],
       "ref": "fc736db0-cb27-4903-a6fc-5298e1b1126e",
       "rows": [
        [
         "754",
         "Flashing signal",
         "40-49",
         "Roundabout",
         "1.0",
         "20"
        ],
        [
         "528",
         "No signal",
         "50-59",
         "Roundabout",
         "0.472",
         "521"
        ],
        [
         "703",
         "Traffic control signal (with pedestrian-only signal)",
         "50-59",
         "Roundabout",
         "0.408",
         "49"
        ],
        [
         "615",
         "Traffic control signal",
         "40-49",
         "Roundabout",
         "0.333",
         "12"
        ],
        [
         "498",
         "No signal",
         "30-39",
         "Roundabout",
         "0.328",
         "58"
        ],
        [
         "627",
         "Traffic control signal",
         "50-59",
         "Roundabout",
         "0.287",
         "87"
        ],
        [
         "513",
         "No signal",
         "40-49",
         "Roundabout",
         "0.136",
         "191"
        ]
       ],
       "shape": {
        "columns": 5,
        "rows": 7
       }
      },
      "text/html": [
       "<div>\n",
       "<style scoped>\n",
       "    .dataframe tbody tr th:only-of-type {\n",
       "        vertical-align: middle;\n",
       "    }\n",
       "\n",
       "    .dataframe tbody tr th {\n",
       "        vertical-align: top;\n",
       "    }\n",
       "\n",
       "    .dataframe thead th {\n",
       "        text-align: right;\n",
       "    }\n",
       "</style>\n",
       "<table border=\"1\" class=\"dataframe\">\n",
       "  <thead>\n",
       "    <tr style=\"text-align: right;\">\n",
       "      <th>facility</th>\n",
       "      <th>Traffic signal type</th>\n",
       "      <th>Speed limit (Party 1)</th>\n",
       "      <th>Road type (subcategory)</th>\n",
       "      <th>Facility_P</th>\n",
       "      <th>total_n</th>\n",
       "    </tr>\n",
       "  </thead>\n",
       "  <tbody>\n",
       "    <tr>\n",
       "      <th>754</th>\n",
       "      <td>Flashing signal</td>\n",
       "      <td>40-49</td>\n",
       "      <td>Roundabout</td>\n",
       "      <td>1.000</td>\n",
       "      <td>20</td>\n",
       "    </tr>\n",
       "    <tr>\n",
       "      <th>528</th>\n",
       "      <td>No signal</td>\n",
       "      <td>50-59</td>\n",
       "      <td>Roundabout</td>\n",
       "      <td>0.472</td>\n",
       "      <td>521</td>\n",
       "    </tr>\n",
       "    <tr>\n",
       "      <th>703</th>\n",
       "      <td>Traffic control signal (with pedestrian-only s...</td>\n",
       "      <td>50-59</td>\n",
       "      <td>Roundabout</td>\n",
       "      <td>0.408</td>\n",
       "      <td>49</td>\n",
       "    </tr>\n",
       "    <tr>\n",
       "      <th>615</th>\n",
       "      <td>Traffic control signal</td>\n",
       "      <td>40-49</td>\n",
       "      <td>Roundabout</td>\n",
       "      <td>0.333</td>\n",
       "      <td>12</td>\n",
       "    </tr>\n",
       "    <tr>\n",
       "      <th>498</th>\n",
       "      <td>No signal</td>\n",
       "      <td>30-39</td>\n",
       "      <td>Roundabout</td>\n",
       "      <td>0.328</td>\n",
       "      <td>58</td>\n",
       "    </tr>\n",
       "    <tr>\n",
       "      <th>627</th>\n",
       "      <td>Traffic control signal</td>\n",
       "      <td>50-59</td>\n",
       "      <td>Roundabout</td>\n",
       "      <td>0.287</td>\n",
       "      <td>87</td>\n",
       "    </tr>\n",
       "    <tr>\n",
       "      <th>513</th>\n",
       "      <td>No signal</td>\n",
       "      <td>40-49</td>\n",
       "      <td>Roundabout</td>\n",
       "      <td>0.136</td>\n",
       "      <td>191</td>\n",
       "    </tr>\n",
       "  </tbody>\n",
       "</table>\n",
       "</div>"
      ],
      "text/plain": [
       "facility                                Traffic signal type  \\\n",
       "754                                         Flashing signal   \n",
       "528                                               No signal   \n",
       "703       Traffic control signal (with pedestrian-only s...   \n",
       "615                                  Traffic control signal   \n",
       "498                                               No signal   \n",
       "627                                  Traffic control signal   \n",
       "513                                               No signal   \n",
       "\n",
       "facility Speed limit (Party 1) Road type (subcategory)  Facility_P  total_n  \n",
       "754                      40-49              Roundabout       1.000       20  \n",
       "528                      50-59              Roundabout       0.472      521  \n",
       "703                      50-59              Roundabout       0.408       49  \n",
       "615                      40-49              Roundabout       0.333       12  \n",
       "498                      30-39              Roundabout       0.328       58  \n",
       "627                      50-59              Roundabout       0.287       87  \n",
       "513                      40-49              Roundabout       0.136      191  "
      ]
     },
     "execution_count": 37,
     "metadata": {},
     "output_type": "execute_result"
    }
   ],
   "source": [
    "g_hotspot[(g_hotspot['Road type (subcategory)'] == 'Roundabout') &\n",
    "          (g_hotspot['total_n'] > 10)\n",
    "          ].sort_values(by='Facility_P', ascending=False)"
   ]
  },
  {
   "cell_type": "markdown",
   "id": "d1bda9d1",
   "metadata": {},
   "source": [
    "### 去掉肇因重新分析\n",
    "他的效果和BehaviourV2_hotspot相似，都是找出有設施的機率"
   ]
  },
  {
   "cell_type": "code",
   "execution_count": null,
   "id": "0238e9fa",
   "metadata": {},
   "outputs": [],
   "source": [
    "parent = [\n",
    "    '號誌-號誌種類名稱', '號誌-號誌動作名稱','車道劃分設施-分道設施-快車道或一般車道間名稱', '車道劃分設施-分道設施-快慢車道間名稱',\n",
    "    '車道劃分設施-分道設施-路面邊線名稱', '車道劃分設施-分向設施子類別名稱', '道路型態子類別名稱',\n",
    "    '速限-第1當事者', '道路類別-第1當事者-名稱', 'facility', 'COUNTYNAME'\n",
    "    ]\n",
    "cause = ['facility']\n",
    "result = ['事故類型及型態子類別名稱']\n",
    "\n",
    "white_list = [\n",
    "    ('速限-第1當事者', 'facility'),\n",
    "    ('道路類別-第1當事者-名稱', 'facility'),\n",
    "    ('道路型態子類別名稱', 'facility'),\n",
    "    ('號誌-號誌種類名稱', 'facility'),\n",
    "]\n",
    "\n",
    "black_list = []\n",
    "# cause -> parent\n",
    "black_list += [(c, p) for c in cause for p in parent]\n",
    "# result -> parent/cause\n",
    "black_list += [(r, x) for r in result for x in (parent + cause + result)]\n",
    "\n",
    "model_all, model_param_all, model_independence_all = get_model(data, black_list=black_list, white_list=white_list)"
   ]
  },
  {
   "cell_type": "code",
   "execution_count": null,
   "id": "ea43da85",
   "metadata": {},
   "outputs": [],
   "source": [
    "parent = ['速限-第1當事者', '道路類別-第1當事者-名稱', '道路型態子類別名稱', '號誌-號誌種類名稱']\n",
    "child = 'facility'\n",
    "evidence_v = list(data['facility'].value_counts().head(5).index)\n",
    "CPDs = bn.print_CPD(model_param_all)\n",
    "dfprob_cause = CPDs[child]\n",
    "filtered = cpd_add_n(parent, child, dfprob_cause, data, threshold=0)\n",
    "\n",
    "hotspot = filter_cpd_for_hotspot(filtered)\n",
    "hotspot = hotspot[(hotspot['p'] > 0.1) & (hotspot['n'] > 100)]"
   ]
  },
  {
   "cell_type": "code",
   "execution_count": null,
   "id": "b82e46ae",
   "metadata": {},
   "outputs": [],
   "source": [
    "filtered_0 = hotspot[(hotspot['facility'] == '0')].sort_values(by=['p'], ascending=False)#.head(10)\n",
    "filtered_1 = hotspot[(hotspot['facility'] == '1')].sort_values(by=['p'], ascending=False)#.head(10)\n",
    "full_filter = pd.concat([filtered_0, filtered_1], axis=0)\n",
    "full_filter.sort_values(by=['facility', '號誌-號誌種類名稱', '速限-第1當事者', 'p'], ascending=False, inplace=True)\n",
    "full_filter\n",
    "# for col in ['道路類別-第1當事者-名稱', '道路型態子類別名稱', '號誌-號誌種類名稱']:\n",
    "#     full_filter[col] = full_filter[col].map(category_value_map[col])\n",
    "# full_filter.rename(columns=feature_name_map, inplace=True)\n",
    "# full_filter.to_excel(f'../{computeddata}/Behaviour/Origin_outlierV2.xlsx', index=False)"
   ]
  }
 ],
 "metadata": {
  "kernelspec": {
   "display_name": "ST-RTA",
   "language": "python",
   "name": "python3"
  },
  "language_info": {
   "codemirror_mode": {
    "name": "ipython",
    "version": 3
   },
   "file_extension": ".py",
   "mimetype": "text/x-python",
   "name": "python",
   "nbconvert_exporter": "python",
   "pygments_lexer": "ipython3",
   "version": "3.9.21"
  }
 },
 "nbformat": 4,
 "nbformat_minor": 5
}
