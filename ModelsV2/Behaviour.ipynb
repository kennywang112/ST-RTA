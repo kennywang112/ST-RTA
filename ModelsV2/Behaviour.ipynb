{
 "cells": [
  {
   "cell_type": "markdown",
   "id": "d06319a9",
   "metadata": {},
   "source": [
    "分析改用特定道路組合下為有設施的機率"
   ]
  },
  {
   "cell_type": "code",
   "execution_count": null,
   "id": "465d341e",
   "metadata": {},
   "outputs": [],
   "source": [
    "import os\n",
    "import pandas as pd\n",
    "import bnlearn as bn\n",
    "import matplotlib.pyplot as plt\n",
    "plt.rcParams['font.family'] = ['Arial Unicode Ms']\n",
    "\n",
    "current_dir = os.getcwd()\n",
    "parent_dir = os.path.dirname(current_dir)\n",
    "analyze_path = os.path.join(parent_dir, \"utils\")\n",
    "\n",
    "os.chdir(analyze_path)"
   ]
  },
  {
   "cell_type": "code",
   "execution_count": null,
   "id": "7082fed2",
   "metadata": {},
   "outputs": [],
   "source": [
    "# This is from TDAv2\n",
    "combined_data = pd.read_csv('../ComputedData/ForModel/combined_data_with_hotspot.csv')\n",
    "combined_data.shape"
   ]
  },
  {
   "cell_type": "code",
   "execution_count": null,
   "id": "7a2badf5",
   "metadata": {},
   "outputs": [],
   "source": [
    "select_group = [\n",
    "    # 號誌\n",
    "    '號誌-號誌種類名稱', '號誌-號誌動作名稱',\n",
    "\n",
    "    # 車道劃分\n",
    "    '車道劃分設施-分道設施-快車道或一般車道間名稱',\n",
    "    '車道劃分設施-分道設施-快慢車道間名稱', '車道劃分設施-分道設施-路面邊線名稱',\n",
    "\n",
    "    # 大類別\n",
    "    '事故類型及型態子類別名稱', '車道劃分設施-分向設施子類別名稱',\n",
    "    '道路型態子類別名稱',\n",
    "\n",
    "    # 其他\n",
    "    '速限-第1當事者',\n",
    "    '道路類別-第1當事者-名稱',\n",
    "\n",
    "    # 設施\n",
    "    'youbike_100m_count',\n",
    "    \n",
    "    # 駕駛、行人行為\n",
    "    '肇因研判子類別名稱-主要',\n",
    "\n",
    "    'COUNTYNAME'\n",
    "    ]\n",
    "\n",
    "data = combined_data[select_group].copy()\n",
    "data['facility'] = data[['youbike_100m_count']].apply(lambda row: '1' if (row > 0).any() else '0', axis=1)\n",
    "data.drop(columns=['youbike_100m_count'], inplace=True)\n",
    "\n",
    "max_speed = data['速限-第1當事者'].max()\n",
    "bins = range(0, int(max_speed) + 11, 10)\n",
    "\n",
    "data['速限-第1當事者'] = pd.cut(\n",
    "    data['速限-第1當事者'],\n",
    "    bins=bins,\n",
    "    right=False, \n",
    "    include_lowest=True,\n",
    "    labels=[f\"{i}-{i+9}\" for i in bins[:-1]]\n",
    ")"
   ]
  },
  {
   "cell_type": "code",
   "execution_count": null,
   "id": "d39f81e5",
   "metadata": {},
   "outputs": [],
   "source": [
    "parent = [\n",
    "    '號誌-號誌種類名稱', '號誌-號誌動作名稱','車道劃分設施-分道設施-快車道或一般車道間名稱', '車道劃分設施-分道設施-快慢車道間名稱',\n",
    "    '車道劃分設施-分道設施-路面邊線名稱', '車道劃分設施-分向設施子類別名稱', '道路型態子類別名稱',\n",
    "    '速限-第1當事者', '道路類別-第1當事者-名稱', 'facility', 'COUNTYNAME'\n",
    "    ]\n",
    "cause = ['肇因研判子類別名稱-主要']\n",
    "result = ['事故類型及型態子類別名稱']\n",
    "\n",
    "white_list = [\n",
    "    ('速限-第1當事者', '肇因研判子類別名稱-主要'),\n",
    "    ('道路類別-第1當事者-名稱', '肇因研判子類別名稱-主要'),\n",
    "    ('道路型態子類別名稱', '肇因研判子類別名稱-主要'),\n",
    "    ('facility', '肇因研判子類別名稱-主要'),\n",
    "    ('號誌-號誌種類名稱', '肇因研判子類別名稱-主要'),\n",
    "]\n",
    "\n",
    "black_list = []\n",
    "# cause -> parent\n",
    "black_list += [(c, p) for c in cause for p in parent]\n",
    "# result -> parent/cause\n",
    "black_list += [(r, x) for r in result for x in (parent + cause + result)]"
   ]
  },
  {
   "cell_type": "code",
   "execution_count": null,
   "id": "a2181157",
   "metadata": {},
   "outputs": [],
   "source": [
    "def get_model(dt):\n",
    "    # 學哪些變數之間有邊，結果是一個DAG\n",
    "    model = bn.structure_learning.fit(dt, methodtype='hc', scoretype='bic', bw_list_method='edges',\n",
    "                                    # 肇因對於事故類型一定是上游。ex. 不會因為撞路樹而造成患病，而是因為患病才造成撞路樹\n",
    "                                    black_list=black_list, white_list=white_list,\n",
    "                                    fixed_edges=white_list, max_indegree=None)\n",
    "    # 計算每個節點的 條件機率表 (CPT, Conditional Probability Table)\n",
    "    model_param = bn.parameter_learning.fit(model, dt, scoretype='bdeu', methodtype='bayes')\n",
    "    # 計算邊緣強度，如果p小於顯著就是有相關\n",
    "    model_independence = bn.independence_test(model_param, dt, test='chi_square', prune=True)\n",
    "\n",
    "    return model, model_param, model_independence\n",
    "\n",
    "model_all, model_param_all, model_independence_all = get_model(data)"
   ]
  },
  {
   "cell_type": "code",
   "execution_count": null,
   "id": "c70cf1bb",
   "metadata": {},
   "outputs": [],
   "source": [
    "from utils_behaviour import draw_bn_plotly\n",
    "draw_bn_plotly(model_independence_all, layout_algo='spring', en=False, width=600, height=400, seed=42, iter=30)"
   ]
  },
  {
   "cell_type": "code",
   "execution_count": null,
   "id": "b8f96989",
   "metadata": {},
   "outputs": [],
   "source": [
    "from utils_behaviour import cpd_add_n, filter_cpd_for_hotspot, get_outlier\n",
    "from config import category_value_map, feature_name_map\n",
    "parent = ['速限-第1當事者', '道路類別-第1當事者-名稱', '道路型態子類別名稱', 'facility', '號誌-號誌種類名稱']\n",
    "child = '肇因研判子類別名稱-主要'\n",
    "evidence_v = list(data['肇因研判子類別名稱-主要'].value_counts().head(5).index)"
   ]
  },
  {
   "cell_type": "code",
   "execution_count": null,
   "id": "f227cb90",
   "metadata": {},
   "outputs": [],
   "source": [
    "CPDs = bn.print_CPD(model_param_all)\n",
    "dfprob_cause = CPDs[child]\n",
    "filtered = cpd_add_n(parent, child, dfprob_cause, data, threshold=0)"
   ]
  },
  {
   "cell_type": "code",
   "execution_count": 8,
   "id": "816c4cf4",
   "metadata": {},
   "outputs": [],
   "source": [
    "filtered_n = filtered[filtered['n'] > 0]\n",
    "filtered_n.sort_values(by=['號誌-號誌種類名稱', '速限-第1當事者', '道路型態子類別名稱', 'facility', 'p'], ascending=False, inplace=True)\n",
    "\n",
    "filtered_n['total_n'] = (\n",
    "    filtered_n\n",
    "    .groupby(parent)['n']\n",
    "    .transform('sum')\n",
    ")\n",
    "\n",
    "filtered_n.sort_values(by=['total_n', 'p'], ascending=False, inplace=True)"
   ]
  },
  {
   "cell_type": "code",
   "execution_count": 9,
   "id": "d2b0b98c",
   "metadata": {},
   "outputs": [
    {
     "data": {
      "application/vnd.microsoft.datawrangler.viewer.v0+json": {
       "columns": [
        {
         "name": "('速限-第1當事者', '道路類別-第1當事者-名稱', '道路型態子類別名稱', 'facility', '號誌-號誌種類名稱')",
         "rawType": "object",
         "type": "string"
        },
        {
         "name": "p",
         "rawType": "float64",
         "type": "float"
        }
       ],
       "ref": "6d34b3c2-10d2-4f6f-b4e0-a6468b76ff12",
       "rows": [
        [
         "('0-9', '其他', '三岔路', '0', '無號誌')",
         "0.9964"
        ],
        [
         "('0-9', '其他', '三岔路', '0', '行車管制號誌')",
         "0.9658"
        ],
        [
         "('0-9', '其他', '三岔路', '0', '閃光號誌')",
         "0.9331"
        ],
        [
         "('0-9', '其他', '三岔路', '1', '無號誌')",
         "0.9827"
        ],
        [
         "('0-9', '其他', '三岔路', '1', '行車管制號誌')",
         "0.9331"
        ],
        [
         "('0-9', '其他', '其他', '0', '無號誌')",
         "0.9996"
        ],
        [
         "('0-9', '其他', '其他', '0', '行車管制號誌')",
         "0.9863"
        ],
        [
         "('0-9', '其他', '其他', '0', '閃光號誌')",
         "0.9658"
        ],
        [
         "('0-9', '其他', '其他', '1', '無號誌')",
         "0.9989"
        ],
        [
         "('0-9', '其他', '其他', '1', '行車管制號誌')",
         "0.9887"
        ],
        [
         "('0-9', '其他', '四岔路', '0', '無號誌')",
         "0.9924999999999999"
        ],
        [
         "('0-9', '其他', '四岔路', '0', '行車管制號誌')",
         "0.9887"
        ],
        [
         "('0-9', '其他', '四岔路', '0', '行車管制號誌(附設行人專用號誌)')",
         "0.9331"
        ],
        [
         "('0-9', '其他', '四岔路', '0', '閃光號誌')",
         "0.9828"
        ],
        [
         "('0-9', '其他', '四岔路', '1', '無號誌')",
         "0.9331"
        ],
        [
         "('0-9', '其他', '四岔路', '1', '行車管制號誌')",
         "0.9771"
        ],
        [
         "('0-9', '其他', '坡路', '0', '無號誌')",
         "0.9331"
        ],
        [
         "('0-9', '其他', '多岔路', '0', '無號誌')",
         "0.9771"
        ],
        [
         "('0-9', '其他', '多岔路', '0', '行車管制號誌')",
         "0.9658"
        ],
        [
         "('0-9', '其他', '多岔路', '0', '行車管制號誌(附設行人專用號誌)')",
         "0.9331"
        ],
        [
         "('0-9', '其他', '廣場', '0', '無號誌')",
         "0.9331"
        ],
        [
         "('0-9', '其他', '廣場', '1', '無號誌')",
         "0.9331"
        ],
        [
         "('0-9', '其他', '彎曲路及附近', '0', '無號誌')",
         "0.9771"
        ],
        [
         "('0-9', '其他', '彎曲路及附近', '1', '無號誌')",
         "0.9331"
        ],
        [
         "('0-9', '其他', '橋樑', '0', '無號誌')",
         "0.9331"
        ],
        [
         "('0-9', '其他', '直路', '0', '無號誌')",
         "0.9995999999999999"
        ],
        [
         "('0-9', '其他', '直路', '0', '行車管制號誌')",
         "0.9887"
        ],
        [
         "('0-9', '其他', '直路', '1', '無號誌')",
         "0.9964000000000001"
        ],
        [
         "('0-9', '其他', '直路', '1', '行車管制號誌')",
         "0.9658"
        ],
        [
         "('0-9', '其他', '隧道', '0', '無號誌')",
         "0.9331"
        ],
        [
         "('0-9', '國道', '直路', '0', '無號誌')",
         "0.9944999999999999"
        ],
        [
         "('0-9', '專用道路', '三岔路', '0', '無號誌')",
         "0.9331"
        ],
        [
         "('0-9', '專用道路', '其他', '0', '無號誌')",
         "0.9771"
        ],
        [
         "('0-9', '專用道路', '四岔路', '0', '無號誌')",
         "0.9331"
        ],
        [
         "('0-9', '專用道路', '四岔路', '0', '行車管制號誌')",
         "0.9331"
        ],
        [
         "('0-9', '專用道路', '四岔路', '0', '行車管制號誌(附設行人專用號誌)')",
         "0.9331"
        ],
        [
         "('0-9', '專用道路', '彎曲路及附近', '0', '無號誌')",
         "0.9331"
        ],
        [
         "('0-9', '專用道路', '直路', '0', '無號誌')",
         "0.997"
        ],
        [
         "('0-9', '專用道路', '直路', '1', '無號誌')",
         "0.9771"
        ],
        [
         "('0-9', '市區道路', '三岔路', '0', '無號誌')",
         "0.9992"
        ],
        [
         "('0-9', '市區道路', '三岔路', '0', '行車管制號誌')",
         "0.9991"
        ],
        [
         "('0-9', '市區道路', '三岔路', '0', '行車管制號誌(附設行人專用號誌)')",
         "0.9978"
        ],
        [
         "('0-9', '市區道路', '三岔路', '0', '閃光號誌')",
         "0.9971"
        ],
        [
         "('0-9', '市區道路', '三岔路', '1', '無號誌')",
         "0.9993000000000001"
        ],
        [
         "('0-9', '市區道路', '三岔路', '1', '行車管制號誌')",
         "0.9985"
        ],
        [
         "('0-9', '市區道路', '三岔路', '1', '行車管制號誌(附設行人專用號誌)')",
         "0.9953"
        ],
        [
         "('0-9', '市區道路', '三岔路', '1', '閃光號誌')",
         "0.993"
        ],
        [
         "('0-9', '市區道路', '其他', '0', '無號誌')",
         "0.9994"
        ],
        [
         "('0-9', '市區道路', '其他', '0', '行車管制號誌(附設行人專用號誌)')",
         "0.9331"
        ],
        [
         "('0-9', '市區道路', '其他', '0', '閃光號誌')",
         "0.9658"
        ]
       ],
       "shape": {
        "columns": 1,
        "rows": 1931
       }
      },
      "text/plain": [
       "速限-第1當事者  道路類別-第1當事者-名稱  道路型態子類別名稱  facility  號誌-號誌種類名稱\n",
       "0-9       其他             三岔路        0         無號誌          0.9964\n",
       "                                              行車管制號誌       0.9658\n",
       "                                              閃光號誌         0.9331\n",
       "                                    1         無號誌          0.9827\n",
       "                                              行車管制號誌       0.9331\n",
       "                                                            ...  \n",
       "90-99     省道             彎曲路及附近     0         無號誌          0.9331\n",
       "                         直路         0         無號誌          0.9984\n",
       "                                              行車管制號誌       0.9331\n",
       "                         高架道路       0         無號誌          0.9954\n",
       "          縣道             直路         0         無號誌          0.9331\n",
       "Name: p, Length: 1931, dtype: float64"
      ]
     },
     "execution_count": 9,
     "metadata": {},
     "output_type": "execute_result"
    }
   ],
   "source": [
    "check_sum = (filtered_n.groupby(parent)['p'].sum())\n",
    "check_sum"
   ]
  },
  {
   "cell_type": "code",
   "execution_count": 10,
   "id": "aa5fe1bb",
   "metadata": {},
   "outputs": [
    {
     "data": {
      "application/vnd.microsoft.datawrangler.viewer.v0+json": {
       "columns": [
        {
         "name": "index",
         "rawType": "int64",
         "type": "integer"
        },
        {
         "name": "道路類別-第1當事者-名稱",
         "rawType": "object",
         "type": "string"
        },
        {
         "name": "號誌-號誌種類名稱",
         "rawType": "object",
         "type": "string"
        },
        {
         "name": "速限-第1當事者",
         "rawType": "object",
         "type": "string"
        },
        {
         "name": "道路型態子類別名稱",
         "rawType": "object",
         "type": "string"
        },
        {
         "name": "肇因研判子類別名稱-主要",
         "rawType": "object",
         "type": "string"
        },
        {
         "name": "facility",
         "rawType": "object",
         "type": "string"
        },
        {
         "name": "p",
         "rawType": "float64",
         "type": "float"
        },
        {
         "name": "n",
         "rawType": "int64",
         "type": "integer"
        },
        {
         "name": "total_n",
         "rawType": "int64",
         "type": "integer"
        }
       ],
       "ref": "69261fd5-5465-4a60-8b78-c7e6c7511270",
       "rows": [
        [
         "623208",
         "市區道路",
         "無號誌",
         "50-59",
         "直路",
         "未保持行車安全距離",
         "0",
         "0.1401",
         "5473",
         "39056"
        ],
        [
         "111720",
         "市區道路",
         "無號誌",
         "50-59",
         "直路",
         "其他不當駕車行為",
         "0",
         "0.1346",
         "5258",
         "39056"
        ],
        [
         "402024",
         "市區道路",
         "無號誌",
         "50-59",
         "直路",
         "恍神、緊張、心不在焉分心駕駛",
         "0",
         "0.1076",
         "4202",
         "39056"
        ],
        [
         "996456",
         "市區道路",
         "無號誌",
         "50-59",
         "直路",
         "起步時未注意安全",
         "0",
         "0.0763",
         "2981",
         "39056"
        ],
        [
         "637032",
         "市區道路",
         "無號誌",
         "50-59",
         "直路",
         "未保持行車安全間隔",
         "0",
         "0.0541",
         "2114",
         "39056"
        ],
        [
         "319080",
         "市區道路",
         "無號誌",
         "50-59",
         "直路",
         "尚未發現肇事因素",
         "0",
         "0.0527",
         "2060",
         "39056"
        ],
        [
         "153192",
         "市區道路",
         "無號誌",
         "50-59",
         "直路",
         "其他未依規定讓車",
         "0",
         "0.0456",
         "1782",
         "39056"
        ],
        [
         "1176168",
         "市區道路",
         "無號誌",
         "50-59",
         "直路",
         "迴轉未依規定",
         "0",
         "0.0441",
         "1722",
         "39056"
        ],
        [
         "982632",
         "市區道路",
         "無號誌",
         "50-59",
         "直路",
         "變換車道不當",
         "0",
         "0.044",
         "1717",
         "39056"
        ],
        [
         "360552",
         "市區道路",
         "無號誌",
         "50-59",
         "直路",
         "左轉彎未依規定",
         "0",
         "0.0252",
         "983",
         "39056"
        ],
        [
         "1231464",
         "市區道路",
         "無號誌",
         "50-59",
         "直路",
         "違反其他標誌(線)禁制",
         "0",
         "0.0244",
         "953",
         "39056"
        ],
        [
         "1494120",
         "市區道路",
         "無號誌",
         "50-59",
         "直路",
         "開啟或關閉車門不當",
         "0",
         "0.0189",
         "737",
         "39056"
        ],
        [
         "222312",
         "市區道路",
         "無號誌",
         "50-59",
         "直路",
         "右轉彎未依規定",
         "0",
         "0.0169",
         "660",
         "39056"
        ],
        [
         "1189992",
         "市區道路",
         "無號誌",
         "50-59",
         "直路",
         "逆向行駛",
         "0",
         "0.0144",
         "564",
         "39056"
        ],
        [
         "84072",
         "市區道路",
         "無號誌",
         "50-59",
         "直路",
         "倒車未依規定",
         "0",
         "0.0141",
         "552",
         "39056"
        ],
        [
         "1051752",
         "市區道路",
         "無號誌",
         "50-59",
         "直路",
         "車輛或機械操作不當(慎)",
         "0",
         "0.0136",
         "533",
         "39056"
        ],
        [
         "1466472",
         "市區道路",
         "無號誌",
         "50-59",
         "直路",
         "酒醉(後)駕駛",
         "0",
         "0.012",
         "470",
         "39056"
        ],
        [
         "1452648",
         "市區道路",
         "無號誌",
         "50-59",
         "直路",
         "違規超車",
         "0",
         "0.0117",
         "457",
         "39056"
        ],
        [
         "968808",
         "市區道路",
         "無號誌",
         "50-59",
         "直路",
         "觀看其他事故、活動、道路環境或車外資訊分心駕駛",
         "0",
         "0.0114",
         "446",
         "39056"
        ],
        [
         "719976",
         "市區道路",
         "無號誌",
         "50-59",
         "直路",
         "橫越道路不慎",
         "0",
         "0.0112",
         "436",
         "39056"
        ],
        [
         "858216",
         "市區道路",
         "無號誌",
         "50-59",
         "直路",
         "相關跡證不足且無具體影像紀錄，當事人各執一詞，經分析後無法釐清肇事原因",
         "0",
         "0.0111",
         "433",
         "39056"
        ],
        [
         "540264",
         "市區道路",
         "無號誌",
         "50-59",
         "直路",
         "未依標誌或標線穿越道路",
         "0",
         "0.0092",
         "358",
         "39056"
        ],
        [
         "595560",
         "市區道路",
         "無號誌",
         "50-59",
         "直路",
         "未依規定減速",
         "0",
         "0.0082",
         "321",
         "39056"
        ],
        [
         "1480296",
         "市區道路",
         "無號誌",
         "50-59",
         "直路",
         "閃避不當(慎)",
         "0",
         "0.0082",
         "319",
         "39056"
        ],
        [
         "471144",
         "市區道路",
         "無號誌",
         "50-59",
         "直路",
         "方向不定(不包括危險駕車)",
         "0",
         "0.0078",
         "303",
         "39056"
        ],
        [
         "885864",
         "市區道路",
         "無號誌",
         "50-59",
         "直路",
         "肇事逃逸未查獲，無法查明肇因",
         "0",
         "0.0069",
         "271",
         "39056"
        ],
        [
         "1314408",
         "市區道路",
         "無號誌",
         "50-59",
         "直路",
         "違反禁止超車標誌(線)",
         "0",
         "0.0069",
         "270",
         "39056"
        ],
        [
         "415848",
         "市區道路",
         "無號誌",
         "50-59",
         "直路",
         "患病或服用藥物(疲勞)駕駛",
         "0",
         "0.0069",
         "269",
         "39056"
        ],
        [
         "429672",
         "市區道路",
         "無號誌",
         "50-59",
         "直路",
         "打瞌睡或疲勞駕駛(包括連續駕車8小時)",
         "0",
         "0.0052",
         "202",
         "39056"
        ],
        [
         "872040",
         "市區道路",
         "無號誌",
         "50-59",
         "直路",
         "穿越道路未注意左右來車",
         "0",
         "0.0043",
         "168",
         "39056"
        ],
        [
         "1328232",
         "市區道路",
         "無號誌",
         "50-59",
         "直路",
         "違反禁止迴轉或迴車標誌",
         "0",
         "0.004",
         "155",
         "39056"
        ],
        [
         "1438824",
         "市區道路",
         "無號誌",
         "50-59",
         "直路",
         "違規(臨時)停車",
         "0",
         "0.0033",
         "129",
         "39056"
        ],
        [
         "97896",
         "市區道路",
         "無號誌",
         "50-59",
         "直路",
         "停車操作時未注意安全",
         "0",
         "0.0033",
         "128",
         "39056"
        ],
        [
         "249960",
         "市區道路",
         "無號誌",
         "50-59",
         "直路",
         "因光線、視線遮蔽致生事故",
         "0",
         "0.0028",
         "108",
         "39056"
        ],
        [
         "581736",
         "市區道路",
         "無號誌",
         "50-59",
         "直路",
         "未依規定使用燈光",
         "0",
         "0.0024",
         "95",
         "39056"
        ],
        [
         "139368",
         "市區道路",
         "無號誌",
         "50-59",
         "直路",
         "其他引起事故之疏失或行為",
         "0",
         "0.0024",
         "93",
         "39056"
        ],
        [
         "1079400",
         "市區道路",
         "無號誌",
         "50-59",
         "直路",
         "車輛未依規定暫停讓行人先行",
         "0",
         "0.0023",
         "89",
         "39056"
        ],
        [
         "954984",
         "市區道路",
         "無號誌",
         "50-59",
         "直路",
         "裝載貨物不穩妥",
         "0",
         "0.0022",
         "87",
         "39056"
        ],
        [
         "1411176",
         "市區道路",
         "無號誌",
         "50-59",
         "直路",
         "違反遵行方向標誌(線)",
         "0",
         "0.002",
         "80",
         "39056"
        ],
        [
         "1024104",
         "市區道路",
         "無號誌",
         "50-59",
         "直路",
         "超速駕駛",
         "0",
         "0.002",
         "77",
         "39056"
        ],
        [
         "1549416",
         "市區道路",
         "無號誌",
         "50-59",
         "直路",
         "飲食、抽(點)菸、拿(撿)物品分心駕駛",
         "0",
         "0.0019",
         "74",
         "39056"
        ],
        [
         "194664",
         "市區道路",
         "無號誌",
         "50-59",
         "直路",
         "動物竄出",
         "0",
         "0.0019",
         "73",
         "39056"
        ],
        [
         "706152",
         "市區道路",
         "無號誌",
         "50-59",
         "直路",
         "未靠右行駛",
         "0",
         "0.0018",
         "72",
         "39056"
        ],
        [
         "816744",
         "市區道路",
         "無號誌",
         "50-59",
         "直路",
         "爭(搶)道行駛",
         "0",
         "0.0018",
         "71",
         "39056"
        ],
        [
         "167016",
         "市區道路",
         "無號誌",
         "50-59",
         "直路",
         "其他機件失靈或故障",
         "0",
         "0.0017",
         "66",
         "39056"
        ],
        [
         "609384",
         "市區道路",
         "無號誌",
         "50-59",
         "直路",
         "未依規定行走地下道、天橋穿越道路",
         "0",
         "0.0012",
         "46",
         "39056"
        ],
        [
         "208488",
         "市區道路",
         "無號誌",
         "50-59",
         "直路",
         "危險駕駛",
         "0",
         "0.0012",
         "46",
         "39056"
        ],
        [
         "1134696",
         "市區道路",
         "無號誌",
         "50-59",
         "直路",
         "車輪脫落或輪胎爆裂",
         "0",
         "0.0012",
         "45",
         "39056"
        ],
        [
         "1300584",
         "市區道路",
         "無號誌",
         "50-59",
         "直路",
         "違反禁止變換車道標線",
         "0",
         "0.0011",
         "44",
         "39056"
        ],
        [
         "180840",
         "市區道路",
         "無號誌",
         "50-59",
         "直路",
         "其他裝載不當",
         "0",
         "0.001",
         "39",
         "39056"
        ]
       ],
       "shape": {
        "columns": 9,
        "rows": 19349
       }
      },
      "text/html": [
       "<div>\n",
       "<style scoped>\n",
       "    .dataframe tbody tr th:only-of-type {\n",
       "        vertical-align: middle;\n",
       "    }\n",
       "\n",
       "    .dataframe tbody tr th {\n",
       "        vertical-align: top;\n",
       "    }\n",
       "\n",
       "    .dataframe thead th {\n",
       "        text-align: right;\n",
       "    }\n",
       "</style>\n",
       "<table border=\"1\" class=\"dataframe\">\n",
       "  <thead>\n",
       "    <tr style=\"text-align: right;\">\n",
       "      <th></th>\n",
       "      <th>道路類別-第1當事者-名稱</th>\n",
       "      <th>號誌-號誌種類名稱</th>\n",
       "      <th>速限-第1當事者</th>\n",
       "      <th>道路型態子類別名稱</th>\n",
       "      <th>肇因研判子類別名稱-主要</th>\n",
       "      <th>facility</th>\n",
       "      <th>p</th>\n",
       "      <th>n</th>\n",
       "      <th>total_n</th>\n",
       "    </tr>\n",
       "  </thead>\n",
       "  <tbody>\n",
       "    <tr>\n",
       "      <th>623208</th>\n",
       "      <td>市區道路</td>\n",
       "      <td>無號誌</td>\n",
       "      <td>50-59</td>\n",
       "      <td>直路</td>\n",
       "      <td>未保持行車安全距離</td>\n",
       "      <td>0</td>\n",
       "      <td>0.1401</td>\n",
       "      <td>5473</td>\n",
       "      <td>39056</td>\n",
       "    </tr>\n",
       "    <tr>\n",
       "      <th>111720</th>\n",
       "      <td>市區道路</td>\n",
       "      <td>無號誌</td>\n",
       "      <td>50-59</td>\n",
       "      <td>直路</td>\n",
       "      <td>其他不當駕車行為</td>\n",
       "      <td>0</td>\n",
       "      <td>0.1346</td>\n",
       "      <td>5258</td>\n",
       "      <td>39056</td>\n",
       "    </tr>\n",
       "    <tr>\n",
       "      <th>402024</th>\n",
       "      <td>市區道路</td>\n",
       "      <td>無號誌</td>\n",
       "      <td>50-59</td>\n",
       "      <td>直路</td>\n",
       "      <td>恍神、緊張、心不在焉分心駕駛</td>\n",
       "      <td>0</td>\n",
       "      <td>0.1076</td>\n",
       "      <td>4202</td>\n",
       "      <td>39056</td>\n",
       "    </tr>\n",
       "    <tr>\n",
       "      <th>996456</th>\n",
       "      <td>市區道路</td>\n",
       "      <td>無號誌</td>\n",
       "      <td>50-59</td>\n",
       "      <td>直路</td>\n",
       "      <td>起步時未注意安全</td>\n",
       "      <td>0</td>\n",
       "      <td>0.0763</td>\n",
       "      <td>2981</td>\n",
       "      <td>39056</td>\n",
       "    </tr>\n",
       "    <tr>\n",
       "      <th>637032</th>\n",
       "      <td>市區道路</td>\n",
       "      <td>無號誌</td>\n",
       "      <td>50-59</td>\n",
       "      <td>直路</td>\n",
       "      <td>未保持行車安全間隔</td>\n",
       "      <td>0</td>\n",
       "      <td>0.0541</td>\n",
       "      <td>2114</td>\n",
       "      <td>39056</td>\n",
       "    </tr>\n",
       "    <tr>\n",
       "      <th>...</th>\n",
       "      <td>...</td>\n",
       "      <td>...</td>\n",
       "      <td>...</td>\n",
       "      <td>...</td>\n",
       "      <td>...</td>\n",
       "      <td>...</td>\n",
       "      <td>...</td>\n",
       "      <td>...</td>\n",
       "      <td>...</td>\n",
       "    </tr>\n",
       "    <tr>\n",
       "      <th>221209</th>\n",
       "      <td>縣道</td>\n",
       "      <td>無號誌</td>\n",
       "      <td>0-9</td>\n",
       "      <td>其他</td>\n",
       "      <td>右轉彎未依規定</td>\n",
       "      <td>0</td>\n",
       "      <td>0.9331</td>\n",
       "      <td>1</td>\n",
       "      <td>1</td>\n",
       "    </tr>\n",
       "    <tr>\n",
       "      <th>1230362</th>\n",
       "      <td>鄉道</td>\n",
       "      <td>無號誌</td>\n",
       "      <td>0-9</td>\n",
       "      <td>其他</td>\n",
       "      <td>違反其他標誌(線)禁制</td>\n",
       "      <td>0</td>\n",
       "      <td>0.9331</td>\n",
       "      <td>1</td>\n",
       "      <td>1</td>\n",
       "    </tr>\n",
       "    <tr>\n",
       "      <th>877831</th>\n",
       "      <td>縣道</td>\n",
       "      <td>無號誌</td>\n",
       "      <td>0-9</td>\n",
       "      <td>三岔路</td>\n",
       "      <td>穿越道路未注意左右來車</td>\n",
       "      <td>1</td>\n",
       "      <td>0.9331</td>\n",
       "      <td>1</td>\n",
       "      <td>1</td>\n",
       "    </tr>\n",
       "    <tr>\n",
       "      <th>1499909</th>\n",
       "      <td>村里道路</td>\n",
       "      <td>無號誌</td>\n",
       "      <td>0-9</td>\n",
       "      <td>三岔路</td>\n",
       "      <td>開啟或關閉車門不當</td>\n",
       "      <td>1</td>\n",
       "      <td>0.9331</td>\n",
       "      <td>1</td>\n",
       "      <td>1</td>\n",
       "    </tr>\n",
       "    <tr>\n",
       "      <th>110594</th>\n",
       "      <td>專用道路</td>\n",
       "      <td>無號誌</td>\n",
       "      <td>0-9</td>\n",
       "      <td>三岔路</td>\n",
       "      <td>其他不當駕車行為</td>\n",
       "      <td>0</td>\n",
       "      <td>0.9331</td>\n",
       "      <td>1</td>\n",
       "      <td>1</td>\n",
       "    </tr>\n",
       "  </tbody>\n",
       "</table>\n",
       "<p>19349 rows × 9 columns</p>\n",
       "</div>"
      ],
      "text/plain": [
       "        道路類別-第1當事者-名稱 號誌-號誌種類名稱 速限-第1當事者 道路型態子類別名稱    肇因研判子類別名稱-主要 facility  \\\n",
       "623208           市區道路       無號誌    50-59        直路       未保持行車安全距離        0   \n",
       "111720           市區道路       無號誌    50-59        直路        其他不當駕車行為        0   \n",
       "402024           市區道路       無號誌    50-59        直路  恍神、緊張、心不在焉分心駕駛        0   \n",
       "996456           市區道路       無號誌    50-59        直路        起步時未注意安全        0   \n",
       "637032           市區道路       無號誌    50-59        直路       未保持行車安全間隔        0   \n",
       "...               ...       ...      ...       ...             ...      ...   \n",
       "221209             縣道       無號誌      0-9        其他         右轉彎未依規定        0   \n",
       "1230362            鄉道       無號誌      0-9        其他     違反其他標誌(線)禁制        0   \n",
       "877831             縣道       無號誌      0-9       三岔路     穿越道路未注意左右來車        1   \n",
       "1499909          村里道路       無號誌      0-9       三岔路       開啟或關閉車門不當        1   \n",
       "110594           專用道路       無號誌      0-9       三岔路        其他不當駕車行為        0   \n",
       "\n",
       "              p     n  total_n  \n",
       "623208   0.1401  5473    39056  \n",
       "111720   0.1346  5258    39056  \n",
       "402024   0.1076  4202    39056  \n",
       "996456   0.0763  2981    39056  \n",
       "637032   0.0541  2114    39056  \n",
       "...         ...   ...      ...  \n",
       "221209   0.9331     1        1  \n",
       "1230362  0.9331     1        1  \n",
       "877831   0.9331     1        1  \n",
       "1499909  0.9331     1        1  \n",
       "110594   0.9331     1        1  \n",
       "\n",
       "[19349 rows x 9 columns]"
      ]
     },
     "execution_count": 10,
     "metadata": {},
     "output_type": "execute_result"
    }
   ],
   "source": [
    "filtered_n = filtered_n[['道路類別-第1當事者-名稱', '號誌-號誌種類名稱', '速限-第1當事者', '道路型態子類別名稱', '肇因研判子類別名稱-主要', 'facility', 'p', 'n', 'total_n']]\n",
    "filtered_n.sort_values(\n",
    "    by=['號誌-號誌種類名稱', '速限-第1當事者', '道路型態子類別名稱', '肇因研判子類別名稱-主要', '道路類別-第1當事者-名稱', 'facility'], \n",
    "    ascending=False, inplace=False)\n",
    "filtered_n"
   ]
  },
  {
   "cell_type": "code",
   "execution_count": 27,
   "id": "525ba692",
   "metadata": {},
   "outputs": [],
   "source": [
    "import numpy as np\n",
    "design = ['道路類別-第1當事者-名稱', '號誌-號誌種類名稱', '速限-第1當事者', '道路型態子類別名稱']\n",
    "df = filtered_n.copy()\n",
    "df['facility'] = df['facility'].astype(int)\n",
    "\n",
    "# 對「道路組合 + facility」把 n 加總\n",
    "g = (df.groupby(design + ['facility'])['n']\n",
    "       .sum()\n",
    "       .unstack('facility', fill_value=0)\n",
    "       .rename(columns={0: 'facility_0', 1: 'facility_1'})\n",
    "    )\n",
    "\n",
    "# P(facility=1 | 道路組合)\n",
    "g['total_n'] = g['facility_0'] + g['facility_1']\n",
    "g['Facility_P'] = g['facility_1'] / (g['total_n']).replace(0, np.nan)\n",
    "\n",
    "g = g.reset_index()\n",
    "g = g[(g['total_n'] > 0) &\n",
    "      (g['Facility_P'] > 0.1)]\n",
    "g.sort_values(by='Facility_P', ascending=False, inplace=True)\n",
    "g_hotspot = filter_cpd_for_hotspot(g)"
   ]
  },
  {
   "cell_type": "code",
   "execution_count": 16,
   "id": "3b86ee4a",
   "metadata": {},
   "outputs": [],
   "source": [
    "for_hotspot = ['號誌-號誌種類名稱', '速限-第1當事者', '道路型態子類別名稱', 'Facility_P']\n",
    "g_hotspot = g_hotspot[['號誌-號誌種類名稱', '速限-第1當事者', '道路型態子類別名稱', 'Facility_P', 'total_n']]\n",
    "g_hotspot.sort_values(by=['號誌-號誌種類名稱', '速限-第1當事者', 'Facility_P'], ascending=False, inplace=True)\n",
    "g_hotspot['Facility_P'] = g_hotspot['Facility_P'].round(3)\n",
    "for col in ['號誌-號誌種類名稱', '道路型態子類別名稱']:\n",
    "    g_hotspot[col] = g_hotspot[col].map(category_value_map[col])\n",
    "g_hotspot.rename(columns=feature_name_map, inplace=True)"
   ]
  },
  {
   "cell_type": "code",
   "execution_count": null,
   "id": "25e36926",
   "metadata": {},
   "outputs": [],
   "source": [
    "g_hotspot.to_excel('../ComputedData/Behaviour/BehaviourV2_hotspot.xlsx', index=False)"
   ]
  },
  {
   "cell_type": "markdown",
   "id": "d1bda9d1",
   "metadata": {},
   "source": [
    "## 去掉肇因重新分析\n",
    "他的效果和BehaviourV2_hotspot相似，都是找出有設施的機率"
   ]
  },
  {
   "cell_type": "code",
   "execution_count": null,
   "id": "0238e9fa",
   "metadata": {},
   "outputs": [],
   "source": [
    "parent = [\n",
    "    '號誌-號誌種類名稱', '號誌-號誌動作名稱','車道劃分設施-分道設施-快車道或一般車道間名稱', '車道劃分設施-分道設施-快慢車道間名稱',\n",
    "    '車道劃分設施-分道設施-路面邊線名稱', '車道劃分設施-分向設施子類別名稱', '道路型態子類別名稱',\n",
    "    '速限-第1當事者', '道路類別-第1當事者-名稱', 'facility', 'COUNTYNAME'\n",
    "    ]\n",
    "cause = ['facility']\n",
    "result = ['事故類型及型態子類別名稱']\n",
    "\n",
    "white_list = [\n",
    "    ('速限-第1當事者', 'facility'),\n",
    "    ('道路類別-第1當事者-名稱', 'facility'),\n",
    "    ('道路型態子類別名稱', 'facility'),\n",
    "    ('號誌-號誌種類名稱', 'facility'),\n",
    "]\n",
    "\n",
    "black_list = []\n",
    "# cause -> parent\n",
    "black_list += [(c, p) for c in cause for p in parent]\n",
    "# result -> parent/cause\n",
    "black_list += [(r, x) for r in result for x in (parent + cause + result)]"
   ]
  },
  {
   "cell_type": "code",
   "execution_count": null,
   "id": "8cff29ef",
   "metadata": {},
   "outputs": [],
   "source": [
    "def get_model(dt):\n",
    "    # 學哪些變數之間有邊，結果是一個DAG\n",
    "    model = bn.structure_learning.fit(dt, methodtype='hc', scoretype='bic', bw_list_method='edges',\n",
    "                                    # 肇因對於事故類型一定是上游。ex. 不會因為撞路樹而造成患病，而是因為患病才造成撞路樹\n",
    "                                    black_list=black_list, white_list=white_list,\n",
    "                                    fixed_edges=white_list, max_indegree=None)\n",
    "    # 計算每個節點的 條件機率表 (CPT, Conditional Probability Table)\n",
    "    model_param = bn.parameter_learning.fit(model, dt, scoretype='bdeu', methodtype='bayes')\n",
    "    # 計算邊緣強度，如果p小於顯著就是有相關\n",
    "    model_independence = bn.independence_test(model_param, dt, test='chi_square', prune=True)\n",
    "\n",
    "    return model, model_param, model_independence\n",
    "\n",
    "model_all, model_param_all, model_independence_all = get_model(data)"
   ]
  },
  {
   "cell_type": "code",
   "execution_count": null,
   "id": "a1351973",
   "metadata": {},
   "outputs": [],
   "source": [
    "from utils_behaviour import draw_bn_plotly\n",
    "draw_bn_plotly(model_independence_all, layout_algo='spring', en=False, width=600, height=400, seed=42, iter=30)"
   ]
  },
  {
   "cell_type": "code",
   "execution_count": null,
   "id": "ea43da85",
   "metadata": {},
   "outputs": [],
   "source": [
    "from utils_behaviour import cpd_add_n, filter_cpd_for_hotspot, get_outlier\n",
    "from config import category_value_map, feature_name_map\n",
    "parent = ['速限-第1當事者', '道路類別-第1當事者-名稱', '道路型態子類別名稱', '號誌-號誌種類名稱']\n",
    "child = 'facility'\n",
    "evidence_v = list(data['facility'].value_counts().head(5).index)\n",
    "CPDs = bn.print_CPD(model_param_all)\n",
    "dfprob_cause = CPDs[child]\n",
    "filtered = cpd_add_n(parent, child, dfprob_cause, data, threshold=0)"
   ]
  },
  {
   "cell_type": "code",
   "execution_count": null,
   "id": "bb905110",
   "metadata": {},
   "outputs": [],
   "source": [
    "hotspot = filter_cpd_for_hotspot(filtered)\n",
    "hotspot = hotspot[(hotspot['p'] > 0.1) &\n",
    "                  (hotspot['n'] > 100)]"
   ]
  },
  {
   "cell_type": "code",
   "execution_count": null,
   "id": "b82e46ae",
   "metadata": {},
   "outputs": [],
   "source": [
    "filtered_0 = hotspot[(hotspot['facility'] == '0')].sort_values(by=['p'], ascending=False)#.head(10)\n",
    "filtered_1 = hotspot[(hotspot['facility'] == '1')].sort_values(by=['p'], ascending=False)#.head(10)\n",
    "full_filter = pd.concat([filtered_0, filtered_1], axis=0)\n",
    "full_filter.sort_values(by=['facility', '號誌-號誌種類名稱', '速限-第1當事者', 'p'], ascending=False, inplace=True)\n",
    "full_filter\n",
    "# for col in ['道路類別-第1當事者-名稱', '道路型態子類別名稱', '號誌-號誌種類名稱']:\n",
    "#     full_filter[col] = full_filter[col].map(category_value_map[col])\n",
    "# full_filter.rename(columns=feature_name_map, inplace=True)\n",
    "# full_filter.to_excel(f'../ComputedData/Behaviour/Origin_outlierV2.xlsx', index=False)"
   ]
  },
  {
   "cell_type": "code",
   "execution_count": null,
   "id": "1e100722",
   "metadata": {},
   "outputs": [],
   "source": [
    "full_filter[\n",
    "    (full_filter['facility'] == '0') &\n",
    "    (full_filter['號誌-號誌種類名稱'] == '行車管制號誌(附設行人專用號誌)')\n",
    "]"
   ]
  }
 ],
 "metadata": {
  "kernelspec": {
   "display_name": "ST-RTA",
   "language": "python",
   "name": "python3"
  },
  "language_info": {
   "codemirror_mode": {
    "name": "ipython",
    "version": 3
   },
   "file_extension": ".py",
   "mimetype": "text/x-python",
   "name": "python",
   "nbconvert_exporter": "python",
   "pygments_lexer": "ipython3",
   "version": "3.9.21"
  }
 },
 "nbformat": 4,
 "nbformat_minor": 5
}
