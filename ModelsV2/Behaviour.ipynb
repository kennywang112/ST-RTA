{
 "cells": [
  {
   "cell_type": "markdown",
   "id": "d06319a9",
   "metadata": {},
   "source": [
    "分析改用特定道路組合下為有設施的機率"
   ]
  },
  {
   "cell_type": "code",
   "execution_count": null,
   "id": "465d341e",
   "metadata": {},
   "outputs": [],
   "source": [
    "import os\n",
    "import pandas as pd\n",
    "import bnlearn as bn\n",
    "import matplotlib.pyplot as plt\n",
    "plt.rcParams['font.family'] = ['Arial Unicode Ms']\n",
    "\n",
    "current_dir = os.getcwd()\n",
    "parent_dir = os.path.dirname(current_dir)\n",
    "analyze_path = os.path.join(parent_dir, \"utils\")\n",
    "\n",
    "os.chdir(analyze_path)"
   ]
  },
  {
   "cell_type": "code",
   "execution_count": null,
   "id": "7082fed2",
   "metadata": {},
   "outputs": [],
   "source": [
    "computeddata = 'ComputedDataV2'\n",
    "# This is from TDAv2\n",
    "combined_data = pd.read_csv(f'../{computeddata}/ForModel/combined_data_with_hotspot.csv')\n",
    "combined_data.shape"
   ]
  },
  {
   "cell_type": "code",
   "execution_count": null,
   "id": "7a2badf5",
   "metadata": {},
   "outputs": [],
   "source": [
    "select_group = [\n",
    "    # 號誌\n",
    "    '號誌-號誌種類名稱', '號誌-號誌動作名稱',\n",
    "\n",
    "    # 車道劃分\n",
    "    '車道劃分設施-分道設施-快車道或一般車道間名稱',\n",
    "    '車道劃分設施-分道設施-快慢車道間名稱', '車道劃分設施-分道設施-路面邊線名稱',\n",
    "\n",
    "    # 大類別\n",
    "    '事故類型及型態子類別名稱', '車道劃分設施-分向設施子類別名稱',\n",
    "    '道路型態子類別名稱',\n",
    "\n",
    "    # 其他\n",
    "    '速限-第1當事者',\n",
    "    '道路類別-第1當事者-名稱',\n",
    "\n",
    "    # 設施\n",
    "    'youbike_100m_count',\n",
    "    \n",
    "    # 駕駛、行人行為\n",
    "    '肇因研判子類別名稱-主要',\n",
    "\n",
    "    'COUNTYNAME'\n",
    "    ]\n",
    "\n",
    "data = combined_data[select_group].copy()\n",
    "data['facility'] = data[['youbike_100m_count']].apply(lambda row: '1' if (row > 0).any() else '0', axis=1)\n",
    "data.drop(columns=['youbike_100m_count'], inplace=True)\n",
    "\n",
    "max_speed = data['速限-第1當事者'].max()\n",
    "bins = range(0, int(max_speed) + 11, 10)\n",
    "\n",
    "data['速限-第1當事者'] = pd.cut(\n",
    "    data['速限-第1當事者'],\n",
    "    bins=bins,\n",
    "    right=False, \n",
    "    include_lowest=True,\n",
    "    labels=[f\"{i}-{i+9}\" for i in bins[:-1]]\n",
    ")"
   ]
  },
  {
   "cell_type": "code",
   "execution_count": null,
   "id": "d39f81e5",
   "metadata": {},
   "outputs": [],
   "source": [
    "parent = [\n",
    "    '號誌-號誌種類名稱', '號誌-號誌動作名稱','車道劃分設施-分道設施-快車道或一般車道間名稱', '車道劃分設施-分道設施-快慢車道間名稱',\n",
    "    '車道劃分設施-分道設施-路面邊線名稱', '車道劃分設施-分向設施子類別名稱', '道路型態子類別名稱',\n",
    "    '速限-第1當事者', '道路類別-第1當事者-名稱', 'facility', 'COUNTYNAME'\n",
    "    ]\n",
    "cause = ['肇因研判子類別名稱-主要']\n",
    "result = ['事故類型及型態子類別名稱']\n",
    "\n",
    "white_list = [\n",
    "    ('速限-第1當事者', '肇因研判子類別名稱-主要'),\n",
    "    ('道路類別-第1當事者-名稱', '肇因研判子類別名稱-主要'),\n",
    "    ('道路型態子類別名稱', '肇因研判子類別名稱-主要'),\n",
    "    ('facility', '肇因研判子類別名稱-主要'),\n",
    "    ('號誌-號誌種類名稱', '肇因研判子類別名稱-主要'),\n",
    "]\n",
    "\n",
    "black_list = []\n",
    "# cause -> parent\n",
    "black_list += [(c, p) for c in cause for p in parent]\n",
    "# result -> parent/cause\n",
    "black_list += [(r, x) for r in result for x in (parent + cause + result)]"
   ]
  },
  {
   "cell_type": "code",
   "execution_count": null,
   "id": "a2181157",
   "metadata": {},
   "outputs": [],
   "source": [
    "def get_model(dt):\n",
    "    # 學哪些變數之間有邊，結果是一個DAG\n",
    "    model = bn.structure_learning.fit(dt, methodtype='hc', scoretype='bic', bw_list_method='edges',\n",
    "                                    # 肇因對於事故類型一定是上游。ex. 不會因為撞路樹而造成患病，而是因為患病才造成撞路樹\n",
    "                                    black_list=black_list, white_list=white_list,\n",
    "                                    fixed_edges=white_list, max_indegree=None)\n",
    "    # 計算每個節點的 條件機率表 (CPT, Conditional Probability Table)\n",
    "    model_param = bn.parameter_learning.fit(model, dt, scoretype='bdeu', methodtype='bayes')\n",
    "    # 計算邊緣強度，如果p小於顯著就是有相關\n",
    "    model_independence = bn.independence_test(model_param, dt, test='chi_square', prune=True)\n",
    "\n",
    "    return model, model_param, model_independence\n",
    "\n",
    "model_all, model_param_all, model_independence_all = get_model(data)"
   ]
  },
  {
   "cell_type": "code",
   "execution_count": null,
   "id": "c70cf1bb",
   "metadata": {},
   "outputs": [],
   "source": [
    "from utils_behaviour import draw_bn_plotly\n",
    "draw_bn_plotly(model_independence_all, layout_algo='spring', en=False, width=600, height=400, seed=42, iter=30)"
   ]
  },
  {
   "cell_type": "code",
   "execution_count": null,
   "id": "b8f96989",
   "metadata": {},
   "outputs": [],
   "source": [
    "from utils_behaviour import cpd_add_n, filter_cpd_for_hotspot, get_outlier\n",
    "from config import category_value_map, feature_name_map\n",
    "parent = ['速限-第1當事者', '道路類別-第1當事者-名稱', '道路型態子類別名稱', 'facility', '號誌-號誌種類名稱']\n",
    "child = '肇因研判子類別名稱-主要'\n",
    "evidence_v = list(data['肇因研判子類別名稱-主要'].value_counts().head(5).index)"
   ]
  },
  {
   "cell_type": "code",
   "execution_count": null,
   "id": "f227cb90",
   "metadata": {},
   "outputs": [],
   "source": [
    "CPDs = bn.print_CPD(model_param_all)\n",
    "dfprob_cause = CPDs[child]\n",
    "filtered = cpd_add_n(parent, child, dfprob_cause, data, threshold=0)"
   ]
  },
  {
   "cell_type": "code",
   "execution_count": null,
   "id": "816c4cf4",
   "metadata": {},
   "outputs": [],
   "source": [
    "filtered_n = filtered[filtered['n'] > 0]\n",
    "filtered_n.sort_values(by=['號誌-號誌種類名稱', '速限-第1當事者', '道路型態子類別名稱', 'facility', 'p'], ascending=False, inplace=True)\n",
    "\n",
    "filtered_n['total_n'] = (\n",
    "    filtered_n\n",
    "    .groupby(parent)['n']\n",
    "    .transform('sum')\n",
    ")\n",
    "\n",
    "filtered_n.sort_values(by=['total_n', 'p'], ascending=False, inplace=True)"
   ]
  },
  {
   "cell_type": "code",
   "execution_count": null,
   "id": "d2b0b98c",
   "metadata": {},
   "outputs": [],
   "source": [
    "check_sum = (filtered_n.groupby(parent)['p'].sum())\n",
    "check_sum"
   ]
  },
  {
   "cell_type": "code",
   "execution_count": null,
   "id": "aa5fe1bb",
   "metadata": {},
   "outputs": [],
   "source": [
    "filtered_n = filtered_n[['道路類別-第1當事者-名稱', '號誌-號誌種類名稱', '速限-第1當事者', '道路型態子類別名稱', '肇因研判子類別名稱-主要', 'facility', 'p', 'n', 'total_n']]\n",
    "filtered_n.sort_values(\n",
    "    by=['號誌-號誌種類名稱', '速限-第1當事者', '道路型態子類別名稱', '肇因研判子類別名稱-主要', '道路類別-第1當事者-名稱', 'facility'], \n",
    "    ascending=False, inplace=False)\n",
    "filtered_n"
   ]
  },
  {
   "cell_type": "code",
   "execution_count": null,
   "id": "525ba692",
   "metadata": {},
   "outputs": [],
   "source": [
    "import numpy as np\n",
    "design = ['道路類別-第1當事者-名稱', '號誌-號誌種類名稱', '速限-第1當事者', '道路型態子類別名稱']\n",
    "df = filtered_n.copy()\n",
    "df['facility'] = df['facility'].astype(int)\n",
    "\n",
    "# 對「道路組合 + facility」把 n 加總\n",
    "g = (df.groupby(design + ['facility'])['n']\n",
    "       .sum()\n",
    "       .unstack('facility', fill_value=0)\n",
    "       .rename(columns={0: 'facility_0', 1: 'facility_1'})\n",
    "    )\n",
    "\n",
    "# P(facility=1 | 道路組合)\n",
    "g['total_n'] = g['facility_0'] + g['facility_1']\n",
    "g['Facility_P'] = g['facility_1'] / (g['total_n']).replace(0, np.nan)\n",
    "\n",
    "g = g.reset_index()\n",
    "g = g[(g['total_n'] > 0) &\n",
    "      (g['Facility_P'] > 0.1)]\n",
    "g.sort_values(by='Facility_P', ascending=False, inplace=True)\n",
    "g_hotspot = filter_cpd_for_hotspot(g)"
   ]
  },
  {
   "cell_type": "code",
   "execution_count": null,
   "id": "3b86ee4a",
   "metadata": {},
   "outputs": [],
   "source": [
    "g_hotspot = g_hotspot[['號誌-號誌種類名稱', '速限-第1當事者', '道路型態子類別名稱', 'Facility_P', 'total_n']]\n",
    "g_hotspot.sort_values(by=['號誌-號誌種類名稱', '速限-第1當事者', 'Facility_P'], ascending=False, inplace=True)\n",
    "g_hotspot['Facility_P'] = g_hotspot['Facility_P'].round(3)\n",
    "g_hotspot = g_hotspot[g_hotspot['total_n']>100]\n",
    "\n",
    "for col in ['號誌-號誌種類名稱', '道路型態子類別名稱']:\n",
    "    g_hotspot[col] = g_hotspot[col].map(category_value_map[col])\n",
    "g_hotspot.rename(columns=feature_name_map, inplace=True)"
   ]
  },
  {
   "cell_type": "code",
   "execution_count": null,
   "id": "25e36926",
   "metadata": {},
   "outputs": [],
   "source": [
    "g_hotspot.to_excel(f'../{computeddata}/Behaviour/Behaviour_hotspot.xlsx', index=False)"
   ]
  },
  {
   "cell_type": "markdown",
   "id": "d1bda9d1",
   "metadata": {},
   "source": [
    "### 去掉肇因重新分析\n",
    "他的效果和BehaviourV2_hotspot相似，都是找出有設施的機率"
   ]
  },
  {
   "cell_type": "code",
   "execution_count": null,
   "id": "0238e9fa",
   "metadata": {},
   "outputs": [],
   "source": [
    "parent = [\n",
    "    '號誌-號誌種類名稱', '號誌-號誌動作名稱','車道劃分設施-分道設施-快車道或一般車道間名稱', '車道劃分設施-分道設施-快慢車道間名稱',\n",
    "    '車道劃分設施-分道設施-路面邊線名稱', '車道劃分設施-分向設施子類別名稱', '道路型態子類別名稱',\n",
    "    '速限-第1當事者', '道路類別-第1當事者-名稱', 'facility', 'COUNTYNAME'\n",
    "    ]\n",
    "cause = ['facility']\n",
    "result = ['事故類型及型態子類別名稱']\n",
    "\n",
    "white_list = [\n",
    "    ('速限-第1當事者', 'facility'),\n",
    "    ('道路類別-第1當事者-名稱', 'facility'),\n",
    "    ('道路型態子類別名稱', 'facility'),\n",
    "    ('號誌-號誌種類名稱', 'facility'),\n",
    "]\n",
    "\n",
    "black_list = []\n",
    "# cause -> parent\n",
    "black_list += [(c, p) for c in cause for p in parent]\n",
    "# result -> parent/cause\n",
    "black_list += [(r, x) for r in result for x in (parent + cause + result)]"
   ]
  },
  {
   "cell_type": "code",
   "execution_count": null,
   "id": "8cff29ef",
   "metadata": {},
   "outputs": [],
   "source": [
    "def get_model(dt):\n",
    "    # 學哪些變數之間有邊，結果是一個DAG\n",
    "    model = bn.structure_learning.fit(dt, methodtype='hc', scoretype='bic', bw_list_method='edges',\n",
    "                                    # 肇因對於事故類型一定是上游。ex. 不會因為撞路樹而造成患病，而是因為患病才造成撞路樹\n",
    "                                    black_list=black_list, white_list=white_list,\n",
    "                                    fixed_edges=white_list, max_indegree=None)\n",
    "    # 計算每個節點的 條件機率表 (CPT, Conditional Probability Table)\n",
    "    model_param = bn.parameter_learning.fit(model, dt, scoretype='bdeu', methodtype='bayes')\n",
    "    # 計算邊緣強度，如果p小於顯著就是有相關\n",
    "    model_independence = bn.independence_test(model_param, dt, test='chi_square', prune=True)\n",
    "\n",
    "    return model, model_param, model_independence\n",
    "\n",
    "model_all, model_param_all, model_independence_all = get_model(data)"
   ]
  },
  {
   "cell_type": "code",
   "execution_count": null,
   "id": "a1351973",
   "metadata": {},
   "outputs": [],
   "source": [
    "from utils_behaviour import draw_bn_plotly\n",
    "draw_bn_plotly(model_independence_all, layout_algo='spring', en=False, width=600, height=400, seed=42, iter=30)"
   ]
  },
  {
   "cell_type": "code",
   "execution_count": null,
   "id": "ea43da85",
   "metadata": {},
   "outputs": [],
   "source": [
    "from utils_behaviour import cpd_add_n, filter_cpd_for_hotspot, get_outlier\n",
    "from config import category_value_map, feature_name_map\n",
    "parent = ['速限-第1當事者', '道路類別-第1當事者-名稱', '道路型態子類別名稱', '號誌-號誌種類名稱']\n",
    "child = 'facility'\n",
    "evidence_v = list(data['facility'].value_counts().head(5).index)\n",
    "CPDs = bn.print_CPD(model_param_all)\n",
    "dfprob_cause = CPDs[child]\n",
    "filtered = cpd_add_n(parent, child, dfprob_cause, data, threshold=0)"
   ]
  },
  {
   "cell_type": "code",
   "execution_count": null,
   "id": "bb905110",
   "metadata": {},
   "outputs": [],
   "source": [
    "hotspot = filter_cpd_for_hotspot(filtered)\n",
    "hotspot = hotspot[(hotspot['p'] > 0.1) &\n",
    "                  (hotspot['n'] > 100)]"
   ]
  },
  {
   "cell_type": "code",
   "execution_count": null,
   "id": "b82e46ae",
   "metadata": {},
   "outputs": [],
   "source": [
    "filtered_0 = hotspot[(hotspot['facility'] == '0')].sort_values(by=['p'], ascending=False)#.head(10)\n",
    "filtered_1 = hotspot[(hotspot['facility'] == '1')].sort_values(by=['p'], ascending=False)#.head(10)\n",
    "full_filter = pd.concat([filtered_0, filtered_1], axis=0)\n",
    "full_filter.sort_values(by=['facility', '號誌-號誌種類名稱', '速限-第1當事者', 'p'], ascending=False, inplace=True)\n",
    "full_filter\n",
    "# for col in ['道路類別-第1當事者-名稱', '道路型態子類別名稱', '號誌-號誌種類名稱']:\n",
    "#     full_filter[col] = full_filter[col].map(category_value_map[col])\n",
    "# full_filter.rename(columns=feature_name_map, inplace=True)\n",
    "# full_filter.to_excel(f'../{computeddata}/Behaviour/Origin_outlierV2.xlsx', index=False)"
   ]
  },
  {
   "cell_type": "code",
   "execution_count": null,
   "id": "1e100722",
   "metadata": {},
   "outputs": [],
   "source": [
    "full_filter[\n",
    "    (full_filter['facility'] == '0') &\n",
    "    (full_filter['號誌-號誌種類名稱'] == '行車管制號誌(附設行人專用號誌)')\n",
    "]"
   ]
  }
 ],
 "metadata": {
  "kernelspec": {
   "display_name": "ST-RTA",
   "language": "python",
   "name": "python3"
  },
  "language_info": {
   "codemirror_mode": {
    "name": "ipython",
    "version": 3
   },
   "file_extension": ".py",
   "mimetype": "text/x-python",
   "name": "python",
   "nbconvert_exporter": "python",
   "pygments_lexer": "ipython3",
   "version": "3.9.21"
  }
 },
 "nbformat": 4,
 "nbformat_minor": 5
}
