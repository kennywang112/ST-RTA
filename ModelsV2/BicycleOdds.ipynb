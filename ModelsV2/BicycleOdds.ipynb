{
 "cells": [
  {
   "cell_type": "code",
   "execution_count": null,
   "id": "8eeb03cf",
   "metadata": {},
   "outputs": [],
   "source": [
    "import os\n",
    "\n",
    "current_dir = os.getcwd()\n",
    "parent_dir = os.path.dirname(current_dir)\n",
    "analyze_path = os.path.join(parent_dir, \"utils\")\n",
    "\n",
    "os.chdir(analyze_path)"
   ]
  },
  {
   "cell_type": "markdown",
   "id": "09d1b50e",
   "metadata": {},
   "source": [
    "要先建立輸入到模型的資料\n",
    "- 若是要分類是否是熱點，應該要以一個區域的grid為單位\n",
    "- 所以建立得grid亦包含該地區的所有特徵資料，以比例顯示"
   ]
  },
  {
   "cell_type": "code",
   "execution_count": null,
   "id": "5a2ccdee",
   "metadata": {},
   "outputs": [],
   "source": [
    "import numpy as np\n",
    "import pandas as pd\n",
    "\n",
    "import matplotlib.pyplot as plt\n",
    "plt.rcParams['font.family'] = ['Arial Unicode Ms']\n",
    "# plt.rcParams['font.sans-serif'] = ['Microsoft YaHei']\n",
    "\n",
    "from utils_model import  model_preprocess\n",
    "from utils import read_data, read_taiwan_specific"
   ]
  },
  {
   "cell_type": "code",
   "execution_count": null,
   "id": "0b478ada",
   "metadata": {},
   "outputs": [],
   "source": [
    "taiwan, grid_filter = read_taiwan_specific(read_grid=True)\n",
    "\n",
    "computeddata = 'ComputedDataV2'\n",
    "all_features_df = pd.read_csv(f\"../{computeddata}/ForModel/all_featuresV1.csv\")\n",
    "\n",
    "# 移除高共線\n",
    "cols = all_features_df.columns[all_features_df.columns.str.contains('事故位置大類別名稱')]\n",
    "cols2 = all_features_df.columns[all_features_df.columns.str.contains('號誌動作')]\n",
    "cols3 = all_features_df.columns[all_features_df.columns.str.contains('original_speed')]\n",
    "all_features_df.drop(columns=cols, inplace=True)\n",
    "all_features_df.drop(columns=cols2, inplace=True)\n",
    "all_features_df.drop(columns=cols3, inplace=True)"
   ]
  },
  {
   "cell_type": "code",
   "execution_count": null,
   "id": "c96d0074",
   "metadata": {},
   "outputs": [],
   "source": [
    "X_train, X_test, y_train, y_test, X_resampled_test, y_resampled_test, le = model_preprocess(grid_filter, all_features_df)"
   ]
  },
  {
   "cell_type": "code",
   "execution_count": null,
   "id": "7dd47588",
   "metadata": {},
   "outputs": [],
   "source": [
    "import joblib\n",
    "\n",
    "lr = joblib.load(f'../{computeddata}/ModelPerformance/lr_modelV1.pkl')\n",
    "\n",
    "proba_test_lr = lr.predict_proba(X_resampled_test)"
   ]
  },
  {
   "cell_type": "code",
   "execution_count": null,
   "id": "855c8fa8",
   "metadata": {},
   "outputs": [],
   "source": [
    "def get_importance_for_youbike(model, df, specific_col=None):\n",
    "\n",
    "    if model.__class__.__name__ == 'LogisticRegression':\n",
    "        importances = model.coef_[0]\n",
    "    else:\n",
    "        importances = model.feature_importances_\n",
    "\n",
    "    feature_names = df.columns\n",
    "\n",
    "    if specific_col:\n",
    "        sel_idx = [i for i, name in enumerate(feature_names) if specific_col in name]\n",
    "        indices = np.argsort(importances[sel_idx])[::-1]\n",
    "        indices = [sel_idx[i] for i in indices]\n",
    "    else:\n",
    "        indices = np.argsort(importances)[::-1]\n",
    "\n",
    "    importance_ungrouped = {}\n",
    "    for i in indices:\n",
    "        importance_ungrouped[feature_names[i]] = importances[i]\n",
    "\n",
    "    return importance_ungrouped\n",
    "\n",
    "importance_lr = get_importance_for_youbike(lr, X_train)"
   ]
  },
  {
   "cell_type": "code",
   "execution_count": null,
   "id": "c10890b5",
   "metadata": {},
   "outputs": [],
   "source": [
    "df_ts_youbike = pd.DataFrame()\n",
    "for i in importance_lr:\n",
    "    if ('youbike' in i) and 'county' not in i:\n",
    "        # print(i, np.exp(importance_lr[i]))\n",
    "        df_ts_youbike = pd.concat([df_ts_youbike, pd.DataFrame({\n",
    "            'feature': [i], 'importance': [importance_lr[i]], 'exp_importance': [np.exp(importance_lr[i])]\n",
    "            })], axis=0)\n",
    "        \n",
    "df_ts_youbike['feature'] = df_ts_youbike['feature'].str.replace(' x youbike_100m_count_mean', '')\n",
    "df_ts_youbike['feature'] = df_ts_youbike['feature'].str.replace('youbike_100m_count_mean x ', '')\n",
    "df_ts_youbike.sort_values('exp_importance', ascending=True, inplace=True)"
   ]
  },
  {
   "cell_type": "code",
   "execution_count": null,
   "id": "b830b1bf",
   "metadata": {},
   "outputs": [],
   "source": [
    "from config import col_translation\n",
    "\n",
    "df_ts_youbike['feature_en'] = df_ts_youbike['feature'].map(col_translation)"
   ]
  },
  {
   "cell_type": "code",
   "execution_count": null,
   "id": "930068ed",
   "metadata": {},
   "outputs": [],
   "source": [
    "import matplotlib.pyplot as plt\n",
    "import seaborn as sns\n",
    "import matplotlib.cm as cm\n",
    "import matplotlib.colors as mcolors\n",
    "\n",
    "df_sorted = df_ts_youbike.sort_values('exp_importance', ascending=True)\n",
    "\n",
    "plt.figure(figsize=(10, 8))\n",
    "\n",
    "norm = mcolors.Normalize(vmin=df_sorted['exp_importance'].min(),\n",
    "                         vmax=df_sorted['exp_importance'].max())\n",
    "cmap = cm.get_cmap(\"Greens\")\n",
    "colors = [cmap(norm(val)) for val in df_sorted['exp_importance']]\n",
    "\n",
    "bars = plt.barh(df_sorted['feature'], df_sorted['exp_importance'], color=colors)\n",
    "\n",
    "for bar in bars:\n",
    "    width = bar.get_width()\n",
    "    plt.text(width + 0.02, bar.get_y() + bar.get_height()/2,\n",
    "             f\"{width:.3f}\", va='center', fontsize=9)\n",
    "plt.xlabel('Odds Ratio (Exp(Importance))', fontsize=12)\n",
    "plt.title('LR Youbike Interaction Feature Importance', fontsize=14, weight='bold')\n",
    "plt.grid(axis='x', linestyle='--', alpha=0.6)\n",
    "plt.gca().spines['top'].set_visible(False)\n",
    "plt.gca().spines['right'].set_visible(False)\n",
    "\n",
    "plt.tight_layout()\n",
    "plt.show()\n"
   ]
  }
 ],
 "metadata": {
  "kernelspec": {
   "display_name": "ST-RTA",
   "language": "python",
   "name": "python3"
  },
  "language_info": {
   "codemirror_mode": {
    "name": "ipython",
    "version": 3
   },
   "file_extension": ".py",
   "mimetype": "text/x-python",
   "name": "python",
   "nbconvert_exporter": "python",
   "pygments_lexer": "ipython3",
   "version": "3.9.21"
  }
 },
 "nbformat": 4,
 "nbformat_minor": 5
}
