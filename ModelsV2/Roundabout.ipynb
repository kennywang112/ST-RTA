{
 "cells": [
  {
   "cell_type": "code",
   "execution_count": null,
   "id": "4aaf297e",
   "metadata": {},
   "outputs": [],
   "source": [
    "import os\n",
    "import pandas as pd\n",
    "import bnlearn as bn\n",
    "import matplotlib.pyplot as plt\n",
    "plt.rcParams['font.family'] = ['Arial Unicode Ms']\n",
    "\n",
    "current_dir = os.getcwd()\n",
    "parent_dir = os.path.dirname(current_dir)\n",
    "analyze_path = os.path.join(parent_dir, \"utils\")\n",
    "\n",
    "os.chdir(analyze_path)"
   ]
  },
  {
   "cell_type": "code",
   "execution_count": null,
   "id": "7e380f3d",
   "metadata": {},
   "outputs": [],
   "source": [
    "combined_data = pd.read_csv('../ComputedData/ForModel/combined_data_with_hotspot.csv')\n",
    "combined_data.shape"
   ]
  },
  {
   "cell_type": "code",
   "execution_count": null,
   "id": "baa014a8",
   "metadata": {},
   "outputs": [],
   "source": [
    "roundabout = combined_data[combined_data['道路型態子類別名稱'] == '圓環']\n",
    "rest = combined_data[combined_data['道路型態子類別名稱'] != '圓環']\n",
    "roundabout"
   ]
  },
  {
   "cell_type": "markdown",
   "id": "0565360d",
   "metadata": {},
   "source": [
    "This shows that roundabout accident has more ratio that include youbike facilities around"
   ]
  },
  {
   "cell_type": "code",
   "execution_count": null,
   "id": "1d843f22",
   "metadata": {},
   "outputs": [],
   "source": [
    "var = 'youbike_100m_count'\n",
    "\n",
    "rest[var].value_counts(normalize=True), roundabout[var].value_counts(normalize=True)"
   ]
  },
  {
   "cell_type": "code",
   "execution_count": null,
   "id": "271694b2",
   "metadata": {},
   "outputs": [],
   "source": [
    "var = '車輛撞擊部位大類別名稱-最初'\n",
    "rest[var].value_counts(normalize=True), roundabout[var].value_counts(normalize=True)"
   ]
  },
  {
   "cell_type": "code",
   "execution_count": null,
   "id": "0af083e5",
   "metadata": {},
   "outputs": [],
   "source": [
    "var = '事故位置子類別名稱'\n",
    "rest[var].value_counts(normalize=True), roundabout[var].value_counts(normalize=True)"
   ]
  },
  {
   "cell_type": "code",
   "execution_count": null,
   "id": "fe2c8d7f",
   "metadata": {},
   "outputs": [],
   "source": [
    "var = '號誌-號誌種類名稱'\n",
    "rest[var].value_counts(normalize=True), roundabout[var].value_counts(normalize=True)"
   ]
  },
  {
   "cell_type": "code",
   "execution_count": null,
   "id": "c5823bff",
   "metadata": {},
   "outputs": [],
   "source": [
    "var = '車道劃分設施-分向設施大類別名稱'\n",
    "rest[var].value_counts(normalize=True), roundabout[var].value_counts(normalize=True)"
   ]
  },
  {
   "cell_type": "code",
   "execution_count": null,
   "id": "e83a0dc3",
   "metadata": {},
   "outputs": [],
   "source": [
    "var = '車道劃分設施-分向設施大類別名稱'\n",
    "rest_data = rest[var].value_counts(normalize=True)\n",
    "roundabout_data = roundabout[var].value_counts(normalize=True)\n",
    "\n",
    "full_data = pd.concat([rest_data, roundabout_data], axis=1)\n",
    "full_data.columns = ['rest', 'roundabout']\n",
    "\n",
    "# plot\n",
    "full_data.plot(kind='bar', figsize=(10, 6))\n",
    "plt.title('車道劃分設施-分向設施大類別名稱 在圓環與非圓環事故中的分佈比較')\n",
    "plt.xlabel('車道劃分設施-分向設施大類別名稱')\n",
    "plt.ylabel('比例')\n",
    "plt.xticks(rotation=45)\n",
    "plt.legend(title='事故類型', labels=['非圓環', '圓環'])\n",
    "plt.tight_layout()\n",
    "plt.show()"
   ]
  },
  {
   "cell_type": "code",
   "execution_count": null,
   "id": "a738e9a8",
   "metadata": {},
   "outputs": [],
   "source": [
    "for i in combined_data['道路型態大類別名稱'].unique():\n",
    "    print(i)\n",
    "    a = combined_data[combined_data['道路型態大類別名稱'] == i]\n",
    "    print(a['youbike_100m_count'].value_counts(normalize=True))"
   ]
  }
 ],
 "metadata": {
  "kernelspec": {
   "display_name": "ST-RTA",
   "language": "python",
   "name": "python3"
  },
  "language_info": {
   "codemirror_mode": {
    "name": "ipython",
    "version": 3
   },
   "file_extension": ".py",
   "mimetype": "text/x-python",
   "name": "python",
   "nbconvert_exporter": "python",
   "pygments_lexer": "ipython3",
   "version": "3.9.21"
  }
 },
 "nbformat": 4,
 "nbformat_minor": 5
}
