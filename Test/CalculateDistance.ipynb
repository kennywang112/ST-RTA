{
 "cells": [
  {
   "cell_type": "code",
   "execution_count": null,
   "metadata": {},
   "outputs": [],
   "source": [
    "import pandas as pd\n",
    "import geopandas as gpd\n",
    "from shapely.geometry import Point"
   ]
  },
  {
   "cell_type": "code",
   "execution_count": null,
   "metadata": {},
   "outputs": [],
   "source": [
    "mrt = pd.read_csv('../ComputedData/MRT/full_mrt.csv')\n",
    "youbike = pd.read_csv('../ComputedData/YouBike/full_youbike.csv')\n",
    "parkinglot = pd.read_csv('../ComputedData/ParkingLot/full_parkinglot.csv')\n",
    "\n",
    "dataA2 = pd.read_csv(\"../Data/Accident/A2.csv\", low_memory=False)\n",
    "dataA1 = pd.read_csv(\"../Data/Accident/A1.csv\")"
   ]
  },
  {
   "cell_type": "code",
   "execution_count": null,
   "metadata": {},
   "outputs": [],
   "source": [
    "# Step 1: 轉GeoDataFrame（經度、緯度到幾何點）投影為平面坐標系\n",
    "dataA1['geometry'] = [Point(xy) for xy in zip(dataA1['經度'], dataA1['緯度'])]\n",
    "mrt['geometry'] = [Point(xy) for xy in zip(mrt['PositionLon'], mrt['PositionLat'])]\n",
    "\n",
    "gdf_data = gpd.GeoDataFrame(dataA1, geometry='geometry', crs=\"EPSG:4326\").to_crs(epsg=3826)\n",
    "gdf_mrt = gpd.GeoDataFrame(mrt, geometry='geometry', crs=\"EPSG:4326\").to_crs(epsg=3826)\n",
    "\n",
    "print(mrt.shape, gdf_mrt.shape)"
   ]
  },
  {
   "cell_type": "code",
   "execution_count": null,
   "metadata": {},
   "outputs": [],
   "source": [
    "# Step 2: 建立500公尺的範圍\n",
    "gdf_data['buffer'] = gdf_data.geometry.buffer(500)\n",
    "gdf_buffer = gdf_data.set_geometry('buffer')\n",
    "\n",
    "# Step 3: 空間連接（找出每個點的MRT）\n",
    "joined = gpd.sjoin(gdf_buffer, gdf_mrt, how='left', predicate='contains')\n",
    "\n",
    "# Step 4: 計算每個點的數量\n",
    "mrt_counts = joined.groupby(joined.index).size()\n",
    "\n",
    "print(dataA1.shape, gdf_data.shape, gdf_buffer.shape, mrt_counts.shape)"
   ]
  },
  {
   "cell_type": "code",
   "execution_count": null,
   "metadata": {},
   "outputs": [],
   "source": [
    "# Step 5: 合併回原始資料表\n",
    "gdf_data['mrt_500m_count'] = gdf_data.index.map(mrt_counts).fillna(0).astype(int)\n",
    "gdf_data.drop(columns=['geometry', 'buffer'], inplace=True)\n",
    "\n",
    "gdf_data.to_csv('../ComputedData/Accident/DataA1_with_MRT_counts.csv', index=False, encoding='utf-8')"
   ]
  },
  {
   "cell_type": "markdown",
   "metadata": {},
   "source": [
    "## Final"
   ]
  },
  {
   "cell_type": "code",
   "execution_count": null,
   "metadata": {},
   "outputs": [],
   "source": [
    "facilities = {\n",
    "    'mrt': mrt,\n",
    "    'youbike': youbike,\n",
    "    'parkinglot': parkinglot\n",
    "}\n",
    "\n",
    "def Calculate(X, facility_dict, name):\n",
    "\n",
    "    # Step 1: 轉GeoDataFrame（經度、緯度到幾何點）投影為平面坐標系\n",
    "    X['geometry'] = [Point(xy) for xy in zip(X['經度'], X['緯度'])]\n",
    "    gdf_data = gpd.GeoDataFrame(X, geometry='geometry', crs=\"EPSG:4326\").to_crs(epsg=3826)\n",
    "\n",
    "    # Step 2: 建立100公尺的範圍\n",
    "    gdf_data['buffer'] = gdf_data.geometry.buffer(100)\n",
    "    gdf_buffer = gdf_data.set_geometry('buffer')\n",
    "\n",
    "    # Step 3: 每個設施資料逐一處理\n",
    "    for label, facility in facility_dict.items():\n",
    "\n",
    "        facility['geometry'] = [Point(xy) for xy in zip(facility['PositionLon'], facility['PositionLat'])]\n",
    "        gdf_facility = gpd.GeoDataFrame(facility, geometry='geometry', crs=\"EPSG:4326\").to_crs(epsg=3826)\n",
    "        \n",
    "        # 空間join\n",
    "        joined = gpd.sjoin(gdf_buffer, gdf_facility, how='left', predicate='intersects')\n",
    "        joined['index_left'] = joined.index\n",
    "        valid = joined[~joined['index_right'].isna()]\n",
    "        counts = valid.groupby('index_left').size().reindex(gdf_buffer.index, fill_value=0)\n",
    "\n",
    "        # 新增欄位: 該設施在 100 公尺內的數量\n",
    "        gdf_data[f'{label}_100m_count'] = gdf_data.index.map(counts).fillna(0).astype(int)\n",
    "\n",
    "    # Step 4: 清理和儲存\n",
    "    gdf_data.drop(columns=['geometry', 'buffer'], inplace=True)\n",
    "    gdf_data.to_csv(f'../ComputedData/Accident/{name}.csv', index=False, encoding='utf-8')\n",
    "\n",
    "Calculate(dataA1, facilities, 'DataA1_with_MYP')\n",
    "Calculate(dataA2, facilities, 'DataA2_with_MYP')"
   ]
  },
  {
   "cell_type": "code",
   "execution_count": null,
   "metadata": {},
   "outputs": [],
   "source": [
    "dataA1 = pd.read_csv('../ComputedData/Accident/DataA1_with_MYP.csv')\n",
    "dataA2 = pd.read_csv('../ComputedData/Accident/DataA2_with_MYP.csv')\n",
    "\n",
    "print(dataA1[dataA1['parkinglot_100m_count'] == 0].shape)\n",
    "print(dataA2[dataA2['parkinglot_100m_count'] == 0].shape)\n",
    "\n",
    "print(dataA1['parkinglot_100m_count'].value_counts())\n",
    "print(dataA2['parkinglot_100m_count'].value_counts())"
   ]
  },
  {
   "cell_type": "markdown",
   "metadata": {},
   "source": [
    "## Incremental for Youbike"
   ]
  },
  {
   "cell_type": "code",
   "execution_count": null,
   "metadata": {},
   "outputs": [],
   "source": [
    "facilities = {\n",
    "    'youbike': youbike,\n",
    "}\n",
    "def Calculate(X, facility_dict, name):\n",
    "\n",
    "    X['geometry'] = [Point(xy) for xy in zip(X['經度'], X['緯度'])]\n",
    "    gdf_data = gpd.GeoDataFrame(X, geometry='geometry', crs=\"EPSG:4326\").to_crs(epsg=3826)\n",
    "    for label, facility in facility_dict.items():\n",
    "\n",
    "        facility['geometry'] = [Point(xy) for xy in zip(facility['PositionLon'], facility['PositionLat'])]\n",
    "        gdf_facility = gpd.GeoDataFrame(facility, geometry='geometry', crs=\"EPSG:4326\").to_crs(epsg=3826)\n",
    "\n",
    "        for dist in [50, 100, 200, 300, 400]:\n",
    "            gdf_data['buffer'] = gdf_data.geometry.buffer(dist)\n",
    "            gdf_buffer = gdf_data.set_geometry('buffer')\n",
    "            joined = gpd.sjoin(gdf_buffer, gdf_facility, how='left', predicate='intersects')\n",
    "            joined['index_left'] = joined.index\n",
    "            valid = joined[~joined['index_right'].isna()]\n",
    "            counts = valid.groupby('index_left').size().reindex(gdf_buffer.index, fill_value=0)\n",
    "\n",
    "            gdf_data[f'{label}_{dist}m_count'] = gdf_data.index.map(counts).fillna(0).astype(int)\n",
    "\n",
    "    gdf_data.drop(columns=['geometry', 'buffer'], inplace=True)\n",
    "    gdf_data.to_csv(f'../ComputedData/Accident/{name}.csv', index=False, encoding='utf-8')\n",
    "\n",
    "Calculate(dataA1, facilities, 'DataA1_with_youbike')\n",
    "Calculate(dataA2, facilities, 'DataA2_with_youbike')"
   ]
  }
 ],
 "metadata": {
  "kernelspec": {
   "display_name": "ST-RTA",
   "language": "python",
   "name": "python3"
  },
  "language_info": {
   "codemirror_mode": {
    "name": "ipython",
    "version": 3
   },
   "file_extension": ".py",
   "mimetype": "text/x-python",
   "name": "python",
   "nbconvert_exporter": "python",
   "pygments_lexer": "ipython3",
   "version": "3.9.21"
  }
 },
 "nbformat": 4,
 "nbformat_minor": 2
}
