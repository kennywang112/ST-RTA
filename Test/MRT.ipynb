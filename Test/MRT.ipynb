{
 "cells": [
  {
   "cell_type": "code",
   "execution_count": 1,
   "metadata": {},
   "outputs": [],
   "source": [
    "import json\n",
    "import pandas as pd"
   ]
  },
  {
   "cell_type": "code",
   "execution_count": 2,
   "metadata": {},
   "outputs": [],
   "source": [
    "data_lst = [\n",
    "    'kaoshiung', 'newtaipei', 'taichung',\n",
    "    'taipei', 'taoyuan', 'trtcmg'\n",
    "]"
   ]
  },
  {
   "cell_type": "code",
   "execution_count": 17,
   "metadata": {},
   "outputs": [],
   "source": [
    "def get_data(city):\n",
    "\n",
    "    url = f\"../Data/MRT/{city}.json\" # Taichung\n",
    "    with open(url, \"r\", encoding=\"utf-8\") as f:\n",
    "        data_str = f.read()\n",
    "\n",
    "    data = json.loads(data_str)\n",
    "    df = pd.DataFrame(data)\n",
    "\n",
    "    dft = pd.DataFrame()\n",
    "    dft['ExitName'] = df['ExitName'].apply(lambda x: x['Zh_tw'])\n",
    "    dft['PositionLat'] = df['ExitPosition'].apply(lambda x: x['PositionLat'])\n",
    "    dft['PositionLon'] = df['ExitPosition'].apply(lambda x: x['PositionLon'])\n",
    "\n",
    "    dft.to_csv(f\"../ComputedData/MRT/{city}.csv\", index=False, encoding='utf-8')\n",
    "\n",
    "    dft['City'] = city\n",
    "    return dft"
   ]
  },
  {
   "cell_type": "code",
   "execution_count": 19,
   "metadata": {},
   "outputs": [],
   "source": [
    "all_dfs = [get_data(city) for city in data_lst]\n",
    "combined_df = pd.concat(all_dfs, ignore_index=True)\n",
    "\n",
    "combined_df.to_csv(f\"../ComputedData/MRT/full_mrt.csv\", index=False, encoding='utf-8')"
   ]
  },
  {
   "cell_type": "code",
   "execution_count": null,
   "metadata": {},
   "outputs": [],
   "source": [
    "for city in data_lst:\n",
    "    get_data(city)"
   ]
  }
 ],
 "metadata": {
  "kernelspec": {
   "display_name": "3.9.13",
   "language": "python",
   "name": "python3"
  },
  "language_info": {
   "codemirror_mode": {
    "name": "ipython",
    "version": 3
   },
   "file_extension": ".py",
   "mimetype": "text/x-python",
   "name": "python",
   "nbconvert_exporter": "python",
   "pygments_lexer": "ipython3",
   "version": "3.9.13"
  }
 },
 "nbformat": 4,
 "nbformat_minor": 2
}
