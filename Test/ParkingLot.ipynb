{
 "cells": [
  {
   "cell_type": "code",
   "execution_count": 1,
   "metadata": {},
   "outputs": [],
   "source": [
    "import json\n",
    "import pandas as pd"
   ]
  },
  {
   "cell_type": "code",
   "execution_count": 4,
   "metadata": {},
   "outputs": [],
   "source": [
    "data_lst = [\n",
    "    \"changhuacountry\", \"chiayi\", \"chiayicountry\",\n",
    "    \"hsinchu\", \"hsinchucountry\", \"hualiencountry\",\n",
    "    \"kaohsiung\", \"keelung\", \"miaolicountry\",\n",
    "    \"nantoucountry\", \"pingtungcountry\", \"taichung\",\n",
    "    \"tainan\", \"taipei\", \"taitungcountry\",\n",
    "    \"taoyuan\", \"yilancountry\", \"yunlincountry\"\n",
    "]"
   ]
  },
  {
   "cell_type": "code",
   "execution_count": null,
   "metadata": {},
   "outputs": [],
   "source": [
    "def get_data(city):\n",
    "\n",
    "    url = f\"./Data/Parkinglot/{city}.json\" # Taichung\n",
    "    with open(url, \"r\", encoding=\"utf-8\") as f:\n",
    "        data_str = f.read()\n",
    "\n",
    "    data = json.loads(data_str)\n",
    "    df = pd.DataFrame(data['CarParks'])\n",
    "\n",
    "    dft = pd.DataFrame()\n",
    "    dft['ExitName'] = df['CarParkName'].apply(lambda x: x['Zh_tw'])\n",
    "    dft['PositionLat'] = df['CarParkPosition'].apply(lambda x: x['PositionLat'])\n",
    "    dft['PositionLon'] = df['CarParkPosition'].apply(lambda x: x['PositionLon'])\n",
    "\n",
    "    dft.to_csv(f\"./ComputedData/Parkinglot/{city}.csv\", index=False, encoding='utf-8')\n",
    "\n",
    "    dft['City'] = city\n",
    "    return dft\n",
    "\n",
    "all_dfs = [get_data(city) for city in data_lst]\n",
    "combined_df = pd.concat(all_dfs, ignore_index=True)\n",
    "\n",
    "combined_df.to_csv(f\"./ComputedData/Parkinglot/full_parkinglot.csv\", index=False, encoding='utf-8')"
   ]
  }
 ],
 "metadata": {
  "kernelspec": {
   "display_name": "3.9.13",
   "language": "python",
   "name": "python3"
  },
  "language_info": {
   "codemirror_mode": {
    "name": "ipython",
    "version": 3
   },
   "file_extension": ".py",
   "mimetype": "text/x-python",
   "name": "python",
   "nbconvert_exporter": "python",
   "pygments_lexer": "ipython3",
   "version": "3.9.13"
  }
 },
 "nbformat": 4,
 "nbformat_minor": 2
}
