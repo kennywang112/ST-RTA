{
 "cells": [
  {
   "cell_type": "code",
   "execution_count": 1,
   "metadata": {},
   "outputs": [],
   "source": [
    "import re\n",
    "import json\n",
    "import requests\n",
    "import pandas as pd\n",
    "from bs4 import BeautifulSoup"
   ]
  },
  {
   "cell_type": "markdown",
   "metadata": {},
   "source": [
    "## Old"
   ]
  },
  {
   "cell_type": "code",
   "execution_count": 4,
   "metadata": {},
   "outputs": [],
   "source": [
    "url_tp = \"https://tcgbusfs.blob.core.windows.net/dotapp/youbike/v2/youbike_immediate.json\" # Taipei\n",
    "\n",
    "response = requests.get(url_tp)\n",
    "data_tp = response.json()\n",
    "df_tp = pd.DataFrame(data_tp)\n",
    "\n",
    "df_tp.to_csv(\"../ComputedData/Youbike/taipei.csv\", index=False, encoding='utf-8')\n",
    "\n",
    "\n",
    "url_tc = \"../Data/臺中市公共自行車(YouBike2.0)租借站&即時車位資料.json\" # Taichung\n",
    "\n",
    "with open(url_tc, \"r\", encoding=\"utf-8\") as f:\n",
    "    data_tc_str = f.read()\n",
    "data = json.loads(data_tc_str)\n",
    "df_tc = pd.DataFrame(data['retVal'])\n",
    "\n",
    "df_tc.to_csv(\"../ComputedData/Youbike/taichung.csv\", index=False, encoding='utf-8')"
   ]
  },
  {
   "cell_type": "code",
   "execution_count": 49,
   "metadata": {},
   "outputs": [
    {
     "data": {
      "application/vnd.microsoft.datawrangler.viewer.v0+json": {
       "columns": [
        {
         "name": "index",
         "rawType": "int64",
         "type": "integer"
        },
        {
         "name": "scity",
         "rawType": "object",
         "type": "string"
        },
        {
         "name": "scityen",
         "rawType": "object",
         "type": "string"
        },
        {
         "name": "sna",
         "rawType": "object",
         "type": "string"
        },
        {
         "name": "sarea",
         "rawType": "object",
         "type": "string"
        },
        {
         "name": "ar",
         "rawType": "object",
         "type": "string"
        },
        {
         "name": "snaen",
         "rawType": "object",
         "type": "string"
        },
        {
         "name": "sareaen",
         "rawType": "object",
         "type": "string"
        },
        {
         "name": "aren",
         "rawType": "object",
         "type": "string"
        },
        {
         "name": "sno",
         "rawType": "object",
         "type": "string"
        },
        {
         "name": "tot",
         "rawType": "object",
         "type": "string"
        },
        {
         "name": "sbi",
         "rawType": "object",
         "type": "string"
        },
        {
         "name": "mday",
         "rawType": "object",
         "type": "string"
        },
        {
         "name": "lat",
         "rawType": "object",
         "type": "string"
        },
        {
         "name": "lng",
         "rawType": "object",
         "type": "string"
        },
        {
         "name": "bemp",
         "rawType": "object",
         "type": "string"
        },
        {
         "name": "act",
         "rawType": "object",
         "type": "string"
        },
        {
         "name": "sbi_detail",
         "rawType": "object",
         "type": "string"
        }
       ],
       "conversionMethod": "pd.DataFrame",
       "ref": "c310e443-5871-4d69-b8ed-6bb31f129dd9",
       "rows": [
        [
         "0",
         "台中市",
         "Taichung City",
         "YouBike2.0_綠川東中山路口",
         "中區",
         "綠川東街/中山路口(東側)",
         "YouBike2.0_Luchuan E. St. / Zhongshan Rd.",
         "Central Dist",
         "Luchuan E. St. & Zhongshan Rd. Intersection (East)",
         "500601001",
         "16",
         "5",
         "20250415021004",
         "24.13785",
         "120.68337",
         "11",
         "1",
         "{'yb2': '5', 'eyb': '0'}"
        ],
        [
         "1",
         "台中市",
         "Taichung City",
         "YouBike2.0_繼光光復路口",
         "中區",
         "繼光街166號(對側人行道)",
         "YouBike2.0_Jiguang St. / Guangfu Rd.",
         "Central Dist",
         "No.166, Jiguang St. (Opposite)",
         "500601002",
         "18",
         "17",
         "20250415125614",
         "24.1411",
         "120.68474",
         "1",
         "1",
         "{'yb2': '17', 'eyb': '0'}"
        ],
        [
         "2",
         "台中市",
         "Taichung City",
         "YouBike2.0_柳原教會",
         "中區",
         "興中街/福音街口(西南側)",
         "YouBike2.0_Liuyuan Presbyterian Church",
         "Central Dist",
         "Xingzhong St. & Fuyin St. Intersection (Southwest)",
         "500601003",
         "13",
         "2",
         "20250415082515",
         "24.145923",
         "120.681301",
         "10",
         "1",
         "{'yb2': '2', 'eyb': '0'}"
        ],
        [
         "3",
         "台中市",
         "Taichung City",
         "YouBike2.0_臺中車站(建國路)",
         "中區",
         "建國路/中山路口(北側)",
         "YouBike2.0_Taichung Station (Jianguo Rd.)",
         "Central Dist",
         "Jianguo Rd. & Zhongshan Rd. Intersection (North)",
         "500601004",
         "79",
         "2",
         "20250415112917",
         "24.13746",
         "120.68435",
         "77",
         "1",
         "{'yb2': '1', 'eyb': '1'}"
        ],
        [
         "4",
         "台中市",
         "Taichung City",
         "YouBike2.0_柳川東中華路口",
         "中區",
         "柳川東路四段/中華路二段口(西北側)",
         "YouBike2.0_Liuchuan E. Rd. / Zhonghua Rd.",
         "Central Dist",
         "Sec. 4, Liuchuan E. Rd. & Sec. 2, Zhonghua Rd. Intersection (Northwest)",
         "500601005",
         "30",
         "1",
         "20250415132715",
         "24.14692",
         "120.6783",
         "29",
         "1",
         "{'yb2': '1', 'eyb': '0'}"
        ]
       ],
       "shape": {
        "columns": 17,
        "rows": 5
       }
      },
      "text/html": [
       "<div>\n",
       "<style scoped>\n",
       "    .dataframe tbody tr th:only-of-type {\n",
       "        vertical-align: middle;\n",
       "    }\n",
       "\n",
       "    .dataframe tbody tr th {\n",
       "        vertical-align: top;\n",
       "    }\n",
       "\n",
       "    .dataframe thead th {\n",
       "        text-align: right;\n",
       "    }\n",
       "</style>\n",
       "<table border=\"1\" class=\"dataframe\">\n",
       "  <thead>\n",
       "    <tr style=\"text-align: right;\">\n",
       "      <th></th>\n",
       "      <th>scity</th>\n",
       "      <th>scityen</th>\n",
       "      <th>sna</th>\n",
       "      <th>sarea</th>\n",
       "      <th>ar</th>\n",
       "      <th>snaen</th>\n",
       "      <th>sareaen</th>\n",
       "      <th>aren</th>\n",
       "      <th>sno</th>\n",
       "      <th>tot</th>\n",
       "      <th>sbi</th>\n",
       "      <th>mday</th>\n",
       "      <th>lat</th>\n",
       "      <th>lng</th>\n",
       "      <th>bemp</th>\n",
       "      <th>act</th>\n",
       "      <th>sbi_detail</th>\n",
       "    </tr>\n",
       "  </thead>\n",
       "  <tbody>\n",
       "    <tr>\n",
       "      <th>0</th>\n",
       "      <td>台中市</td>\n",
       "      <td>Taichung City</td>\n",
       "      <td>YouBike2.0_綠川東中山路口</td>\n",
       "      <td>中區</td>\n",
       "      <td>綠川東街/中山路口(東側)</td>\n",
       "      <td>YouBike2.0_Luchuan E. St. / Zhongshan Rd.</td>\n",
       "      <td>Central Dist</td>\n",
       "      <td>Luchuan E. St. &amp; Zhongshan Rd. Intersection (E...</td>\n",
       "      <td>500601001</td>\n",
       "      <td>16</td>\n",
       "      <td>5</td>\n",
       "      <td>20250415021004</td>\n",
       "      <td>24.13785</td>\n",
       "      <td>120.68337</td>\n",
       "      <td>11</td>\n",
       "      <td>1</td>\n",
       "      <td>{'yb2': '5', 'eyb': '0'}</td>\n",
       "    </tr>\n",
       "    <tr>\n",
       "      <th>1</th>\n",
       "      <td>台中市</td>\n",
       "      <td>Taichung City</td>\n",
       "      <td>YouBike2.0_繼光光復路口</td>\n",
       "      <td>中區</td>\n",
       "      <td>繼光街166號(對側人行道)</td>\n",
       "      <td>YouBike2.0_Jiguang St. / Guangfu Rd.</td>\n",
       "      <td>Central Dist</td>\n",
       "      <td>No.166, Jiguang St. (Opposite)</td>\n",
       "      <td>500601002</td>\n",
       "      <td>18</td>\n",
       "      <td>17</td>\n",
       "      <td>20250415125614</td>\n",
       "      <td>24.1411</td>\n",
       "      <td>120.68474</td>\n",
       "      <td>1</td>\n",
       "      <td>1</td>\n",
       "      <td>{'yb2': '17', 'eyb': '0'}</td>\n",
       "    </tr>\n",
       "    <tr>\n",
       "      <th>2</th>\n",
       "      <td>台中市</td>\n",
       "      <td>Taichung City</td>\n",
       "      <td>YouBike2.0_柳原教會</td>\n",
       "      <td>中區</td>\n",
       "      <td>興中街/福音街口(西南側)</td>\n",
       "      <td>YouBike2.0_Liuyuan Presbyterian Church</td>\n",
       "      <td>Central Dist</td>\n",
       "      <td>Xingzhong St. &amp; Fuyin St. Intersection (Southw...</td>\n",
       "      <td>500601003</td>\n",
       "      <td>13</td>\n",
       "      <td>2</td>\n",
       "      <td>20250415082515</td>\n",
       "      <td>24.145923</td>\n",
       "      <td>120.681301</td>\n",
       "      <td>10</td>\n",
       "      <td>1</td>\n",
       "      <td>{'yb2': '2', 'eyb': '0'}</td>\n",
       "    </tr>\n",
       "    <tr>\n",
       "      <th>3</th>\n",
       "      <td>台中市</td>\n",
       "      <td>Taichung City</td>\n",
       "      <td>YouBike2.0_臺中車站(建國路)</td>\n",
       "      <td>中區</td>\n",
       "      <td>建國路/中山路口(北側)</td>\n",
       "      <td>YouBike2.0_Taichung Station (Jianguo Rd.)</td>\n",
       "      <td>Central Dist</td>\n",
       "      <td>Jianguo Rd. &amp; Zhongshan Rd. Intersection (North)</td>\n",
       "      <td>500601004</td>\n",
       "      <td>79</td>\n",
       "      <td>2</td>\n",
       "      <td>20250415112917</td>\n",
       "      <td>24.13746</td>\n",
       "      <td>120.68435</td>\n",
       "      <td>77</td>\n",
       "      <td>1</td>\n",
       "      <td>{'yb2': '1', 'eyb': '1'}</td>\n",
       "    </tr>\n",
       "    <tr>\n",
       "      <th>4</th>\n",
       "      <td>台中市</td>\n",
       "      <td>Taichung City</td>\n",
       "      <td>YouBike2.0_柳川東中華路口</td>\n",
       "      <td>中區</td>\n",
       "      <td>柳川東路四段/中華路二段口(西北側)</td>\n",
       "      <td>YouBike2.0_Liuchuan E. Rd. / Zhonghua Rd.</td>\n",
       "      <td>Central Dist</td>\n",
       "      <td>Sec. 4, Liuchuan E. Rd. &amp; Sec. 2, Zhonghua Rd....</td>\n",
       "      <td>500601005</td>\n",
       "      <td>30</td>\n",
       "      <td>1</td>\n",
       "      <td>20250415132715</td>\n",
       "      <td>24.14692</td>\n",
       "      <td>120.6783</td>\n",
       "      <td>29</td>\n",
       "      <td>1</td>\n",
       "      <td>{'yb2': '1', 'eyb': '0'}</td>\n",
       "    </tr>\n",
       "  </tbody>\n",
       "</table>\n",
       "</div>"
      ],
      "text/plain": [
       "  scity        scityen                   sna sarea                  ar  \\\n",
       "0   台中市  Taichung City    YouBike2.0_綠川東中山路口    中區       綠川東街/中山路口(東側)   \n",
       "1   台中市  Taichung City     YouBike2.0_繼光光復路口    中區      繼光街166號(對側人行道)   \n",
       "2   台中市  Taichung City       YouBike2.0_柳原教會    中區       興中街/福音街口(西南側)   \n",
       "3   台中市  Taichung City  YouBike2.0_臺中車站(建國路)    中區        建國路/中山路口(北側)   \n",
       "4   台中市  Taichung City    YouBike2.0_柳川東中華路口    中區  柳川東路四段/中華路二段口(西北側)   \n",
       "\n",
       "                                       snaen       sareaen  \\\n",
       "0  YouBike2.0_Luchuan E. St. / Zhongshan Rd.  Central Dist   \n",
       "1       YouBike2.0_Jiguang St. / Guangfu Rd.  Central Dist   \n",
       "2     YouBike2.0_Liuyuan Presbyterian Church  Central Dist   \n",
       "3  YouBike2.0_Taichung Station (Jianguo Rd.)  Central Dist   \n",
       "4  YouBike2.0_Liuchuan E. Rd. / Zhonghua Rd.  Central Dist   \n",
       "\n",
       "                                                aren        sno tot sbi  \\\n",
       "0  Luchuan E. St. & Zhongshan Rd. Intersection (E...  500601001  16   5   \n",
       "1                     No.166, Jiguang St. (Opposite)  500601002  18  17   \n",
       "2  Xingzhong St. & Fuyin St. Intersection (Southw...  500601003  13   2   \n",
       "3   Jianguo Rd. & Zhongshan Rd. Intersection (North)  500601004  79   2   \n",
       "4  Sec. 4, Liuchuan E. Rd. & Sec. 2, Zhonghua Rd....  500601005  30   1   \n",
       "\n",
       "             mday        lat         lng bemp act                 sbi_detail  \n",
       "0  20250415021004   24.13785   120.68337   11   1   {'yb2': '5', 'eyb': '0'}  \n",
       "1  20250415125614    24.1411   120.68474    1   1  {'yb2': '17', 'eyb': '0'}  \n",
       "2  20250415082515  24.145923  120.681301   10   1   {'yb2': '2', 'eyb': '0'}  \n",
       "3  20250415112917   24.13746   120.68435   77   1   {'yb2': '1', 'eyb': '1'}  \n",
       "4  20250415132715   24.14692    120.6783   29   1   {'yb2': '1', 'eyb': '0'}  "
      ]
     },
     "execution_count": 49,
     "metadata": {},
     "output_type": "execute_result"
    }
   ],
   "source": [
    "url = \"../Data/臺中市公共自行車(YouBike2.0)租借站&即時車位資料.json\" # Taichung\n",
    "with open(url, \"r\", encoding=\"utf-8\") as f:\n",
    "    data_str = f.read()\n",
    "\n",
    "data = json.loads(data_str)\n",
    "df = pd.DataFrame(data['retVal'])\n",
    "\n",
    "df.head()"
   ]
  },
  {
   "cell_type": "markdown",
   "metadata": {},
   "source": [
    "## New"
   ]
  },
  {
   "cell_type": "code",
   "execution_count": 32,
   "metadata": {},
   "outputs": [],
   "source": [
    "data_lst = [\n",
    "    'changhua', 'chiayi', 'chiayicountry', 'hsinchu', 'hsinchucountry',\n",
    "    'kaoshiung', 'miaoli', 'newtaipei', 'pingtung', 'taichung',\n",
    "    'tainan', 'taipei', 'taitung', 'taoyuan', 'yunlin'\n",
    "]"
   ]
  },
  {
   "cell_type": "code",
   "execution_count": 35,
   "metadata": {},
   "outputs": [],
   "source": [
    "def get_data(city):\n",
    "\n",
    "    url = f\"../Data/Youbike/{city}.json\"\n",
    "    with open(url, \"r\", encoding=\"utf-8\") as f:\n",
    "        data_str = f.read()\n",
    "\n",
    "    data = json.loads(data_str)\n",
    "    df = pd.DataFrame(data)\n",
    "\n",
    "    dft = pd.DataFrame()\n",
    "    dft['StationName'] = df['StationName'].apply(lambda x: x['Zh_tw'])\n",
    "    dft['PositionLat'] = df['StationPosition'].apply(lambda x: x['PositionLat'])\n",
    "    dft['PositionLon'] = df['StationPosition'].apply(lambda x: x['PositionLon'])\n",
    "\n",
    "    dft.to_csv(f\"../ComputedData/Youbike/{city}.csv\", index=False, encoding='utf-8')\n"
   ]
  },
  {
   "cell_type": "code",
   "execution_count": 36,
   "metadata": {},
   "outputs": [],
   "source": [
    "for city in data_lst:\n",
    "    get_data(city)"
   ]
  }
 ],
 "metadata": {
  "kernelspec": {
   "display_name": "3.9.13",
   "language": "python",
   "name": "python3"
  },
  "language_info": {
   "codemirror_mode": {
    "name": "ipython",
    "version": 3
   },
   "file_extension": ".py",
   "mimetype": "text/x-python",
   "name": "python",
   "nbconvert_exporter": "python",
   "pygments_lexer": "ipython3",
   "version": "3.9.13"
  }
 },
 "nbformat": 4,
 "nbformat_minor": 2
}
