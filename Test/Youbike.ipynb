{
 "cells": [
  {
   "cell_type": "code",
   "execution_count": null,
   "metadata": {},
   "outputs": [],
   "source": [
    "import re\n",
    "import json\n",
    "import requests\n",
    "import pandas as pd\n",
    "from bs4 import BeautifulSoup"
   ]
  },
  {
   "cell_type": "markdown",
   "metadata": {},
   "source": [
    "## Old"
   ]
  },
  {
   "cell_type": "code",
   "execution_count": null,
   "metadata": {},
   "outputs": [],
   "source": [
    "url_tp = \"https://tcgbusfs.blob.core.windows.net/dotapp/youbike/v2/youbike_immediate.json\" # Taipei\n",
    "\n",
    "response = requests.get(url_tp)\n",
    "data_tp = response.json()\n",
    "df_tp = pd.DataFrame(data_tp)\n",
    "\n",
    "df_tp.to_csv(\"../ComputedData/Youbike/taipei.csv\", index=False, encoding='utf-8')\n",
    "\n",
    "\n",
    "url_tc = \"../Data/臺中市公共自行車(YouBike2.0)租借站&即時車位資料.json\" # Taichung\n",
    "\n",
    "with open(url_tc, \"r\", encoding=\"utf-8\") as f:\n",
    "    data_tc_str = f.read()\n",
    "data = json.loads(data_tc_str)\n",
    "df_tc = pd.DataFrame(data['retVal'])\n",
    "\n",
    "df_tc.to_csv(\"../ComputedData/Youbike/taichung.csv\", index=False, encoding='utf-8')"
   ]
  },
  {
   "cell_type": "code",
   "execution_count": null,
   "metadata": {},
   "outputs": [],
   "source": [
    "url = \"../Data/臺中市公共自行車(YouBike2.0)租借站&即時車位資料.json\" # Taichung\n",
    "with open(url, \"r\", encoding=\"utf-8\") as f:\n",
    "    data_str = f.read()\n",
    "\n",
    "data = json.loads(data_str)\n",
    "df = pd.DataFrame(data['retVal'])\n",
    "\n",
    "df.head()"
   ]
  },
  {
   "cell_type": "markdown",
   "metadata": {},
   "source": [
    "## New"
   ]
  },
  {
   "cell_type": "code",
   "execution_count": null,
   "metadata": {},
   "outputs": [],
   "source": [
    "data_lst = [\n",
    "    'changhua', 'chiayi', 'chiayicountry', 'hsinchu', 'hsinchucountry',\n",
    "    'kaoshiung', 'miaoli', 'newtaipei', 'pingtung', 'taichung',\n",
    "    'tainan', 'taipei', 'taitung', 'taoyuan', 'yunlin'\n",
    "]"
   ]
  },
  {
   "cell_type": "code",
   "execution_count": null,
   "metadata": {},
   "outputs": [],
   "source": [
    "def get_data(city):\n",
    "\n",
    "    url = f\"../Data/Youbike/{city}.json\"\n",
    "    with open(url, \"r\", encoding=\"utf-8\") as f:\n",
    "        data_str = f.read()\n",
    "\n",
    "    data = json.loads(data_str)\n",
    "    df = pd.DataFrame(data)\n",
    "\n",
    "    dft = pd.DataFrame()\n",
    "    dft['StationName'] = df['StationName'].apply(lambda x: x['Zh_tw'])\n",
    "    dft['PositionLat'] = df['StationPosition'].apply(lambda x: x['PositionLat'])\n",
    "    dft['PositionLon'] = df['StationPosition'].apply(lambda x: x['PositionLon'])\n",
    "\n",
    "    dft.to_csv(f\"../ComputedData/Youbike/{city}.csv\", index=False, encoding='utf-8')\n"
   ]
  },
  {
   "cell_type": "code",
   "execution_count": null,
   "metadata": {},
   "outputs": [],
   "source": [
    "for city in data_lst:\n",
    "    get_data(city)"
   ]
  }
 ],
 "metadata": {
  "kernelspec": {
   "display_name": "ST-RTA",
   "language": "python",
   "name": "python3"
  },
  "language_info": {
   "codemirror_mode": {
    "name": "ipython",
    "version": 3
   },
   "file_extension": ".py",
   "mimetype": "text/x-python",
   "name": "python",
   "nbconvert_exporter": "python",
   "pygments_lexer": "ipython3",
   "version": "3.9.21"
  }
 },
 "nbformat": 4,
 "nbformat_minor": 2
}
