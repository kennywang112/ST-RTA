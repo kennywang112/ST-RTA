{
 "cells": [
  {
   "cell_type": "code",
   "execution_count": null,
   "id": "63d0f9a7",
   "metadata": {},
   "outputs": [],
   "source": [
    "import os\n",
    "\n",
    "current_dir = os.getcwd()\n",
    "parent_dir = os.path.dirname(current_dir)\n",
    "analyze_path = os.path.join(parent_dir, \"utils\")\n",
    "\n",
    "os.chdir(analyze_path)"
   ]
  },
  {
   "cell_type": "code",
   "execution_count": null,
   "id": "3b3a2169",
   "metadata": {},
   "outputs": [],
   "source": [
    "import pandas as pd\n",
    "taiwan_data = pd.read_csv(\"../ComputedDataV2/Accident/combined_data_in_taiwan.csv\")\n",
    "combined_data = pd.read_csv('../ComputedDataV2/ForModel/combined_data_with_hotspot.csv')\n",
    "\n",
    "taiwan_data.shape, combined_data.shape"
   ]
  },
  {
   "cell_type": "code",
   "execution_count": null,
   "id": "6dbc266f",
   "metadata": {},
   "outputs": [],
   "source": [
    "roundabout = combined_data[combined_data['道路型態子類別名稱'] == '圓環']\n",
    "\n",
    "roundabout_hotspot = combined_data[(combined_data['道路型態子類別名稱'] == '圓環') &\n",
    "                                    (combined_data['道路類別-第1當事者-名稱'] == '市區道路') &\n",
    "                                    (combined_data['速限-第1當事者'] < 60) &\n",
    "                                    (combined_data['youbike_100m_count'] != 0)\n",
    "                                    ]"
   ]
  },
  {
   "cell_type": "code",
   "execution_count": null,
   "id": "18c25072",
   "metadata": {},
   "outputs": [],
   "source": [
    "def categorize_roundabout(row):\n",
    "    if (row['號誌-號誌種類名稱'] == '無號誌') & (row['車道劃分設施-分向設施大類別名稱'] == '無'):\n",
    "        return 'No signal / No lane division'\n",
    "    elif (row['號誌-號誌種類名稱'] == '無號誌') & (row['車道劃分設施-分向設施大類別名稱'] != '無'):\n",
    "        return 'No signal / With lane division'\n",
    "    elif (row['號誌-號誌種類名稱'] != '無號誌') & (row['車道劃分設施-分向設施大類別名稱'] == '無'):\n",
    "        return 'With signal / No lane division'\n",
    "    else:\n",
    "        return 'With signal / With lane division'\n",
    "\n",
    "roundabout['cross_roundabout'] = roundabout.apply(categorize_roundabout, axis=1)"
   ]
  },
  {
   "cell_type": "code",
   "execution_count": null,
   "id": "efd7122b",
   "metadata": {},
   "outputs": [],
   "source": [
    "roundabout.to_csv('../ComputedDataV2/plot/roundabout_data_with_cross_type.csv', index=False)"
   ]
  },
  {
   "cell_type": "code",
   "execution_count": null,
   "id": "4d68367c",
   "metadata": {},
   "outputs": [],
   "source": [
    "import pydeck as pdk\n",
    "\n",
    "# Define a layer to display on a map\n",
    "layer = pdk.Layer(\n",
    "    \"HexagonLayer\",\n",
    "    roundabout_hotspot[[\"經度\", \"緯度\"]],\n",
    "    get_position=[\"經度\", \"緯度\"],\n",
    "    auto_highlight=True,\n",
    "    elevation_scale=50,\n",
    "    # radius=1000,\n",
    "    pickable=True,\n",
    "    elevation_range=[0, 3000],\n",
    "    extruded=True,\n",
    "    coverage=1,\n",
    ")\n",
    "\n",
    "# Set the viewport location\n",
    "view_state = pdk.ViewState(\n",
    "    longitude=120.533531,\n",
    "    latitude=22.505826,\n",
    "    zoom=6,\n",
    "    min_zoom=5,\n",
    "    max_zoom=15,\n",
    "    pitch=40,\n",
    "    bearing=-10,\n",
    ")\n",
    "\n",
    "# Render\n",
    "r = pdk.Deck(layers=[layer], initial_view_state=view_state)\n",
    "r.to_html(\"../ComputedDataV2/Deck/roundabout_hotspottt.html\")"
   ]
  }
 ],
 "metadata": {
  "kernelspec": {
   "display_name": "ST-RTA",
   "language": "python",
   "name": "python3"
  },
  "language_info": {
   "codemirror_mode": {
    "name": "ipython",
    "version": 3
   },
   "file_extension": ".py",
   "mimetype": "text/x-python",
   "name": "python",
   "nbconvert_exporter": "python",
   "pygments_lexer": "ipython3",
   "version": "3.9.21"
  }
 },
 "nbformat": 4,
 "nbformat_minor": 5
}
