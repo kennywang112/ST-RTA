{
 "cells": [
  {
   "cell_type": "code",
   "execution_count": null,
   "id": "63d0f9a7",
   "metadata": {},
   "outputs": [],
   "source": [
    "import os\n",
    "\n",
    "current_dir = os.getcwd()\n",
    "parent_dir = os.path.dirname(current_dir)\n",
    "analyze_path = os.path.join(parent_dir, \"utils\")\n",
    "\n",
    "os.chdir(analyze_path)"
   ]
  },
  {
   "cell_type": "code",
   "execution_count": null,
   "id": "3b3a2169",
   "metadata": {},
   "outputs": [],
   "source": [
    "import pandas as pd\n",
    "taiwan_data = pd.read_csv(\"../ComputedDataV2/Accident/combined_data_in_taiwan.csv\")"
   ]
  },
  {
   "cell_type": "code",
   "execution_count": null,
   "id": "43afc9fc",
   "metadata": {},
   "outputs": [],
   "source": [
    "from utils import read_data\n",
    "combined_data = read_data()"
   ]
  },
  {
   "cell_type": "code",
   "execution_count": null,
   "id": "4d68367c",
   "metadata": {},
   "outputs": [],
   "source": [
    "import pydeck as pdk\n",
    "\n",
    "# Define a layer to display on a map\n",
    "layer = pdk.Layer(\n",
    "    \"HexagonLayer\",\n",
    "    taiwan_data[[\"經度\", \"緯度\"]],\n",
    "    get_position=[\"經度\", \"緯度\"],\n",
    "    auto_highlight=True,\n",
    "    elevation_scale=50,\n",
    "    pickable=True,\n",
    "    elevation_range=[0, 3000],\n",
    "    extruded=True,\n",
    "    coverage=1,\n",
    ")"
   ]
  },
  {
   "cell_type": "code",
   "execution_count": null,
   "id": "68ee44a8",
   "metadata": {},
   "outputs": [],
   "source": [
    "# Set the viewport location\n",
    "view_state = pdk.ViewState(\n",
    "    longitude=120.533531,\n",
    "    latitude=22.505826,\n",
    "    zoom=6,\n",
    "    min_zoom=5,\n",
    "    max_zoom=15,\n",
    "    pitch=40,\n",
    "    bearing=-50,\n",
    ")\n",
    "\n",
    "# Render\n",
    "r = pdk.Deck(layers=[layer], initial_view_state=view_state)\n",
    "r.to_html(\"../ComputedDataV2/hexagon_layer.html\")"
   ]
  }
 ],
 "metadata": {
  "kernelspec": {
   "display_name": "ST-RTA",
   "language": "python",
   "name": "python3"
  },
  "language_info": {
   "codemirror_mode": {
    "name": "ipython",
    "version": 3
   },
   "file_extension": ".py",
   "mimetype": "text/x-python",
   "name": "python",
   "nbconvert_exporter": "python",
   "pygments_lexer": "ipython3",
   "version": "3.9.21"
  }
 },
 "nbformat": 4,
 "nbformat_minor": 5
}
