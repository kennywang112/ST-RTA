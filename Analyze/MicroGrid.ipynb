{
 "cells": [
  {
   "cell_type": "markdown",
   "metadata": {},
   "source": [
    "# Micro"
   ]
  },
  {
   "cell_type": "markdown",
   "metadata": {},
   "source": [
    "### Morans I"
   ]
  },
  {
   "cell_type": "code",
   "execution_count": 4,
   "metadata": {},
   "outputs": [],
   "source": [
    "import os\n",
    "\n",
    "current_dir = os.getcwd()\n",
    "parent_dir = os.path.dirname(current_dir)\n",
    "analyze_path = os.path.join(parent_dir, \"utils\")\n",
    "\n",
    "os.chdir(analyze_path)"
   ]
  },
  {
   "cell_type": "code",
   "execution_count": 5,
   "metadata": {},
   "outputs": [],
   "source": [
    "import pandas as pd\n",
    "import geopandas as gpd\n",
    "\n",
    "from utils import specific_polygon, plot_hex_grid, get_isa_plot, calculate_gi, plot_gi"
   ]
  },
  {
   "cell_type": "code",
   "execution_count": null,
   "metadata": {},
   "outputs": [],
   "source": [
    "dataA1 = pd.read_csv('../ComputedData/Accident/DataA1_with_MYP.csv')\n",
    "dataA2 = pd.read_csv('../ComputedData/Accident/DataA2_with_MYP.csv')\n",
    "taiwan = gpd.read_file('../Data/OFiles_9e222fea-bafb-4436-9b17-10921abc6ef2/TOWN_MOI_1140318.shp')\n",
    "taiwan = taiwan[(~taiwan['TOWNNAME'].isin(['旗津區', '頭城鎮', '蘭嶼鄉', '綠島鄉', '琉球鄉'])) & \n",
    "                (~taiwan['COUNTYNAME'].isin(['金門縣', '連江縣', '澎湖縣']))]\n",
    "\n",
    "filtered_A2 = dataA2[dataA2['當事者順位'] == 1]\n",
    "filtered_A1 = dataA1[dataA1['當事者順位'] == 1]\n",
    "\n",
    "filtered_A1['source'] = 'A1'\n",
    "filtered_A2['source'] = 'A2'\n",
    "filtered_A1['num_accidents'] = 1 \n",
    "filtered_A2['num_accidents'] = 1\n",
    "combined_data = pd.concat([filtered_A1, filtered_A2], ignore_index=True)"
   ]
  },
  {
   "cell_type": "markdown",
   "metadata": {},
   "source": [
    "### deprecated"
   ]
  },
  {
   "cell_type": "code",
   "execution_count": null,
   "metadata": {},
   "outputs": [],
   "source": [
    "# 特定區域的polygon\n",
    "specific_A2, taiwan_specific = specific_polygon(filtered_A2, taiwan, ['臺北市', '新北市', '桃園市'])\n",
    "# 對特定區域以及grid做圖\n",
    "hex_grid = plot_hex_grid(specific_A2, taiwan_specific.to_crs(epsg=3826), threshold=-1, hex_size=0.001)\n",
    "# 計算ISA以及做圖\n",
    "best_distance = get_isa_plot(specific_A2, -1)\n",
    "# 依照最佳距離計算gi\n",
    "grid = calculate_gi(best_distance, hex_grid)\n",
    "plot_gi(taiwan_specific, grid)"
   ]
  },
  {
   "cell_type": "markdown",
   "metadata": {},
   "source": [
    "### new"
   ]
  },
  {
   "cell_type": "code",
   "execution_count": null,
   "metadata": {},
   "outputs": [],
   "source": [
    "# 特定區域的polygon\n",
    "\n",
    "# area = ['臺北市', '新北市', '桃園市', '新竹市', '新竹縣']\n",
    "# area = ['臺中市', '彰化縣', '雲林縣', '苗栗縣']\n",
    "# area = ['高雄市', '臺南市', '屏東縣', '嘉義市', '嘉義縣']\n",
    "area = ['花蓮縣', '臺東縣', '宜蘭縣']\n",
    "# area = ['臺北市', '新北市']\n",
    "\n",
    "specific, taiwan_specific = specific_polygon(combined_data, taiwan, area)\n",
    "# 對特定區域以及grid做圖\n",
    "hex_grid = plot_hex_grid(specific, taiwan_specific.to_crs(epsg=3826), threshold=-1, hex_size=0.01)\n",
    "# hex_grid.to_file('../ComputedData/Grid/micro_north_hs.geojson', driver='GeoJSON')"
   ]
  },
  {
   "cell_type": "markdown",
   "metadata": {},
   "source": [
    "## Lisa plot"
   ]
  },
  {
   "cell_type": "code",
   "execution_count": null,
   "metadata": {},
   "outputs": [],
   "source": [
    "from utils_lisa import LocalMoranAnalysis\n",
    "\n",
    "analysis = LocalMoranAnalysis(hex_grid, taiwan_specific, k=6)\n",
    "analysis.calculate_local_moran()\n",
    "analysis.plot_lisa()\n",
    "analysis.lisa_scatter_plot()\n",
    "# analysis.plot_lisa_folium()"
   ]
  },
  {
   "cell_type": "markdown",
   "metadata": {},
   "source": [
    "## Best Gestis-Ord"
   ]
  },
  {
   "cell_type": "code",
   "execution_count": null,
   "metadata": {},
   "outputs": [],
   "source": [
    "results = []  # 用來存每個距離的結果\n",
    "\n",
    "# for i in range(1000, 10000, 1000):\n",
    "for i in range(6, 10, 1):\n",
    "    print(i)\n",
    "    hex_grid = calculate_gi(i, hex_grid, adjacency='knn')\n",
    "    c = hex_grid[hex_grid['hotspot'] != 'Not Significant']\n",
    "    sig_count = c.shape[0]  # 顯著點的數量\n",
    "    \n",
    "    # 把結果存起來\n",
    "    results.append((i, sig_count))\n",
    "\n",
    "print(results)\n",
    "\n",
    "best_distance, max_sig_count = max(results, key=lambda x: x[1])"
   ]
  },
  {
   "cell_type": "markdown",
   "metadata": {},
   "source": [
    "## Getis-Ord"
   ]
  },
  {
   "cell_type": "code",
   "execution_count": null,
   "metadata": {},
   "outputs": [],
   "source": [
    "grid = calculate_gi(6, hex_grid, adjacency='knn')\n",
    "\n",
    "# plot_gi(taiwan_specific.to_crs(epsg=4326), grid.to_crs(epsg=4326))\n",
    "# grid.to_file('../ComputedData/Grid/micro_north_gi.geojson', driver='GeoJSON')"
   ]
  },
  {
   "cell_type": "markdown",
   "metadata": {},
   "source": [
    "### Add Infrastructure on the map"
   ]
  },
  {
   "cell_type": "code",
   "execution_count": null,
   "metadata": {},
   "outputs": [],
   "source": [
    "MRT_full = pd.read_csv('../ComputedData/MRT/full_mrt.csv')\n",
    "Youbike_full = pd.read_csv('../ComputedData/Youbike/full_youbike.csv')\n",
    "Parkinglot_full = pd.read_csv('../ComputedData/Parkinglot/full_parkinglot.csv')\n",
    "\n",
    "\n",
    "def group_infrastructure_count(df, hex_grid):\n",
    "    gdf = gpd.GeoDataFrame(\n",
    "        df,\n",
    "        geometry=gpd.points_from_xy(df['PositionLon'], df['PositionLat']),\n",
    "        crs='EPSG:4326'\n",
    "    )\n",
    "    gdf = gdf.to_crs(hex_grid.crs)\n",
    "    joined = gpd.sjoin(gdf, hex_grid, how='left', predicate='within')\n",
    "    mrt_count = joined.groupby('index_right').size()\n",
    "    \n",
    "    return mrt_count"
   ]
  },
  {
   "cell_type": "code",
   "execution_count": null,
   "metadata": {},
   "outputs": [],
   "source": [
    "mrt_count = group_infrastructure_count(MRT_full, hex_grid)\n",
    "youbike_count = group_infrastructure_count(Youbike_full, hex_grid)\n",
    "parkinglot_count = group_infrastructure_count(Parkinglot_full, hex_grid)\n",
    "\n",
    "hex_grid['mrt_count'] = hex_grid.index.map(mrt_count).fillna(0).astype(int)\n",
    "hex_grid['youbike_count'] = hex_grid.index.map(youbike_count).fillna(0).astype(int)\n",
    "hex_grid['parkinglot_count'] = hex_grid.index.map(parkinglot_count).fillna(0).astype(int)\n",
    "hex_grid['full_infrastructure'] = hex_grid['mrt_count'] + hex_grid['youbike_count'] + hex_grid['parkinglot_count']"
   ]
  },
  {
   "cell_type": "code",
   "execution_count": null,
   "metadata": {},
   "outputs": [],
   "source": [
    "from utils import plot_map\n",
    "plot_map(specific, hex_grid.to_crs(epsg=4326), gi=True, count='full_infrastructure')"
   ]
  },
  {
   "cell_type": "markdown",
   "metadata": {},
   "source": [
    "### 觀察設施的多寡是否和事故的數量有相關"
   ]
  },
  {
   "cell_type": "code",
   "execution_count": null,
   "metadata": {},
   "outputs": [],
   "source": [
    "from utils_infrastructure import scatter_with_regression, scatter_with_spearman\n",
    "\n",
    "scatter_with_regression(hex_grid, 'num_accidents', 'full_infrastructure')\n",
    "scatter_with_spearman(hex_grid, 'num_accidents', 'full_infrastructure')"
   ]
  },
  {
   "cell_type": "markdown",
   "metadata": {},
   "source": [
    "### 觀察全部設施是否和人與車有相關"
   ]
  },
  {
   "cell_type": "code",
   "execution_count": null,
   "metadata": {},
   "outputs": [],
   "source": [
    "combined_gdf = gpd.GeoDataFrame(\n",
    "    combined_data,\n",
    "    geometry=gpd.points_from_xy(combined_data['經度'], combined_data['緯度']),\n",
    "    crs='EPSG:4326'\n",
    ")\n",
    "combined_gdf = combined_gdf.to_crs(hex_grid.crs)\n",
    "joined = gpd.sjoin(combined_gdf, hex_grid, how='left', predicate='within')\n",
    "\n",
    "feature = '事故類型及型態大類別名稱'\n",
    "target = '人與車'"
   ]
  },
  {
   "cell_type": "code",
   "execution_count": null,
   "metadata": {},
   "outputs": [],
   "source": [
    "def calculate(group, feature, ratio=False):\n",
    "\n",
    "    count = len(group[group[feature] == target])\n",
    "\n",
    "    if ratio:\n",
    "        total = len(group)\n",
    "        if total == 0:\n",
    "            return 0\n",
    "        return count / total\n",
    "    else:\n",
    "        return count\n",
    "    \n",
    "def calculate_most_common(group):\n",
    "    # 計算每個類別的出現次數\n",
    "    most_common = group[feature].value_counts().idxmax()  # 找到出現次數最多的類別\n",
    "    return most_common\n",
    "\n",
    "def calculate_average(group, feature):\n",
    "    if len(group) > 0:\n",
    "        return group[feature].mean()\n",
    "    else:\n",
    "        return 0"
   ]
  },
  {
   "cell_type": "code",
   "execution_count": null,
   "metadata": {},
   "outputs": [],
   "source": [
    "data_feature = joined.groupby('index_right').apply(lambda group: calculate(group, feature, ratio=True))\n",
    "hex_grid['human_vehicle_total'] = hex_grid.index.map(data_feature).fillna(0)\n",
    "\n",
    "# most_common_feature = joined.groupby('index_right').apply(calculate_most_common)\n",
    "# hex_grid['most_common_feature'] = hex_grid.index.map(most_common_feature).fillna('未知')\n",
    "\n",
    "# data_feature = joined.groupby('index_right').apply(lambda group: calculate_average(group, '速限-第1當事者'))\n",
    "# hex_grid['average_speed_limit'] = hex_grid.index.map(data_feature).fillna(0)"
   ]
  },
  {
   "cell_type": "code",
   "execution_count": null,
   "metadata": {},
   "outputs": [],
   "source": [
    "scatter_with_regression(hex_grid, 'human_vehicle_total', 'full_infrastructure')\n",
    "scatter_with_spearman(hex_grid, 'human_vehicle_total', 'full_infrastructure')"
   ]
  },
  {
   "cell_type": "code",
   "execution_count": null,
   "metadata": {},
   "outputs": [],
   "source": [
    "hex_grid['new_hotspot'] = hex_grid['hotspot'].apply(lambda x: 'Hotspot' if x != 'Not Significant' else 'Not Significant')\n",
    "hex_grid['new_full_infrastructure'] = hex_grid['full_infrastructure'].apply(lambda x: 'Include Infrastructure' if x > 0 else 'No Infrastructure')\n",
    "hex_grid['type'] = hex_grid['new_hotspot'] + '/' + hex_grid['new_full_infrastructure']"
   ]
  },
  {
   "cell_type": "code",
   "execution_count": null,
   "metadata": {},
   "outputs": [],
   "source": [
    "import json\n",
    "import folium\n",
    "\n",
    "def plot_map_type(data, grid):\n",
    "    grid = grid.copy()\n",
    "    grid = grid.drop(columns=['centroid'], errors='ignore')\n",
    "    grid_json = json.loads(grid.to_json())\n",
    "\n",
    "    # 地圖中心點\n",
    "    center = [data['緯度'].mean(), data['經度'].mean()]\n",
    "\n",
    "    # 英文版底圖\n",
    "    m = folium.Map(\n",
    "        location=center, \n",
    "        zoom_start=10, \n",
    "        tiles='https://server.arcgisonline.com/ArcGIS/rest/services/World_Street_Map/MapServer/tile/{z}/{y}/{x}',\n",
    "        attr='Esri'\n",
    "    )\n",
    "\n",
    "    # 定義四種類型的顏色\n",
    "    def get_color(type_value):\n",
    "        if type_value == 'Hotspot/Include Infrastructure':\n",
    "            return \"#e44587\"  # 紅色 - 熱點且有基礎設施\n",
    "        elif type_value == 'Hotspot/No Infrastructure':\n",
    "            return \"#e493b5\"  # 淺紅色 - 熱點但無基礎設施\n",
    "        elif type_value == 'Not Significant/Include Infrastructure':\n",
    "            return \"#50e2cf\"  # 淺藍色 - 非顯著但有基礎設施\n",
    "        else:  # 'Not Significant/No Infrastructure'\n",
    "            return \"#b8e2dd\"  # 灰色 - 非顯著且無基礎設施\n",
    "\n",
    "    # 加入格網\n",
    "    folium.GeoJson(\n",
    "        grid_json,\n",
    "        style_function=lambda feature: {\n",
    "            'fillColor': get_color(feature['properties']['type']),\n",
    "            'color': 'grey',\n",
    "            'weight': 0.5,\n",
    "            'fillOpacity': 0.7\n",
    "        },\n",
    "        tooltip=folium.GeoJsonTooltip(\n",
    "            fields=['type', 'num_accidents', 'full_infrastructure'],\n",
    "            aliases=['Type:', 'Accidents:', 'Infrastructure:'],\n",
    "            localize=True\n",
    "        )\n",
    "    ).add_to(m)\n",
    "\n",
    "    # 添加圖例\n",
    "    legend_html = '''\n",
    "    <div style=\"position: fixed; \n",
    "                bottom: 50px; left: 50px; width: 280px; height: 160px; \n",
    "                background-color: white; border:2px solid grey; z-index:9999; \n",
    "                font-size:14px; padding: 10px\">\n",
    "    <h4>Legend</h4>\n",
    "    <p><i class=\"fa fa-square\" style=\"color:#e44587\"></i> Hotspot/Include Infrastructure</p>\n",
    "    <p><i class=\"fa fa-square\" style=\"color:#e493b5\"></i> Hotspot/No Infrastructure</p>\n",
    "    <p><i class=\"fa fa-square\" style=\"color:#50e2cf\"></i> Not Significant/Include Infrastructure</p>\n",
    "    <p><i class=\"fa fa-square\" style=\"color:#b8e2dd\"></i> Not Significant/No Infrastructure</p>\n",
    "    </div>\n",
    "    '''\n",
    "    m.get_root().html.add_child(folium.Element(legend_html))\n",
    "\n",
    "    return m\n",
    "\n",
    "map_result = plot_map_type(specific, hex_grid.to_crs(epsg=4326))\n",
    "map_result"
   ]
  },
  {
   "cell_type": "markdown",
   "metadata": {},
   "source": [
    "## 各縣市人車事故比"
   ]
  },
  {
   "cell_type": "code",
   "execution_count": null,
   "metadata": {},
   "outputs": [],
   "source": [
    "combined_gdf = gpd.GeoDataFrame(\n",
    "    combined_data,\n",
    "    geometry=gpd.points_from_xy(combined_data['經度'], combined_data['緯度']),\n",
    "    crs='EPSG:4326'\n",
    ")\n",
    "\n",
    "# 確保兩個 GeoDataFrame 使用相同的坐標系統\n",
    "taiwan_crs = taiwan.to_crs('EPSG:4326')\n",
    "combined_gdf_crs = combined_gdf.to_crs('EPSG:4326')\n",
    "\n",
    "# 進行空間連接，將事故點與縣市邊界配對\n",
    "joined = gpd.sjoin(combined_gdf_crs, taiwan_crs, how='left', predicate='within')"
   ]
  },
  {
   "cell_type": "code",
   "execution_count": null,
   "metadata": {},
   "outputs": [],
   "source": [
    "# 將縣市資訊加回原始資料\n",
    "combined_data['縣市'] = joined['COUNTYNAME']\n",
    "\n",
    "# 計算各縣市的人車事故比\n",
    "city_human_vehicle_ratio = {}\n",
    "\n",
    "cities = ['臺北市', '新北市', '臺中市', '高雄市', '花蓮縣', '臺東縣']\n",
    "\n",
    "for city in cities:\n",
    "    city_data = combined_data[combined_data['縣市'] == city]\n",
    "    if len(city_data) > 0:\n",
    "        human_vehicle_count = len(city_data[city_data['事故類型及型態大類別名稱'] == '人與車'])\n",
    "        total_count = len(city_data)\n",
    "        ratio = human_vehicle_count / total_count\n",
    "        city_human_vehicle_ratio[city] = ratio\n",
    "        print(f\"{city}: {total_count} 件事故, 人車事故比例: {ratio:.3f}\")\n",
    "    else:\n",
    "        city_human_vehicle_ratio[city] = 0\n",
    "        print(f\"{city}: 0 件事故\")"
   ]
  },
  {
   "cell_type": "code",
   "execution_count": null,
   "metadata": {},
   "outputs": [],
   "source": [
    "import matplotlib.pyplot as plt\n",
    "import seaborn as sns\n",
    "\n",
    "# 轉換為 DataFrame\n",
    "ratio_df = pd.DataFrame(list(city_human_vehicle_ratio.items()), \n",
    "                       columns=['City', 'Human_Vehicle_Ratio'])\n",
    "\n",
    "# 只保留有資料的縣市\n",
    "ratio_df = ratio_df[ratio_df['Human_Vehicle_Ratio'] > 0]\n",
    "ratio_df = ratio_df.sort_values('Human_Vehicle_Ratio', ascending=False)\n",
    "\n",
    "plt.figure(figsize=(14, 8))\n",
    "bars = plt.bar(ratio_df['City'], ratio_df['Human_Vehicle_Ratio'], \n",
    "               color='steelblue', alpha=0.7)\n",
    "\n",
    "average_ratio = ratio_df['Human_Vehicle_Ratio'].mean()\n",
    "plt.axhline(y=average_ratio, color=\"#6060cf\", linestyle='--', linewidth=2, \n",
    "            label=f'平均值: {average_ratio:.3f}')\n",
    "\n",
    "plt.text(len(ratio_df) - 1, average_ratio + 0.003, \n",
    "         f'Avg: {average_ratio:.3f}', \n",
    "         color='#6060cf', fontweight='bold', fontsize=12)\n",
    "\n",
    "plt.rcParams['font.family'] = ['Microsoft JhengHei'] \n",
    "plt.title('各縣市人車事故比例', fontsize=16, fontweight='bold')\n",
    "plt.xlabel('縣市', fontsize=12)\n",
    "plt.ylabel('人車事故比例', fontsize=12)\n",
    "plt.xticks(rotation=45, ha='right')\n",
    "plt.grid(axis='y', alpha=0.3)\n",
    "plt.tight_layout()\n",
    "plt.show()"
   ]
  }
 ],
 "metadata": {
  "kernelspec": {
   "display_name": "ST-RTA",
   "language": "python",
   "name": "python3"
  },
  "language_info": {
   "codemirror_mode": {
    "name": "ipython",
    "version": 3
   },
   "file_extension": ".py",
   "mimetype": "text/x-python",
   "name": "python",
   "nbconvert_exporter": "python",
   "pygments_lexer": "ipython3",
   "version": "3.9.21"
  }
 },
 "nbformat": 4,
 "nbformat_minor": 2
}
