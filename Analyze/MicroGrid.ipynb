{
 "cells": [
  {
   "cell_type": "markdown",
   "metadata": {},
   "source": [
    "### Morans I"
   ]
  },
  {
   "cell_type": "code",
   "execution_count": null,
   "metadata": {},
   "outputs": [],
   "source": [
    "import os\n",
    "\n",
    "current_dir = os.getcwd()\n",
    "parent_dir = os.path.dirname(current_dir)\n",
    "analyze_path = os.path.join(parent_dir, \"utils\")\n",
    "\n",
    "os.chdir(analyze_path)"
   ]
  },
  {
   "cell_type": "code",
   "execution_count": null,
   "metadata": {},
   "outputs": [],
   "source": [
    "import pandas as pd\n",
    "import geopandas as gpd\n",
    "\n",
    "from utils import specific_polygon, plot_hex_grid, get_isa_plot, calculate_gi, plot_gi, read_data\n",
    "\n",
    "combined_data = read_data()\n",
    "taiwan = gpd.read_file('../Data/OFiles_9e222fea-bafb-4436-9b17-10921abc6ef2/TOWN_MOI_1140318.shp')\n",
    "taiwan = taiwan[(~taiwan['TOWNNAME'].isin(['旗津區', '頭城鎮', '蘭嶼鄉', '綠島鄉', '琉球鄉'])) & \n",
    "                (~taiwan['COUNTYNAME'].isin(['金門縣', '連江縣', '澎湖縣']))]"
   ]
  },
  {
   "cell_type": "code",
   "execution_count": null,
   "metadata": {},
   "outputs": [],
   "source": [
    "area = {\n",
    "    '臺北市': None,\n",
    "    '新北市': None,\n",
    "    '臺中市': None,\n",
    "    '高雄市': None,\n",
    "    '花蓮縣': None,\n",
    "    '臺東縣': None\n",
    "}\n",
    "\n",
    "for area_name in area.keys():\n",
    "    print(f'Processing {area_name}...')\n",
    "    specific, taiwan_specific = specific_polygon(combined_data, taiwan, [area_name])\n",
    "    taiwan_specific.to_crs(epsg=3826, inplace=True)\n",
    "    # 對特定區域以及grid做圖\n",
    "    hex_grid = plot_hex_grid(specific, taiwan_specific, threshold=-1, hex_size=0.001)\n",
    "    area[area_name] = hex_grid"
   ]
  },
  {
   "cell_type": "code",
   "execution_count": null,
   "metadata": {},
   "outputs": [],
   "source": [
    "hex_grid = area['臺東縣']"
   ]
  },
  {
   "cell_type": "markdown",
   "metadata": {},
   "source": [
    "## Lisa plot"
   ]
  },
  {
   "cell_type": "code",
   "execution_count": null,
   "metadata": {},
   "outputs": [],
   "source": [
    "from utils_macro import LocalMoranAnalysis\n",
    "\n",
    "lma = LocalMoranAnalysis(hex_grid, taiwan_specific, k=6)\n",
    "lma.calculate_local_moran()\n",
    "lma.plot_lisa()\n",
    "lma.lisa_scatter_plot()\n",
    "# lma.plot_lisa_folium()"
   ]
  },
  {
   "cell_type": "markdown",
   "metadata": {},
   "source": [
    "### Gestis-Ord"
   ]
  },
  {
   "cell_type": "code",
   "execution_count": null,
   "metadata": {},
   "outputs": [],
   "source": [
    "grid = calculate_gi(6, hex_grid, adjacency='knn')\n",
    "# plot_gi(taiwan_specific.to_crs(epsg=4326), grid.to_crs(epsg=4326))\n",
    "# grid.to_file('../ComputedData/Grid/micro_north_gi.geojson', driver='GeoJSON')"
   ]
  },
  {
   "cell_type": "markdown",
   "metadata": {},
   "source": [
    "### Add Infrastructure on the map"
   ]
  },
  {
   "cell_type": "code",
   "execution_count": null,
   "metadata": {},
   "outputs": [],
   "source": [
    "MRT_full = pd.read_csv('../ComputedData/MRT/full_mrt.csv')\n",
    "Youbike_full = pd.read_csv('../ComputedData/Youbike/full_youbike.csv')\n",
    "Parkinglot_full = pd.read_csv('../ComputedData/Parkinglot/full_parkinglot.csv')\n",
    "\n",
    "def group_infrastructure_count(df, hex_grid):\n",
    "    gdf = gpd.GeoDataFrame(\n",
    "        df,\n",
    "        geometry=gpd.points_from_xy(df['PositionLon'], df['PositionLat']),\n",
    "        crs='EPSG:4326'\n",
    "    )\n",
    "    gdf = gdf.to_crs(hex_grid.crs)\n",
    "    joined = gpd.sjoin(gdf, hex_grid, how='left', predicate='within')\n",
    "    mrt_count = joined.groupby('index_right').size()\n",
    "    \n",
    "    return mrt_count"
   ]
  },
  {
   "cell_type": "code",
   "execution_count": null,
   "metadata": {},
   "outputs": [],
   "source": [
    "mrt_count = group_infrastructure_count(MRT_full, hex_grid)\n",
    "youbike_count = group_infrastructure_count(Youbike_full, hex_grid)\n",
    "parkinglot_count = group_infrastructure_count(Parkinglot_full, hex_grid)\n",
    "\n",
    "hex_grid['mrt_count'] = hex_grid.index.map(mrt_count).fillna(0).astype(int)\n",
    "hex_grid['youbike_count'] = hex_grid.index.map(youbike_count).fillna(0).astype(int)\n",
    "hex_grid['parkinglot_count'] = hex_grid.index.map(parkinglot_count).fillna(0).astype(int)\n",
    "hex_grid['full_infrastructure'] = hex_grid['mrt_count'] + hex_grid['youbike_count'] + hex_grid['parkinglot_count']"
   ]
  },
  {
   "cell_type": "code",
   "execution_count": null,
   "metadata": {},
   "outputs": [],
   "source": [
    "from utils import plot_map\n",
    "plot_map(specific, hex_grid.to_crs(epsg=4326), gi=True, count='full_infrastructure')"
   ]
  },
  {
   "cell_type": "markdown",
   "metadata": {},
   "source": [
    "### 觀察設施的多寡是否和事故的數量有相關"
   ]
  },
  {
   "cell_type": "code",
   "execution_count": null,
   "metadata": {},
   "outputs": [],
   "source": [
    "from utils_micro import scatter_with_regression, scatter_with_spearman\n",
    "\n",
    "scatter_with_regression(hex_grid, 'num_accidents', 'full_infrastructure')\n",
    "scatter_with_spearman(hex_grid, 'num_accidents', 'full_infrastructure')"
   ]
  },
  {
   "cell_type": "markdown",
   "metadata": {},
   "source": [
    "### 觀察全部設施是否和人與車有相關"
   ]
  },
  {
   "cell_type": "code",
   "execution_count": null,
   "metadata": {},
   "outputs": [],
   "source": [
    "combined_gdf = gpd.GeoDataFrame(\n",
    "    combined_data,\n",
    "    geometry=gpd.points_from_xy(combined_data['經度'], combined_data['緯度']),\n",
    "    crs='EPSG:4326'\n",
    ")\n",
    "combined_gdf = combined_gdf.to_crs(hex_grid.crs)\n",
    "joined = gpd.sjoin(combined_gdf, hex_grid, how='left', predicate='within')\n",
    "\n",
    "feature = '事故類型及型態大類別名稱'\n",
    "target = '人與車'"
   ]
  },
  {
   "cell_type": "markdown",
   "metadata": {},
   "source": [
    "### Correlation"
   ]
  },
  {
   "cell_type": "code",
   "execution_count": null,
   "metadata": {},
   "outputs": [],
   "source": [
    "from utils_macro import calculate, calculate_most_common, calculate_average\n",
    "\n",
    "data_feature = joined.groupby('index_right').apply(lambda group: calculate(group, feature, target, ratio=True))\n",
    "hex_grid['human_vehicle_total'] = hex_grid.index.map(data_feature).fillna(0)\n",
    "\n",
    "# most_common_feature = joined.groupby('index_right').apply(lambda group: calculate_most_common(group, feature))\n",
    "# hex_grid['most_common_feature'] = hex_grid.index.map(most_common_feature).fillna('未知')\n",
    "\n",
    "# data_feature = joined.groupby('index_right').apply(lambda group: calculate_average(group, '速限-第1當事者'))\n",
    "# hex_grid['average_speed_limit'] = hex_grid.index.map(data_feature).fillna(0)\n",
    "\n",
    "scatter_with_regression(hex_grid, 'human_vehicle_total', 'full_infrastructure')\n",
    "scatter_with_spearman(hex_grid, 'human_vehicle_total', 'full_infrastructure')"
   ]
  },
  {
   "cell_type": "code",
   "execution_count": null,
   "metadata": {},
   "outputs": [],
   "source": [
    "hex_grid['new_hotspot'] = hex_grid['hotspot'].apply(lambda x: 'Hotspot' if x != 'Not Significant' else 'Not Significant')\n",
    "hex_grid['new_full_infrastructure'] = hex_grid['full_infrastructure'].apply(lambda x: 'Include Infrastructure' if x > 0 else 'No Infrastructure')\n",
    "hex_grid['type'] = hex_grid['new_hotspot'] + '/' + hex_grid['new_full_infrastructure']"
   ]
  },
  {
   "cell_type": "code",
   "execution_count": null,
   "metadata": {},
   "outputs": [],
   "source": [
    "hex_grid.to_csv('../ComputedData/Crossplot/micro_crossplot_taidong.csv', index=False)"
   ]
  },
  {
   "cell_type": "markdown",
   "metadata": {},
   "source": [
    "### Cross classification plot"
   ]
  },
  {
   "cell_type": "code",
   "execution_count": null,
   "metadata": {},
   "outputs": [],
   "source": [
    "from utils_micro import plot_map_type\n",
    "\n",
    "map_result = plot_map_type(specific, hex_grid.to_crs(epsg=4326))\n",
    "map_result.save('map.html')\n"
   ]
  },
  {
   "cell_type": "markdown",
   "metadata": {},
   "source": [
    "1. Pedestrian-car accident ratio in each County/City\n",
    "2. Bicylce accident ratio in each County/City"
   ]
  },
  {
   "cell_type": "code",
   "execution_count": null,
   "metadata": {},
   "outputs": [],
   "source": [
    "combined_gdf = gpd.GeoDataFrame(\n",
    "    combined_data,\n",
    "    geometry=gpd.points_from_xy(combined_data['經度'], combined_data['緯度']),\n",
    "    crs='EPSG:4326'\n",
    ")\n",
    "\n",
    "taiwan_crs = taiwan.to_crs('EPSG:4326')\n",
    "combined_gdf_crs = combined_gdf.to_crs('EPSG:4326')\n",
    "joined = gpd.sjoin(combined_gdf_crs, taiwan_crs, how='left', predicate='within')"
   ]
  },
  {
   "cell_type": "code",
   "execution_count": null,
   "metadata": {},
   "outputs": [],
   "source": [
    "combined_data['縣市'] = joined['COUNTYNAME']\n",
    "city_human_vehicle_ratio = {}\n",
    "cities = ['臺北市', '新北市', '臺中市', '高雄市', '花蓮縣', '臺東縣']\n",
    "\n",
    "for city in cities:\n",
    "    city_data = combined_data[combined_data['縣市'] == city]\n",
    "    if len(city_data) > 0:\n",
    "        # human_vehicle_count = len(city_data[city_data['事故類型及型態大類別名稱'] == '人與車'])\n",
    "        human_vehicle_count = len(city_data[city_data['當事者區分-類別-子類別名稱-車種'] == '腳踏自行車'])\n",
    "        total_count = len(city_data)\n",
    "        ratio = human_vehicle_count / total_count\n",
    "        city_human_vehicle_ratio[city] = ratio\n",
    "        print(f\"{city}: {total_count} 件事故, 人車事故比例: {ratio:.3f}\")\n",
    "    else:\n",
    "        city_human_vehicle_ratio[city] = 0\n",
    "        print(f\"{city}: 0 件事故\")"
   ]
  },
  {
   "cell_type": "code",
   "execution_count": null,
   "metadata": {},
   "outputs": [],
   "source": [
    "import matplotlib.pyplot as plt\n",
    "from config import countycity_dct\n",
    "\n",
    "ratio_df = pd.DataFrame(list(city_human_vehicle_ratio.items()), columns=['City', 'Human_Vehicle_Ratio'])\n",
    "ratio_df = ratio_df[ratio_df['Human_Vehicle_Ratio'] > 0]\n",
    "ratio_df = ratio_df.sort_values('Human_Vehicle_Ratio', ascending=False)\n",
    "ratio_df['City'] = ratio_df['City'].map(countycity_dct)\n",
    "\n",
    "plt.figure(figsize=(14, 8))\n",
    "bars = plt.bar(ratio_df['City'], ratio_df['Human_Vehicle_Ratio'], \n",
    "               color='steelblue', alpha=0.7)\n",
    "\n",
    "average_ratio = ratio_df['Human_Vehicle_Ratio'].mean()\n",
    "plt.axhline(y=average_ratio, color=\"#6060cf\", linestyle='--', linewidth=2)\n",
    "plt.text(len(ratio_df) - 1, average_ratio + 0.003, f'Avg: {average_ratio:.3f}', \n",
    "         color='#6060cf', fontweight='bold', fontsize=12)\n",
    "\n",
    "plt.rcParams['font.family'] = ['Microsoft JhengHei'] \n",
    "plt.title('Pedestrian-car accident ratio in each County/City', fontsize=16, fontweight='bold')\n",
    "plt.xlabel('County/City', fontsize=12)\n",
    "plt.ylabel('Pedestrian-car accident ratio', fontsize=12)\n",
    "plt.xticks(rotation=45, ha='right')\n",
    "plt.grid(axis='y', alpha=0.3)\n",
    "plt.tight_layout()\n",
    "plt.show()"
   ]
  }
 ],
 "metadata": {
  "kernelspec": {
   "display_name": "ST-RTA",
   "language": "python",
   "name": "python3"
  },
  "language_info": {
   "codemirror_mode": {
    "name": "ipython",
    "version": 3
   },
   "file_extension": ".py",
   "mimetype": "text/x-python",
   "name": "python",
   "nbconvert_exporter": "python",
   "pygments_lexer": "ipython3",
   "version": "3.9.21"
  }
 },
 "nbformat": 4,
 "nbformat_minor": 2
}
