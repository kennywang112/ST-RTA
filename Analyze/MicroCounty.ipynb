{
 "cells": [
  {
   "cell_type": "markdown",
   "metadata": {},
   "source": [
    "# Macro"
   ]
  },
  {
   "cell_type": "code",
   "execution_count": null,
   "metadata": {},
   "outputs": [],
   "source": [
    "import numpy as np\n",
    "import pandas as pd\n",
    "from esda import Moran\n",
    "import geopandas as gpd\n",
    "import matplotlib.pyplot as plt\n",
    "from shapely.geometry import Polygon\n",
    "from libpysal.weights import DistanceBand\n",
    "from scipy.spatial import distance_matrix\n",
    "\n",
    "dataA1 = pd.read_csv('../ComputedData/Accident/DataA1_with_MRT_Youbike_Parkinglot.csv')\n",
    "dataA2 = pd.read_csv('../ComputedData/Accident/DataA2_with_MRT_Youbike_Parkinglot.csv')\n",
    "taiwan = gpd.read_file('../Data/OFiles_9e222fea-bafb-4436-9b17-10921abc6ef2/TOWN_MOI_1140318.shp')\n",
    "taiwan = taiwan[(~taiwan['TOWNNAME'].isin(['旗津區', '頭城鎮', '蘭嶼鄉', '綠島鄉', '琉球鄉'])) & \n",
    "                (~taiwan['COUNTYNAME'].isin(['金門縣', '連江縣', '澎湖縣']))]"
   ]
  },
  {
   "cell_type": "code",
   "execution_count": null,
   "metadata": {},
   "outputs": [],
   "source": [
    "from Analyze.utils import specific_polygon, plot_hex_grid, get_isa_plot, calculate_gi, plot_gi\n",
    "\n",
    "filtered_A2 = dataA2[dataA2['當事者順位'] == 1]\n",
    "# filtered_A2 = filtered_A2[filtered_A2['發生月份'] == 1]\n",
    "print(filtered_A2.shape)"
   ]
  },
  {
   "cell_type": "code",
   "execution_count": null,
   "metadata": {},
   "outputs": [],
   "source": [
    "# 特定區域的polygon\n",
    "specific_A2, taiwan_specific = specific_polygon(filtered_A2, taiwan, ['臺北市', '新北市', '桃園市'])\n",
    "# 對特定區域以及grid做圖\n",
    "hex_grid = plot_hex_grid(specific_A2, taiwan_specific, 100, 0.005)\n",
    "# 計算ISA以及做圖\n",
    "best_distance = get_isa_plot(specific_A2, 100)\n",
    "# 依照最佳距離計算gi\n",
    "grid = calculate_gi(best_distance, hex_grid)\n",
    "plot_gi(taiwan_specific, grid)"
   ]
  },
  {
   "cell_type": "code",
   "execution_count": null,
   "metadata": {},
   "outputs": [],
   "source": [
    "specific_A2, taiwan_specific = specific_polygon(filtered_A2, taiwan, ['臺中市', '彰化縣'])\n",
    "hex_grid = plot_hex_grid(specific_A2, taiwan_specific, 30, 0.01)\n",
    "best_distance = get_isa_plot(specific_A2, 30)\n",
    "grid = calculate_gi(best_distance, hex_grid)\n",
    "plot_gi(taiwan_specific, grid)"
   ]
  },
  {
   "cell_type": "code",
   "execution_count": null,
   "metadata": {},
   "outputs": [],
   "source": [
    "specific_A2, taiwan_specific = specific_polygon(filtered_A2, taiwan, ['高雄市'])\n",
    "hex_grid = plot_hex_grid(specific_A2, taiwan_specific, 30, 0.01)\n",
    "best_distance = get_isa_plot(specific_A2, 30)\n",
    "grid = calculate_gi(best_distance, hex_grid)\n",
    "plot_gi(taiwan_specific, grid)"
   ]
  }
 ],
 "metadata": {
  "kernelspec": {
   "display_name": "ST-RTA",
   "language": "python",
   "name": "python3"
  },
  "language_info": {
   "codemirror_mode": {
    "name": "ipython",
    "version": 3
   },
   "file_extension": ".py",
   "mimetype": "text/x-python",
   "name": "python",
   "nbconvert_exporter": "python",
   "pygments_lexer": "ipython3",
   "version": "3.10.18"
  }
 },
 "nbformat": 4,
 "nbformat_minor": 2
}
