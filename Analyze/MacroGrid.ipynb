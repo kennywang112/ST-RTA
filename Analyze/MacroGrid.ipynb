{
 "cells": [
  {
   "cell_type": "markdown",
   "metadata": {},
   "source": [
    "### Morans I"
   ]
  },
  {
   "cell_type": "code",
   "execution_count": null,
   "metadata": {},
   "outputs": [],
   "source": [
    "import os\n",
    "\n",
    "current_dir = os.getcwd()\n",
    "parent_dir = os.path.dirname(current_dir)\n",
    "analyze_path = os.path.join(parent_dir, \"utils\")\n",
    "\n",
    "os.chdir(analyze_path)"
   ]
  },
  {
   "cell_type": "code",
   "execution_count": null,
   "metadata": {},
   "outputs": [],
   "source": [
    "import pandas as pd\n",
    "import geopandas as gpd\n",
    "import matplotlib.pyplot as plt\n",
    "from utils import get_grid, read_data, read_taiwan_specific\n",
    "\n",
    "combined_data = read_data()\n",
    "taiwan, grid_filter = read_taiwan_specific()\n",
    "taiwan.to_file('../ComputedDataV2/Taiwan/taiwan.shp')\n",
    "\n",
    "# find combined_data which are in taiwan\n",
    "# combined_data_gdf = gpd.GeoDataFrame(combined_data, \n",
    "#                                      geometry=gpd.points_from_xy(combined_data['經度'], \n",
    "#                                                                  combined_data['緯度']), crs='EPSG:4326')\n",
    "# combined_data_gdf.to_crs(epsg=3826, inplace=True)\n",
    "# combined_data_in_taiwan = gpd.sjoin(combined_data_gdf, taiwan, how='inner', predicate='within')\n",
    "# combined_data_in_taiwan.to_csv('../ComputedDataV2/Accident/combined_data_in_taiwan.csv', index=False)\n",
    "\n",
    "# combined_data = pd.read_csv('../ComputedDataV2/Accident/combined_data_in_taiwan.csv')"
   ]
  },
  {
   "cell_type": "code",
   "execution_count": null,
   "metadata": {},
   "outputs": [],
   "source": [
    "hex_grid = get_grid(combined_data, hex_size=0.01, threshold=-1)\n",
    "taiwan = taiwan.to_crs(hex_grid.crs)\n",
    "hex_grid = hex_grid[hex_grid.intersects(taiwan.unary_union)]"
   ]
  },
  {
   "cell_type": "markdown",
   "metadata": {},
   "source": [
    "### Infrastructure Analyze"
   ]
  },
  {
   "cell_type": "code",
   "execution_count": null,
   "metadata": {},
   "outputs": [],
   "source": [
    "combined_data['full_infrastructure'] = combined_data['mrt_100m_count'] + combined_data['youbike_100m_count'] + combined_data['parkinglot_100m_count']"
   ]
  },
  {
   "cell_type": "code",
   "execution_count": null,
   "metadata": {},
   "outputs": [],
   "source": [
    "from utils_macro import plot_facility_vs_human_vehicle_subplot\n",
    "\n",
    "plot_facility_vs_human_vehicle_subplot(\n",
    "    combined_data,\n",
    "    facilities=['youbike_100m_count', 'mrt_100m_count', 'parkinglot_100m_count', 'full_infrastructure'],\n",
    "    accident_col='事故類型及型態大類別名稱',\n",
    "    accident_type='人與車'\n",
    ")"
   ]
  },
  {
   "cell_type": "markdown",
   "metadata": {},
   "source": [
    "### Lisa plot"
   ]
  },
  {
   "cell_type": "code",
   "execution_count": null,
   "metadata": {},
   "outputs": [],
   "source": [
    "from utils_macro import LocalMoranAnalysis\n",
    "\n",
    "lma = LocalMoranAnalysis(hex_grid, taiwan, k=6)\n",
    "lma.calculate_local_moran()\n",
    "lma.plot_lisa()\n",
    "lma.lisa_scatter_plot()"
   ]
  },
  {
   "cell_type": "code",
   "execution_count": null,
   "metadata": {},
   "outputs": [],
   "source": [
    "lma.hex_grid.to_csv('../ComputedDataV2/Grid/local_moran_results.csv', index=False)"
   ]
  },
  {
   "cell_type": "markdown",
   "metadata": {},
   "source": [
    "### Calculate and Plot GI"
   ]
  },
  {
   "cell_type": "code",
   "execution_count": null,
   "metadata": {},
   "outputs": [],
   "source": [
    "from utils import calculate_gi, plot_map\n",
    "\n",
    "grid = calculate_gi(6, hex_grid, adjacency='knn')\n",
    "grid.to_csv('../ComputedDataV2/Grid/grid_gi.csv', index=False)\n",
    "\n",
    "# plot_map(filtered_A2, grid.to_crs('EPSG:4326'), gi=True)"
   ]
  },
  {
   "cell_type": "code",
   "execution_count": null,
   "metadata": {},
   "outputs": [],
   "source": [
    "from utils_macro import plot_gi_map\n",
    "plot_gi_map(grid, taiwan)"
   ]
  },
  {
   "cell_type": "markdown",
   "metadata": {},
   "source": [
    "### Find the nearest county from grid"
   ]
  },
  {
   "cell_type": "code",
   "execution_count": null,
   "metadata": {},
   "outputs": [],
   "source": [
    "counties = taiwan[['COUNTYNAME', 'geometry']].copy()\n",
    "hot_hex = hex_grid[hex_grid['hotspot'] != 'Not Significant'].copy()\n",
    "\n",
    "def find_nearest_county(hexagon, counties_gdf):\n",
    "    # 每個 hexagon 到所有 county 的距離\n",
    "    distances = counties_gdf.distance(hexagon)\n",
    "    nearest_idx = distances.idxmin()\n",
    "    return counties_gdf.loc[nearest_idx, 'COUNTYNAME']\n",
    "\n",
    "hot_hex['nearest_county'] = hot_hex['geometry'].apply(lambda x: find_nearest_county(x, counties))\n",
    "hot_hex['nearest_county'].unique()"
   ]
  },
  {
   "cell_type": "markdown",
   "metadata": {},
   "source": [
    "### Find the nearest county for each hexagon"
   ]
  },
  {
   "cell_type": "code",
   "execution_count": null,
   "metadata": {},
   "outputs": [],
   "source": [
    "hex_with_county = gpd.sjoin_nearest(hex_grid, counties[['COUNTYNAME', 'geometry']], how='left', distance_col='dist_to_county')\n",
    "# hex_with_county.to_csv('../ComputedDataV2/Grid/hex_grid_with_county.csv', index=False)"
   ]
  },
  {
   "cell_type": "code",
   "execution_count": null,
   "metadata": {},
   "outputs": [],
   "source": [
    "from utils_macro import hotspot_in_county\n",
    "from config import category_value_map, feature_name_map, countycity_dct\n",
    "\n",
    "hotspot_in_county(hot_hex, hex_with_county, countycity_dct, normalize=False, en=True)"
   ]
  },
  {
   "cell_type": "markdown",
   "metadata": {},
   "source": [
    "主要以道路設計進行，因為天氣、車輛無法討論空間同質"
   ]
  },
  {
   "cell_type": "code",
   "execution_count": null,
   "metadata": {},
   "outputs": [],
   "source": [
    "from utils_macro import attribute_in_city\n",
    "\n",
    "col = '事故類型及型態子類別名稱'\n",
    "pivot_sorted = attribute_in_city(combined_data, hot_hex, col, countycity_dct, feature_name_map, category_value_map, en=True)"
   ]
  },
  {
   "cell_type": "markdown",
   "metadata": {},
   "source": [
    "[<br/>\n",
    "    '臺北市', '新北市',  # 最北 <br/>\n",
    "    '桃園市', '新竹市', '新竹縣', '宜蘭縣',  # 北部<br/>\n",
    "    '苗栗縣', '臺中市', '彰化縣',  # 中部<br/>\n",
    "    '嘉義市', '嘉義縣', '臺南市', '高雄市', '屏東縣',  # 南部<br/>\n",
    "    '花蓮縣', '臺東縣'  # 東部<br/>\n",
    "]<br/>"
   ]
  },
  {
   "cell_type": "code",
   "execution_count": null,
   "metadata": {},
   "outputs": [],
   "source": [
    "from sklearn.metrics.pairwise import cosine_similarity\n",
    "import seaborn as sns\n",
    "\n",
    "similarity_matrix = pd.DataFrame(\n",
    "    cosine_similarity(pivot_sorted.values),\n",
    "    index=pivot_sorted.index,\n",
    "    columns=pivot_sorted.index\n",
    ")\n",
    "\n",
    "col_en = feature_name_map.get(col, col)\n",
    "plt.figure(figsize=(10, 8))\n",
    "sns.heatmap(similarity_matrix, annot=True, cmap='YlGnBu', cbar=False)\n",
    "plt.title(f'Similarity of {col_en} proportions across cities')\n",
    "plt.xticks(rotation=30)\n",
    "plt.show()"
   ]
  }
 ],
 "metadata": {
  "kernelspec": {
   "display_name": "ST-RTA",
   "language": "python",
   "name": "python3"
  },
  "language_info": {
   "codemirror_mode": {
    "name": "ipython",
    "version": 3
   },
   "file_extension": ".py",
   "mimetype": "text/x-python",
   "name": "python",
   "nbconvert_exporter": "python",
   "pygments_lexer": "ipython3",
   "version": "3.9.21"
  }
 },
 "nbformat": 4,
 "nbformat_minor": 2
}
