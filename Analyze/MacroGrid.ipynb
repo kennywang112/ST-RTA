{
 "cells": [
  {
   "cell_type": "markdown",
   "metadata": {},
   "source": [
    "### Morans I"
   ]
  },
  {
   "cell_type": "code",
   "execution_count": null,
   "metadata": {},
   "outputs": [],
   "source": [
    "import os\n",
    "\n",
    "current_dir = os.getcwd()\n",
    "parent_dir = os.path.dirname(current_dir)\n",
    "analyze_path = os.path.join(parent_dir, \"utils\")\n",
    "\n",
    "os.chdir(analyze_path)"
   ]
  },
  {
   "cell_type": "code",
   "execution_count": null,
   "metadata": {},
   "outputs": [],
   "source": [
    "import pandas as pd\n",
    "import geopandas as gpd\n",
    "import matplotlib.pyplot as plt\n",
    "from utils import get_grid, read_data\n",
    "\n",
    "combined_data = read_data()\n",
    "taiwan = gpd.read_file('../Data/OFiles_9e222fea-bafb-4436-9b17-10921abc6ef2/TOWN_MOI_1140318.shp')\n",
    "taiwan = taiwan[(~taiwan['TOWNNAME'].isin(['旗津區', '頭城鎮', '蘭嶼鄉', '綠島鄉', '琉球鄉'])) & \n",
    "                (~taiwan['COUNTYNAME'].isin(['金門縣', '連江縣', '澎湖縣']))]"
   ]
  },
  {
   "cell_type": "code",
   "execution_count": 10,
   "metadata": {},
   "outputs": [],
   "source": [
    "# save taiwan\n",
    "taiwan.to_file('../ComputedData/Taiwan/taiwan.shp')"
   ]
  },
  {
   "cell_type": "code",
   "execution_count": null,
   "metadata": {},
   "outputs": [],
   "source": [
    "hex_grid = get_grid(combined_data, hex_size=0.01, threshold=-1)\n",
    "taiwan = taiwan.to_crs(hex_grid.crs)\n",
    "hex_grid = hex_grid[hex_grid.intersects(taiwan.unary_union)]"
   ]
  },
  {
   "cell_type": "markdown",
   "metadata": {},
   "source": [
    "### Infrastructure Analyze"
   ]
  },
  {
   "cell_type": "code",
   "execution_count": null,
   "metadata": {},
   "outputs": [],
   "source": [
    "combined_data['full_infrastructure'] = combined_data['mrt_100m_count'] + combined_data['youbike_100m_count'] + combined_data['parkinglot_100m_count']"
   ]
  },
  {
   "cell_type": "code",
   "execution_count": null,
   "metadata": {},
   "outputs": [],
   "source": [
    "from utils_macro import plot_facility_vs_human_vehicle_subplot\n",
    "\n",
    "plot_facility_vs_human_vehicle_subplot(\n",
    "    combined_data,\n",
    "    facilities=['youbike_100m_count', 'mrt_100m_count', 'parkinglot_100m_count', 'full_infrastructure'],\n",
    "    accident_col='事故類型及型態大類別名稱',\n",
    "    accident_type='人與車'\n",
    ")"
   ]
  },
  {
   "cell_type": "markdown",
   "metadata": {},
   "source": [
    "### Lisa plot"
   ]
  },
  {
   "cell_type": "code",
   "execution_count": null,
   "metadata": {},
   "outputs": [],
   "source": [
    "from utils_macro import LocalMoranAnalysis\n",
    "\n",
    "lma = LocalMoranAnalysis(hex_grid, taiwan, k=6)\n",
    "lma.calculate_local_moran()\n",
    "lma.plot_lisa()\n",
    "lma.lisa_scatter_plot()"
   ]
  },
  {
   "cell_type": "code",
   "execution_count": 8,
   "metadata": {},
   "outputs": [],
   "source": [
    "lma.hex_grid.to_csv('../ComputedData/Grid/local_moran_results.csv', index=False)"
   ]
  },
  {
   "cell_type": "markdown",
   "metadata": {},
   "source": [
    "### Calculate and Plot GI\n",
    "This is to find the most significant hotspot in each knn"
   ]
  },
  {
   "cell_type": "code",
   "execution_count": null,
   "metadata": {},
   "outputs": [],
   "source": [
    "from utils import calculate_gi, plot_map\n",
    "\n",
    "# 只有queen不能使用，因為沒參數可以修改\n",
    "# for i in range(3000, 15000, 3000):\n",
    "# for i in range(10000, 30000, 5000):\n",
    "for i in range(6, 10, 1): # knn的i意義是鄰近資料\n",
    "    print(i)\n",
    "    grid = calculate_gi(i, hex_grid, adjacency='knn')\n",
    "    c = grid[grid['hotspot'] != 'Not Significant']\n",
    "    if c.shape[0] > 0:\n",
    "        print('sig:', c.shape[0])"
   ]
  },
  {
   "cell_type": "code",
   "execution_count": null,
   "metadata": {},
   "outputs": [],
   "source": [
    "from utils import calculate_gi, plot_map\n",
    "\n",
    "# grid = calculate_gi(10000, hex_grid, adjacency=None)\n",
    "# grid = calculate_gi(10000, hex_grid, adjacency='queen')\n",
    "grid = calculate_gi(6, hex_grid, adjacency='knn')\n",
    "# grid.to_csv('../ComputedData/Grid/grid_gi.csv', index=False)\n",
    "\n",
    "# plot_map(filtered_A2, grid.to_crs('EPSG:4326'), gi=True)"
   ]
  },
  {
   "cell_type": "code",
   "execution_count": null,
   "metadata": {},
   "outputs": [],
   "source": [
    "import matplotlib.colors as mcolors\n",
    "\n",
    "cmap = mcolors.ListedColormap([\n",
    "    '#800026',  # dark red - Hotspot 99%\n",
    "    '#FC4E2A',  # red - Hotspot 95%\n",
    "    '#FD8D3C',  # light red - Hotspot 90%\n",
    "    '#d9d9d9',  # grey - Not Significant\n",
    "    '#6baed6',  # light blue - Coldspot 90%\n",
    "    '#3182bd',  # blue - Coldspot 95%\n",
    "    '#08519c'   # dark blue - Coldspot 99%\n",
    "])\n",
    "\n",
    "# 照順序排\n",
    "categories = [\n",
    "    'Hotspot 99%', \n",
    "    'Hotspot 95%', \n",
    "    'Hotspot 90%', \n",
    "    'Not Significant', \n",
    "    'Coldspot 90%', \n",
    "    'Coldspot 95%', \n",
    "    'Coldspot 99%'\n",
    "]\n",
    "\n",
    "grid = grid.to_crs(epsg=4326)  # 把座標轉回跟 folium 一樣\n",
    "\n",
    "fig, ax = plt.subplots(figsize=(10, 10))\n",
    "taiwan.to_crs(epsg=4326).plot(ax=ax, color='white', edgecolor='black', linewidth=0.5)\n",
    "\n",
    "grid.plot(\n",
    "    column='hotspot', \n",
    "    categorical=True, \n",
    "    cmap=cmap, \n",
    "    legend=True, \n",
    "    edgecolor='grey', \n",
    "    linewidth=0.2, \n",
    "    alpha=0.6,\n",
    "    ax=ax,\n",
    "    categories=categories,\n",
    "    legend_kwds={\n",
    "        'bbox_to_anchor': (1.05, 1),\n",
    "        'loc': 'upper left',\n",
    "        'frameon': False\n",
    "    }\n",
    ")\n",
    "\n",
    "plt.title('Hotspot Analysis (Getis-Ord Gi*) - 90%, 95%, 99% Confidence Levels')\n",
    "plt.axis('off')\n",
    "plt.show()"
   ]
  },
  {
   "cell_type": "markdown",
   "metadata": {},
   "source": [
    "### Find the nearest county from grid"
   ]
  },
  {
   "cell_type": "code",
   "execution_count": null,
   "metadata": {},
   "outputs": [],
   "source": [
    "counties = taiwan[['COUNTYNAME', 'geometry']].copy()\n",
    "hot_hex = hex_grid[hex_grid['hotspot'] != 'Not Significant'].copy()\n",
    "\n",
    "def find_nearest_county(hexagon, counties_gdf):\n",
    "    # 每個 hexagon 到所有 county 的距離\n",
    "    distances = counties_gdf.distance(hexagon)\n",
    "    nearest_idx = distances.idxmin()\n",
    "    return counties_gdf.loc[nearest_idx, 'COUNTYNAME']\n",
    "\n",
    "hot_hex['nearest_county'] = hot_hex['geometry'].apply(lambda x: find_nearest_county(x, counties))\n",
    "hot_hex['nearest_county'].unique()"
   ]
  },
  {
   "cell_type": "markdown",
   "metadata": {},
   "source": [
    "### Find the nearest county for each hexagon"
   ]
  },
  {
   "cell_type": "code",
   "execution_count": null,
   "metadata": {},
   "outputs": [],
   "source": [
    "counties = counties.to_crs(\"EPSG:3826\")\n",
    "hex_grid = hex_grid.to_crs(\"EPSG:3826\")\n",
    "\n",
    "hex_with_county = gpd.sjoin_nearest(hex_grid, counties[['COUNTYNAME', 'geometry']], how='left', distance_col='dist_to_county')"
   ]
  },
  {
   "cell_type": "code",
   "execution_count": null,
   "metadata": {},
   "outputs": [],
   "source": [
    "from utils_macro import hotspot_in_county\n",
    "from config import category_value_map, feature_name_map, countycity_dct\n",
    "\n",
    "hotspot_in_county(hot_hex, hex_with_county, countycity_dct, normalize=False, en=True)"
   ]
  },
  {
   "cell_type": "markdown",
   "metadata": {},
   "source": [
    "主要以道路設計進行，因為天氣、車輛無法討論空間同質"
   ]
  },
  {
   "cell_type": "code",
   "execution_count": null,
   "metadata": {},
   "outputs": [],
   "source": [
    "from utils_macro import attribute_in_city\n",
    "\n",
    "col = '事故類型及型態子類別名稱'\n",
    "pivot_sorted = attribute_in_city(combined_data, hot_hex, col, countycity_dct, feature_name_map, category_value_map, en=True)"
   ]
  },
  {
   "cell_type": "markdown",
   "metadata": {},
   "source": [
    "[<br/>\n",
    "    '臺北市', '新北市',  # 最北 <br/>\n",
    "    '桃園市', '新竹市', '新竹縣', '宜蘭縣',  # 北部<br/>\n",
    "    '苗栗縣', '臺中市', '彰化縣',  # 中部<br/>\n",
    "    '嘉義市', '嘉義縣', '臺南市', '高雄市', '屏東縣',  # 南部<br/>\n",
    "    '花蓮縣', '臺東縣'  # 東部<br/>\n",
    "]<br/>"
   ]
  },
  {
   "cell_type": "code",
   "execution_count": null,
   "metadata": {},
   "outputs": [],
   "source": [
    "from sklearn.metrics.pairwise import cosine_similarity\n",
    "import seaborn as sns\n",
    "\n",
    "similarity_matrix = pd.DataFrame(\n",
    "    cosine_similarity(pivot_sorted.values),\n",
    "    index=pivot_sorted.index,\n",
    "    columns=pivot_sorted.index\n",
    ")\n",
    "\n",
    "col_en = feature_name_map.get(col, col)\n",
    "plt.figure(figsize=(10, 8))\n",
    "sns.heatmap(similarity_matrix, annot=True, cmap='YlGnBu', cbar=False)\n",
    "plt.title(f'Similarity of {col_en} proportions across cities')\n",
    "plt.xticks(rotation=30)\n",
    "plt.show()"
   ]
  }
 ],
 "metadata": {
  "kernelspec": {
   "display_name": "ST-RTA",
   "language": "python",
   "name": "python3"
  },
  "language_info": {
   "codemirror_mode": {
    "name": "ipython",
    "version": 3
   },
   "file_extension": ".py",
   "mimetype": "text/x-python",
   "name": "python",
   "nbconvert_exporter": "python",
   "pygments_lexer": "ipython3",
   "version": "3.9.21"
  }
 },
 "nbformat": 4,
 "nbformat_minor": 2
}
