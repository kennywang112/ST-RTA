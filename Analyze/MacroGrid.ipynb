{
 "cells": [
  {
   "cell_type": "markdown",
   "metadata": {},
   "source": [
    "# Macro"
   ]
  },
  {
   "cell_type": "markdown",
   "metadata": {},
   "source": [
    "### Morans I"
   ]
  },
  {
   "cell_type": "code",
   "execution_count": 1,
   "metadata": {},
   "outputs": [],
   "source": [
    "import os\n",
    "\n",
    "current_dir = os.getcwd()\n",
    "parent_dir = os.path.dirname(current_dir)\n",
    "analyze_path = os.path.join(parent_dir, \"utils\")\n",
    "\n",
    "os.chdir(analyze_path)"
   ]
  },
  {
   "cell_type": "code",
   "execution_count": 2,
   "metadata": {},
   "outputs": [],
   "source": [
    "import numpy as np\n",
    "import pandas as pd\n",
    "import geopandas as gpd\n",
    "import matplotlib.pyplot as plt\n",
    "from utils import get_grid, read_data\n",
    "\n",
    "combined_data = read_data()\n",
    "taiwan = gpd.read_file('../Data/OFiles_9e222fea-bafb-4436-9b17-10921abc6ef2/TOWN_MOI_1140318.shp')\n",
    "taiwan = taiwan[(~taiwan['TOWNNAME'].isin(['旗津區', '頭城鎮', '蘭嶼鄉', '綠島鄉', '琉球鄉'])) & \n",
    "                (~taiwan['COUNTYNAME'].isin(['金門縣', '連江縣', '澎湖縣']))]"
   ]
  },
  {
   "cell_type": "code",
   "execution_count": null,
   "metadata": {},
   "outputs": [],
   "source": [
    "hex_grid = get_grid(combined_data, hex_size=0.01, threshold=-1)\n",
    "taiwan = taiwan.to_crs(hex_grid.crs)  # 確保 CRS 一致\n",
    "hex_grid = hex_grid[hex_grid.intersects(taiwan.unary_union)]\n",
    "# hex_grid.to_csv('../ComputedData/Grid/hex_grid.csv', index=False)"
   ]
  },
  {
   "cell_type": "markdown",
   "metadata": {},
   "source": [
    "## Infrastructure Analyze"
   ]
  },
  {
   "cell_type": "code",
   "execution_count": null,
   "metadata": {},
   "outputs": [],
   "source": [
    "combined_data['full_infrastructure'] = combined_data['mrt_100m_count'] + combined_data['youbike_100m_count'] + combined_data['parkinglot_100m_count']"
   ]
  },
  {
   "cell_type": "code",
   "execution_count": null,
   "metadata": {},
   "outputs": [],
   "source": [
    "import pandas as pd\n",
    "import seaborn as sns\n",
    "import matplotlib.pyplot as plt\n",
    "from matplotlib.font_manager import FontProperties\n",
    "\n",
    "# 設置中文字體\n",
    "myfont = FontProperties(fname=r\"/Users/wangqiqian/Library/Fonts/標楷體.ttf\")\n",
    "sns.set(style=\"whitegrid\", font=myfont.get_name())\n",
    "\n",
    "def plot_facility_vs_human_vehicle_subplot(data, facilities, accident_col, accident_type):\n",
    "    fig, axes = plt.subplots(2, 2, figsize=(16, 12))\n",
    "    axes = axes.flatten()\n",
    "\n",
    "    for i, facility_col in enumerate(facilities):\n",
    "\n",
    "        data['is_human_vehicle'] = (data[accident_col] == accident_type).astype(int)\n",
    "\n",
    "        grouped = data.groupby(facility_col).agg(\n",
    "            human_vehicle_ratio=('is_human_vehicle', 'mean'),\n",
    "            total_count=('is_human_vehicle', 'size')\n",
    "        ).reset_index()\n",
    "\n",
    "        sns.barplot(\n",
    "            data=grouped,\n",
    "            x=facility_col,\n",
    "            y='human_vehicle_ratio',\n",
    "            palette=\"Blues_d\",\n",
    "            ax=axes[i]  # 指定子圖\n",
    "        )\n",
    "\n",
    "        for index, row in grouped.iterrows():\n",
    "            axes[i].text(\n",
    "                x=index, \n",
    "                y=row['human_vehicle_ratio'] + 0.001,\n",
    "                s=f\"{round(row['total_count'])}\", \n",
    "                ha='center', \n",
    "                va='bottom', \n",
    "                fontsize=10, \n",
    "                fontproperties=myfont\n",
    "            )\n",
    "\n",
    "        axes[i].set_title(f\"{facility_col} 附近人與車事故比例\", fontsize=14, fontproperties=myfont)\n",
    "        axes[i].set_xlabel(f\"{facility_col} Count\", fontsize=12, fontproperties=myfont)\n",
    "        axes[i].set_ylabel(\"人與車事故比例\", fontsize=12, fontproperties=myfont)\n",
    "        axes[i].tick_params(axis='x', labelsize=10)\n",
    "        axes[i].tick_params(axis='y', labelsize=10)\n",
    "        axes[i].grid(axis='y', linestyle='--', alpha=0.7)\n",
    "\n",
    "    for j in range(len(facilities), len(axes)):\n",
    "        fig.delaxes(axes[j])\n",
    "\n",
    "    plt.tight_layout()\n",
    "    plt.show()\n",
    "\n",
    "plot_facility_vs_human_vehicle_subplot(\n",
    "    combined_data,\n",
    "    facilities=['youbike_100m_count', 'mrt_100m_count', 'parkinglot_100m_count', 'full_infrastructure'],\n",
    "    accident_col='事故類型及型態大類別名稱',\n",
    "    accident_type='人與車'\n",
    ")"
   ]
  },
  {
   "cell_type": "markdown",
   "metadata": {},
   "source": [
    "## Lisa plot"
   ]
  },
  {
   "cell_type": "code",
   "execution_count": null,
   "metadata": {},
   "outputs": [],
   "source": [
    "from utils_lisa import LocalMoranAnalysis\n",
    "\n",
    "analysis = LocalMoranAnalysis(hex_grid, taiwan, k=6)\n",
    "analysis.calculate_local_moran()\n",
    "analysis.plot_lisa()\n",
    "analysis.lisa_scatter_plot()"
   ]
  },
  {
   "cell_type": "markdown",
   "metadata": {},
   "source": [
    "### Calculate and Plot GI\n",
    "This is to find the most significant hotspot in each knn"
   ]
  },
  {
   "cell_type": "code",
   "execution_count": null,
   "metadata": {},
   "outputs": [],
   "source": [
    "from utils import calculate_gi, plot_map\n",
    "\n",
    "# 只有queen不能使用，因為沒參數可以修改\n",
    "# for i in range(3000, 15000, 3000):\n",
    "# for i in range(10000, 30000, 5000):\n",
    "for i in range(6, 10, 1): # knn的i意義是鄰近資料\n",
    "    print(i)\n",
    "    grid = calculate_gi(i, hex_grid, adjacency='knn')\n",
    "    c = grid[grid['hotspot'] != 'Not Significant']\n",
    "    if c.shape[0] > 0:\n",
    "        print('sig:', c.shape[0])"
   ]
  },
  {
   "cell_type": "code",
   "execution_count": null,
   "metadata": {},
   "outputs": [],
   "source": [
    "from utils import calculate_gi, plot_map\n",
    "# 做圖要轉回原始 CRS\n",
    "# grid = calculate_gi(10000, hex_grid, adjacency=None)\n",
    "# grid = calculate_gi(10000, hex_grid, adjacency='queen')\n",
    "grid = calculate_gi(6, hex_grid, adjacency='knn')\n",
    "# grid.to_csv('../ComputedData/Grid/grid_gi.csv', index=False)\n",
    "\n",
    "# plot_map(filtered_A2, grid.to_crs('EPSG:4326'), gi=True)"
   ]
  },
  {
   "cell_type": "code",
   "execution_count": null,
   "metadata": {},
   "outputs": [],
   "source": [
    "import matplotlib.colors as mcolors\n",
    "\n",
    "cmap = mcolors.ListedColormap([\n",
    "    '#800026',  # dark red - Hotspot 99%\n",
    "    '#FC4E2A',  # red - Hotspot 95%\n",
    "    '#FD8D3C',  # light red - Hotspot 90%\n",
    "    '#d9d9d9',  # grey - Not Significant\n",
    "    '#6baed6',  # light blue - Coldspot 90%\n",
    "    '#3182bd',  # blue - Coldspot 95%\n",
    "    '#08519c'   # dark blue - Coldspot 99%\n",
    "])\n",
    "\n",
    "# 照順序排\n",
    "categories = [\n",
    "    'Hotspot 99%', \n",
    "    'Hotspot 95%', \n",
    "    'Hotspot 90%', \n",
    "    'Not Significant', \n",
    "    'Coldspot 90%', \n",
    "    'Coldspot 95%', \n",
    "    'Coldspot 99%'\n",
    "]\n",
    "\n",
    "grid = grid.to_crs(epsg=4326)  # 把座標轉回跟 folium 一樣\n",
    "\n",
    "fig, ax = plt.subplots(figsize=(10, 10))\n",
    "taiwan.to_crs(epsg=4326).plot(ax=ax, color='white', edgecolor='black', linewidth=0.5)\n",
    "\n",
    "grid.plot(\n",
    "    column='hotspot', \n",
    "    categorical=True, \n",
    "    cmap=cmap, \n",
    "    legend=True, \n",
    "    edgecolor='grey', \n",
    "    linewidth=0.2, \n",
    "    alpha=0.6,\n",
    "    ax=ax,\n",
    "    categories=categories,\n",
    "    legend_kwds={\n",
    "        'bbox_to_anchor': (1.05, 1),\n",
    "        'loc': 'upper left',\n",
    "        'frameon': False\n",
    "    }\n",
    ")\n",
    "\n",
    "plt.title('Hotspot Analysis (Getis-Ord Gi*) - 90%, 95%, 99% Confidence Levels')\n",
    "plt.axis('off')\n",
    "plt.show()"
   ]
  },
  {
   "cell_type": "markdown",
   "metadata": {},
   "source": [
    "### Find the nearest county from grid"
   ]
  },
  {
   "cell_type": "code",
   "execution_count": null,
   "metadata": {},
   "outputs": [],
   "source": [
    "counties = taiwan[['COUNTYNAME', 'geometry']].copy()\n",
    "hot_hex = hex_grid[hex_grid['hotspot'] != 'Not Significant'].copy()\n",
    "\n",
    "def find_nearest_county(hexagon, counties_gdf):\n",
    "    # 每個 hexagon 到所有 county 的距離\n",
    "    distances = counties_gdf.distance(hexagon)\n",
    "    nearest_idx = distances.idxmin()\n",
    "    return counties_gdf.loc[nearest_idx, 'COUNTYNAME']\n",
    "\n",
    "hot_hex['nearest_county'] = hot_hex['geometry'].apply(lambda x: find_nearest_county(x, counties))\n",
    "hot_hex['nearest_county'].unique()"
   ]
  },
  {
   "cell_type": "markdown",
   "metadata": {},
   "source": [
    "## Find the nearest county for each hexagon"
   ]
  },
  {
   "cell_type": "code",
   "execution_count": null,
   "metadata": {},
   "outputs": [],
   "source": [
    "counties = counties.to_crs(\"EPSG:3826\")\n",
    "hex_grid = hex_grid.to_crs(\"EPSG:3826\")\n",
    "\n",
    "hex_with_county = gpd.sjoin_nearest(hex_grid, counties[['COUNTYNAME', 'geometry']], how='left', distance_col='dist_to_county')\n",
    "# Find the nearest county for each hexagon"
   ]
  },
  {
   "cell_type": "markdown",
   "metadata": {},
   "source": [
    "### With normalize"
   ]
  },
  {
   "cell_type": "code",
   "execution_count": null,
   "metadata": {},
   "outputs": [
    {
     "data": {
      "application/vnd.plotly.v1+json": {
       "config": {
        "plotlyServerURL": "https://plot.ly"
       },
       "data": [
        {
         "hoverinfo": "text",
         "hovertext": [
          "號誌-號誌種類名稱<br>degree: 1",
          "肇因研判子類別名稱-主要<br>degree: 6",
          "事故類型及型態子類別名稱<br>degree: 1",
          "道路型態子類別名稱<br>degree: 1",
          "速限-第1當事者<br>degree: 1",
          "道路類別-第1當事者-名稱<br>degree: 1",
          "facility<br>degree: 1"
         ],
         "marker": {
          "color": "#5390B9",
          "line": {
           "color": "#24475E",
           "width": 2
          },
          "size": [
           50,
           50,
           50,
           50,
           50,
           50,
           50
          ]
         },
         "mode": "markers+text",
         "text": [
          "號誌-號誌種類名稱",
          "肇因研判子類別名稱-主要",
          "事故類型及型態子類別名稱",
          "道路型態子類別名稱",
          "速限-第1當事者",
          "道路類別-第1當事者-名稱",
          "facility"
         ],
         "textposition": "middle center",
         "type": "scatter",
         "x": [
          0.4289002791621001,
          -0.05080528519786402,
          -1,
          -0.6753026293783018,
          0.9608197544207469,
          -0.3071287689429877,
          0.6435166499363066
         ],
         "y": [
          0.617632936517519,
          -0.19679586654617276,
          -0.8255073449188335,
          0.16044237859098193,
          0.28848795927286386,
          0.6215870801900745,
          -0.6658471431064336
         ]
        }
       ],
       "layout": {
        "annotations": [
         {
          "arrowhead": 3,
          "arrowsize": 2,
          "ax": 0.35277301957447665,
          "axref": "x",
          "ay": 0.488386503887142,
          "ayref": "y",
          "opacity": 0.8,
          "showarrow": true,
          "x": 0.025321974389759416,
          "xref": "x",
          "y": -0.06754943391579571,
          "yref": "y"
         },
         {
          "arrowhead": 3,
          "arrowsize": 2,
          "ax": -0.1758606704685473,
          "axref": "x",
          "ay": -0.2796279292682913,
          "ayref": "y",
          "opacity": 0.8,
          "showarrow": true,
          "x": -0.8749446147293167,
          "xref": "x",
          "y": -0.742675282196715,
          "yref": "y"
         },
         {
          "arrowhead": 3,
          "arrowsize": 2,
          "ax": -0.5451005356176165,
          "axref": "x",
          "ay": 0.08596140934155738,
          "ayref": "y",
          "opacity": 0.8,
          "showarrow": true,
          "x": -0.1810073789585493,
          "xref": "x",
          "y": -0.12231489729674822,
          "yref": "y"
         },
         {
          "arrowhead": 3,
          "arrowsize": 2,
          "ax": 0.8255758517774272,
          "axref": "x",
          "ay": 0.22361048399982097,
          "ayref": "y",
          "opacity": 0.8,
          "showarrow": true,
          "x": 0.08443861744545557,
          "xref": "x",
          "y": -0.13191839127312988,
          "yref": "y"
         },
         {
          "arrowhead": 3,
          "arrowsize": 2,
          "ax": -0.26229529636568827,
          "axref": "x",
          "ay": 0.4784439359719159,
          "ayref": "y",
          "opacity": 0.8,
          "showarrow": true,
          "x": -0.09563875777516347,
          "xref": "x",
          "y": -0.05365272232801421,
          "yref": "y"
         },
         {
          "arrowhead": 3,
          "arrowsize": 2,
          "ax": 0.5192212324983962,
          "axref": "x",
          "ay": -0.5818789991235183,
          "ayref": "y",
          "opacity": 0.8,
          "showarrow": true,
          "x": 0.07349013224004641,
          "xref": "x",
          "y": -0.28076401052908806,
          "yref": "y"
         }
        ],
        "height": 400,
        "hovermode": "closest",
        "margin": {
         "b": 10,
         "l": 10,
         "r": 10,
         "t": 10
        },
        "showlegend": false,
        "template": {
         "data": {
          "bar": [
           {
            "error_x": {
             "color": "#2a3f5f"
            },
            "error_y": {
             "color": "#2a3f5f"
            },
            "marker": {
             "line": {
              "color": "#E5ECF6",
              "width": 0.5
             },
             "pattern": {
              "fillmode": "overlay",
              "size": 10,
              "solidity": 0.2
             }
            },
            "type": "bar"
           }
          ],
          "barpolar": [
           {
            "marker": {
             "line": {
              "color": "#E5ECF6",
              "width": 0.5
             },
             "pattern": {
              "fillmode": "overlay",
              "size": 10,
              "solidity": 0.2
             }
            },
            "type": "barpolar"
           }
          ],
          "carpet": [
           {
            "aaxis": {
             "endlinecolor": "#2a3f5f",
             "gridcolor": "white",
             "linecolor": "white",
             "minorgridcolor": "white",
             "startlinecolor": "#2a3f5f"
            },
            "baxis": {
             "endlinecolor": "#2a3f5f",
             "gridcolor": "white",
             "linecolor": "white",
             "minorgridcolor": "white",
             "startlinecolor": "#2a3f5f"
            },
            "type": "carpet"
           }
          ],
          "choropleth": [
           {
            "colorbar": {
             "outlinewidth": 0,
             "ticks": ""
            },
            "type": "choropleth"
           }
          ],
          "contour": [
           {
            "colorbar": {
             "outlinewidth": 0,
             "ticks": ""
            },
            "colorscale": [
             [
              0,
              "#0d0887"
             ],
             [
              0.1111111111111111,
              "#46039f"
             ],
             [
              0.2222222222222222,
              "#7201a8"
             ],
             [
              0.3333333333333333,
              "#9c179e"
             ],
             [
              0.4444444444444444,
              "#bd3786"
             ],
             [
              0.5555555555555556,
              "#d8576b"
             ],
             [
              0.6666666666666666,
              "#ed7953"
             ],
             [
              0.7777777777777778,
              "#fb9f3a"
             ],
             [
              0.8888888888888888,
              "#fdca26"
             ],
             [
              1,
              "#f0f921"
             ]
            ],
            "type": "contour"
           }
          ],
          "contourcarpet": [
           {
            "colorbar": {
             "outlinewidth": 0,
             "ticks": ""
            },
            "type": "contourcarpet"
           }
          ],
          "heatmap": [
           {
            "colorbar": {
             "outlinewidth": 0,
             "ticks": ""
            },
            "colorscale": [
             [
              0,
              "#0d0887"
             ],
             [
              0.1111111111111111,
              "#46039f"
             ],
             [
              0.2222222222222222,
              "#7201a8"
             ],
             [
              0.3333333333333333,
              "#9c179e"
             ],
             [
              0.4444444444444444,
              "#bd3786"
             ],
             [
              0.5555555555555556,
              "#d8576b"
             ],
             [
              0.6666666666666666,
              "#ed7953"
             ],
             [
              0.7777777777777778,
              "#fb9f3a"
             ],
             [
              0.8888888888888888,
              "#fdca26"
             ],
             [
              1,
              "#f0f921"
             ]
            ],
            "type": "heatmap"
           }
          ],
          "heatmapgl": [
           {
            "colorbar": {
             "outlinewidth": 0,
             "ticks": ""
            },
            "colorscale": [
             [
              0,
              "#0d0887"
             ],
             [
              0.1111111111111111,
              "#46039f"
             ],
             [
              0.2222222222222222,
              "#7201a8"
             ],
             [
              0.3333333333333333,
              "#9c179e"
             ],
             [
              0.4444444444444444,
              "#bd3786"
             ],
             [
              0.5555555555555556,
              "#d8576b"
             ],
             [
              0.6666666666666666,
              "#ed7953"
             ],
             [
              0.7777777777777778,
              "#fb9f3a"
             ],
             [
              0.8888888888888888,
              "#fdca26"
             ],
             [
              1,
              "#f0f921"
             ]
            ],
            "type": "heatmapgl"
           }
          ],
          "histogram": [
           {
            "marker": {
             "pattern": {
              "fillmode": "overlay",
              "size": 10,
              "solidity": 0.2
             }
            },
            "type": "histogram"
           }
          ],
          "histogram2d": [
           {
            "colorbar": {
             "outlinewidth": 0,
             "ticks": ""
            },
            "colorscale": [
             [
              0,
              "#0d0887"
             ],
             [
              0.1111111111111111,
              "#46039f"
             ],
             [
              0.2222222222222222,
              "#7201a8"
             ],
             [
              0.3333333333333333,
              "#9c179e"
             ],
             [
              0.4444444444444444,
              "#bd3786"
             ],
             [
              0.5555555555555556,
              "#d8576b"
             ],
             [
              0.6666666666666666,
              "#ed7953"
             ],
             [
              0.7777777777777778,
              "#fb9f3a"
             ],
             [
              0.8888888888888888,
              "#fdca26"
             ],
             [
              1,
              "#f0f921"
             ]
            ],
            "type": "histogram2d"
           }
          ],
          "histogram2dcontour": [
           {
            "colorbar": {
             "outlinewidth": 0,
             "ticks": ""
            },
            "colorscale": [
             [
              0,
              "#0d0887"
             ],
             [
              0.1111111111111111,
              "#46039f"
             ],
             [
              0.2222222222222222,
              "#7201a8"
             ],
             [
              0.3333333333333333,
              "#9c179e"
             ],
             [
              0.4444444444444444,
              "#bd3786"
             ],
             [
              0.5555555555555556,
              "#d8576b"
             ],
             [
              0.6666666666666666,
              "#ed7953"
             ],
             [
              0.7777777777777778,
              "#fb9f3a"
             ],
             [
              0.8888888888888888,
              "#fdca26"
             ],
             [
              1,
              "#f0f921"
             ]
            ],
            "type": "histogram2dcontour"
           }
          ],
          "mesh3d": [
           {
            "colorbar": {
             "outlinewidth": 0,
             "ticks": ""
            },
            "type": "mesh3d"
           }
          ],
          "parcoords": [
           {
            "line": {
             "colorbar": {
              "outlinewidth": 0,
              "ticks": ""
             }
            },
            "type": "parcoords"
           }
          ],
          "pie": [
           {
            "automargin": true,
            "type": "pie"
           }
          ],
          "scatter": [
           {
            "fillpattern": {
             "fillmode": "overlay",
             "size": 10,
             "solidity": 0.2
            },
            "type": "scatter"
           }
          ],
          "scatter3d": [
           {
            "line": {
             "colorbar": {
              "outlinewidth": 0,
              "ticks": ""
             }
            },
            "marker": {
             "colorbar": {
              "outlinewidth": 0,
              "ticks": ""
             }
            },
            "type": "scatter3d"
           }
          ],
          "scattercarpet": [
           {
            "marker": {
             "colorbar": {
              "outlinewidth": 0,
              "ticks": ""
             }
            },
            "type": "scattercarpet"
           }
          ],
          "scattergeo": [
           {
            "marker": {
             "colorbar": {
              "outlinewidth": 0,
              "ticks": ""
             }
            },
            "type": "scattergeo"
           }
          ],
          "scattergl": [
           {
            "marker": {
             "colorbar": {
              "outlinewidth": 0,
              "ticks": ""
             }
            },
            "type": "scattergl"
           }
          ],
          "scattermapbox": [
           {
            "marker": {
             "colorbar": {
              "outlinewidth": 0,
              "ticks": ""
             }
            },
            "type": "scattermapbox"
           }
          ],
          "scatterpolar": [
           {
            "marker": {
             "colorbar": {
              "outlinewidth": 0,
              "ticks": ""
             }
            },
            "type": "scatterpolar"
           }
          ],
          "scatterpolargl": [
           {
            "marker": {
             "colorbar": {
              "outlinewidth": 0,
              "ticks": ""
             }
            },
            "type": "scatterpolargl"
           }
          ],
          "scatterternary": [
           {
            "marker": {
             "colorbar": {
              "outlinewidth": 0,
              "ticks": ""
             }
            },
            "type": "scatterternary"
           }
          ],
          "surface": [
           {
            "colorbar": {
             "outlinewidth": 0,
             "ticks": ""
            },
            "colorscale": [
             [
              0,
              "#0d0887"
             ],
             [
              0.1111111111111111,
              "#46039f"
             ],
             [
              0.2222222222222222,
              "#7201a8"
             ],
             [
              0.3333333333333333,
              "#9c179e"
             ],
             [
              0.4444444444444444,
              "#bd3786"
             ],
             [
              0.5555555555555556,
              "#d8576b"
             ],
             [
              0.6666666666666666,
              "#ed7953"
             ],
             [
              0.7777777777777778,
              "#fb9f3a"
             ],
             [
              0.8888888888888888,
              "#fdca26"
             ],
             [
              1,
              "#f0f921"
             ]
            ],
            "type": "surface"
           }
          ],
          "table": [
           {
            "cells": {
             "fill": {
              "color": "#EBF0F8"
             },
             "line": {
              "color": "white"
             }
            },
            "header": {
             "fill": {
              "color": "#C8D4E3"
             },
             "line": {
              "color": "white"
             }
            },
            "type": "table"
           }
          ]
         },
         "layout": {
          "annotationdefaults": {
           "arrowcolor": "#2a3f5f",
           "arrowhead": 0,
           "arrowwidth": 1
          },
          "autotypenumbers": "strict",
          "coloraxis": {
           "colorbar": {
            "outlinewidth": 0,
            "ticks": ""
           }
          },
          "colorscale": {
           "diverging": [
            [
             0,
             "#8e0152"
            ],
            [
             0.1,
             "#c51b7d"
            ],
            [
             0.2,
             "#de77ae"
            ],
            [
             0.3,
             "#f1b6da"
            ],
            [
             0.4,
             "#fde0ef"
            ],
            [
             0.5,
             "#f7f7f7"
            ],
            [
             0.6,
             "#e6f5d0"
            ],
            [
             0.7,
             "#b8e186"
            ],
            [
             0.8,
             "#7fbc41"
            ],
            [
             0.9,
             "#4d9221"
            ],
            [
             1,
             "#276419"
            ]
           ],
           "sequential": [
            [
             0,
             "#0d0887"
            ],
            [
             0.1111111111111111,
             "#46039f"
            ],
            [
             0.2222222222222222,
             "#7201a8"
            ],
            [
             0.3333333333333333,
             "#9c179e"
            ],
            [
             0.4444444444444444,
             "#bd3786"
            ],
            [
             0.5555555555555556,
             "#d8576b"
            ],
            [
             0.6666666666666666,
             "#ed7953"
            ],
            [
             0.7777777777777778,
             "#fb9f3a"
            ],
            [
             0.8888888888888888,
             "#fdca26"
            ],
            [
             1,
             "#f0f921"
            ]
           ],
           "sequentialminus": [
            [
             0,
             "#0d0887"
            ],
            [
             0.1111111111111111,
             "#46039f"
            ],
            [
             0.2222222222222222,
             "#7201a8"
            ],
            [
             0.3333333333333333,
             "#9c179e"
            ],
            [
             0.4444444444444444,
             "#bd3786"
            ],
            [
             0.5555555555555556,
             "#d8576b"
            ],
            [
             0.6666666666666666,
             "#ed7953"
            ],
            [
             0.7777777777777778,
             "#fb9f3a"
            ],
            [
             0.8888888888888888,
             "#fdca26"
            ],
            [
             1,
             "#f0f921"
            ]
           ]
          },
          "colorway": [
           "#636efa",
           "#EF553B",
           "#00cc96",
           "#ab63fa",
           "#FFA15A",
           "#19d3f3",
           "#FF6692",
           "#B6E880",
           "#FF97FF",
           "#FECB52"
          ],
          "font": {
           "color": "#2a3f5f"
          },
          "geo": {
           "bgcolor": "white",
           "lakecolor": "white",
           "landcolor": "#E5ECF6",
           "showlakes": true,
           "showland": true,
           "subunitcolor": "white"
          },
          "hoverlabel": {
           "align": "left"
          },
          "hovermode": "closest",
          "mapbox": {
           "style": "light"
          },
          "paper_bgcolor": "white",
          "plot_bgcolor": "#E5ECF6",
          "polar": {
           "angularaxis": {
            "gridcolor": "white",
            "linecolor": "white",
            "ticks": ""
           },
           "bgcolor": "#E5ECF6",
           "radialaxis": {
            "gridcolor": "white",
            "linecolor": "white",
            "ticks": ""
           }
          },
          "scene": {
           "xaxis": {
            "backgroundcolor": "#E5ECF6",
            "gridcolor": "white",
            "gridwidth": 2,
            "linecolor": "white",
            "showbackground": true,
            "ticks": "",
            "zerolinecolor": "white"
           },
           "yaxis": {
            "backgroundcolor": "#E5ECF6",
            "gridcolor": "white",
            "gridwidth": 2,
            "linecolor": "white",
            "showbackground": true,
            "ticks": "",
            "zerolinecolor": "white"
           },
           "zaxis": {
            "backgroundcolor": "#E5ECF6",
            "gridcolor": "white",
            "gridwidth": 2,
            "linecolor": "white",
            "showbackground": true,
            "ticks": "",
            "zerolinecolor": "white"
           }
          },
          "shapedefaults": {
           "line": {
            "color": "#2a3f5f"
           }
          },
          "ternary": {
           "aaxis": {
            "gridcolor": "white",
            "linecolor": "white",
            "ticks": ""
           },
           "baxis": {
            "gridcolor": "white",
            "linecolor": "white",
            "ticks": ""
           },
           "bgcolor": "#E5ECF6",
           "caxis": {
            "gridcolor": "white",
            "linecolor": "white",
            "ticks": ""
           }
          },
          "title": {
           "x": 0.05
          },
          "xaxis": {
           "automargin": true,
           "gridcolor": "white",
           "linecolor": "white",
           "ticks": "",
           "title": {
            "standoff": 15
           },
           "zerolinecolor": "white",
           "zerolinewidth": 2
          },
          "yaxis": {
           "automargin": true,
           "gridcolor": "white",
           "linecolor": "white",
           "ticks": "",
           "title": {
            "standoff": 15
           },
           "zerolinecolor": "white",
           "zerolinewidth": 2
          }
         }
        },
        "width": 600,
        "xaxis": {
         "showgrid": false,
         "showticklabels": false,
         "zeroline": false
        },
        "yaxis": {
         "showgrid": false,
         "showticklabels": false,
         "zeroline": false
        }
       }
      }
     },
     "metadata": {},
     "output_type": "display_data"
    }
   ],
   "source": [
    "import numpy as np\n",
    "import networkx as nx\n",
    "import plotly.graph_objects as go\n",
    "from utils_behaviour import feature_name_map\n",
    "\n",
    "def draw_bn_plotly(model, layout_algo=\"\", en=False, width=1000, height=500, seed=42, iter=100):\n",
    "    edges = [(str(u), str(v)) for u, v in model['model_edges']]\n",
    "    df = model['independence_test'][['source','target','p_value']].copy()\n",
    "\n",
    "    if en:\n",
    "        df['source'] = df['source'].map(feature_name_map).fillna(df['source'])\n",
    "        df['target'] = df['target'].map(feature_name_map).fillna(df['target'])\n",
    "        edges = [(feature_name_map.get(u, u), feature_name_map.get(v, v)) for (u, v) in edges]\n",
    "    else:\n",
    "        df['source'] = df['source'].astype(str)\n",
    "        df['target'] = df['target'].astype(str)\n",
    "\n",
    "    p_map = {(s,t):p for s,t,p in df.itertuples(index=False, name=None)}\n",
    "    p_map.update({(t,s):p for (s,t),p in list(p_map.items())})\n",
    "\n",
    "    G = nx.DiGraph()\n",
    "    G.add_edges_from(edges)\n",
    "\n",
    "    pos = (nx.spring_layout(G, seed=seed, iterations=iter) if layout_algo==\"spring\"\n",
    "           else nx.kamada_kawai_layout(G))\n",
    "\n",
    "    # nodes\n",
    "    deg = dict(G.degree())\n",
    "    node_x, node_y, node_text, node_size = [], [], [], []\n",
    "    for n in G.nodes():\n",
    "        x,y = pos[n]\n",
    "        node_x.append(x); node_y.append(y)\n",
    "        node_text.append(f\"{n}<br>degree: {deg.get(n,0)}\")\n",
    "        # node_size.append(10 + 25*(deg.get(n,1)))\n",
    "        node_size.append(50)\n",
    "\n",
    "    node_trace = go.Scatter(\n",
    "        x=node_x, y=node_y, mode='markers+text',\n",
    "        text=[str(n) for n in G.nodes()],\n",
    "        textposition=\"middle center\",\n",
    "        hovertext=node_text, hoverinfo=\"text\",\n",
    "        marker=dict(size=node_size, \n",
    "                    # line=dict(width=1), \n",
    "                    line=dict(color=\"#24475E\", width=2),\n",
    "                    color=\"#5390B9\")\n",
    "    )\n",
    "\n",
    "    # edge\n",
    "    edge_traces = []\n",
    "    annotations = []\n",
    "    r = 0.15\n",
    "    for u, v in G.edges():\n",
    "        x0, y0 = pos[u]\n",
    "        x1, y1 = pos[v]\n",
    "        dx, dy = x1 - x0, y1 - y0\n",
    "        d = (dx**2 + dy**2)**0.5\n",
    "        if d == 0:\n",
    "            continue\n",
    "\n",
    "        # 起點：從 source 往 target 方向移動 r\n",
    "        sx = x0 + dx/d * r\n",
    "        sy = y0 + dy/d * r\n",
    "        # 終點：從 target 往 source 方向退 r\n",
    "        ex = x1 - dx/d * r\n",
    "        ey = y1 - dy/d * r\n",
    "\n",
    "        annotations.append(dict(\n",
    "            ax=sx, ay=sy, x=ex, y=ey,\n",
    "            xref=\"x\", yref=\"y\", axref=\"x\", ayref=\"y\",\n",
    "            showarrow=True, arrowhead=3, arrowsize=2, opacity=0.8\n",
    "        ))\n",
    "\n",
    "    fig = go.Figure(data=edge_traces + [node_trace],\n",
    "        layout=go.Layout(\n",
    "            template=None, showlegend=False,\n",
    "            hovermode='closest',\n",
    "            margin=dict(l=10, r=10, t=10, b=10),\n",
    "            xaxis=dict(showgrid=False, zeroline=False, showticklabels=False),\n",
    "            yaxis=dict(showgrid=False, zeroline=False, showticklabels=False),\n",
    "            annotations=annotations,\n",
    "            width=width, height=height,\n",
    "        )\n",
    "    )\n",
    "    return fig\n",
    "\n",
    "draw_bn_plotly(model_independence, layout_algo='spring', en=False, width=600, height=400, seed=42, iter=30)\n"
   ]
  },
  {
   "cell_type": "code",
   "execution_count": null,
   "metadata": {},
   "outputs": [],
   "source": [
    "import matplotlib.pyplot as plt\n",
    "import seaborn as sns\n",
    "\n",
    "plt.rcParams['font.family'] = ['Arial Unicode Ms']\n",
    "\n",
    "hot = hot_hex[['hotspot', 'nearest_county']].value_counts()\n",
    "hot_df = hot.reset_index()\n",
    "hot_df.columns = ['熱點', '最近縣市', '數量']\n",
    "\n",
    "# Add a normalized column\n",
    "count_hexagon_in_county = hex_with_county['COUNTYNAME'].value_counts()\n",
    "\n",
    "hot_df['normalized_count'] = hot_df.apply(\n",
    "    lambda row: row['數量'] / count_hexagon_in_county[row['最近縣市']], axis=1\n",
    ")\n",
    "\n",
    "plt.figure(figsize=(12, 6))\n",
    "sns.barplot(data=hot_df, x='最近縣市', y='normalized_count', hue='熱點', palette='viridis')\n",
    "\n",
    "plt.title('各縣市內熱點分布（比例）', fontsize=16)\n",
    "plt.xlabel('最近縣市', fontsize=12)\n",
    "plt.ylabel('比例', fontsize=12)\n",
    "plt.legend(title='熱點', fontsize=10)\n",
    "plt.xticks(rotation=30)\n",
    "\n",
    "plt.tight_layout()\n",
    "plt.show()"
   ]
  },
  {
   "cell_type": "markdown",
   "metadata": {},
   "source": [
    "### Without normalize"
   ]
  },
  {
   "cell_type": "code",
   "execution_count": null,
   "metadata": {},
   "outputs": [],
   "source": [
    "import matplotlib.pyplot as plt\n",
    "import seaborn as sns\n",
    "\n",
    "plt.rcParams['font.family'] = ['Arial Unicode Ms']\n",
    "\n",
    "hot = hot_hex[['hotspot', 'nearest_county']].value_counts()\n",
    "hot_df = hot.reset_index()\n",
    "hot_df.columns = ['熱點', '最近縣市', '數量']\n",
    "\n",
    "plt.figure(figsize=(12, 6))\n",
    "sns.barplot(data=hot_df, x='最近縣市', y='數量', hue='熱點', palette='viridis')\n",
    "\n",
    "plt.title('各縣市內熱點分布', fontsize=16)\n",
    "plt.xlabel('最近縣市', fontsize=12)\n",
    "plt.ylabel('數量', fontsize=12)\n",
    "plt.legend(title='熱點', fontsize=10)\n",
    "plt.xticks(rotation=30)\n",
    "\n",
    "plt.tight_layout()\n",
    "plt.show()"
   ]
  },
  {
   "cell_type": "markdown",
   "metadata": {},
   "source": [
    "## 作圖比較\n",
    "主要以道路設計進行，因為天氣、車輛無法討論空間同質"
   ]
  },
  {
   "cell_type": "code",
   "execution_count": null,
   "metadata": {},
   "outputs": [],
   "source": [
    "col = '事故類型及型態子類別名稱'\n",
    "\n",
    "# 先合併所有熱點 hex 的事故索引與縣市\n",
    "city_indices = []\n",
    "for city in hot_hex['nearest_county'].unique():\n",
    "    indices = sum(hot_hex[hot_hex['nearest_county'] == city]['accident_indices'], [])\n",
    "    city_indices.append((city, indices))\n",
    "\n",
    "result = []\n",
    "\n",
    "for city, indices in city_indices:\n",
    "    if not indices:\n",
    "        continue\n",
    "    \n",
    "    # project回原始資料\n",
    "    city_data = combined_data.loc[indices]\n",
    "    counts = city_data[col].value_counts(normalize=True)  # 計算比例\n",
    "    for signal_type, ratio in counts.items():\n",
    "        result.append({'城市': city, col: signal_type, '比例': ratio})\n",
    "\n",
    "result_df = pd.DataFrame(result)\n",
    "\n",
    "# 轉成 pivot table 方便比較\n",
    "pivot = result_df.pivot(index='城市', columns=col, values='比例').fillna(0)\n",
    "\n",
    "city_order = [\n",
    "    '臺北市', '新北市',  # 最北\n",
    "    '桃園市', '新竹市', '新竹縣', '宜蘭縣',  # 北部\n",
    "    '苗栗縣', '臺中市', '彰化縣',  # 中部\n",
    "    '嘉義市', '嘉義縣', '臺南市', '高雄市', '屏東縣',  # 南部\n",
    "    '花蓮縣', '臺東縣'  # 東部\n",
    "]\n",
    "\n",
    "pivot_sorted = pivot.loc[city_order]\n",
    "\n",
    "# plt.rcParams['font.family'] = ['Arial Unicode Ms']\n",
    "plt.rcParams['font.family'] = ['Microsoft JhengHei'] \n",
    "\n",
    "# pivot_sorted = pivot.loc[pivot.max(axis=1).sort_values(ascending=False).index]\n",
    "pivot_sorted.plot(kind='bar', stacked=True, figsize=(12, 8), colormap='tab20')\n",
    "\n",
    "plt.ylabel('比例')\n",
    "plt.title(f'各城市熱點區域內不同{col}比例')\n",
    "plt.legend(title=col, bbox_to_anchor=(1.05, 1), loc='upper left')\n",
    "plt.xticks(rotation=0)\n",
    "plt.tight_layout()\n",
    "plt.show()"
   ]
  },
  {
   "cell_type": "markdown",
   "metadata": {},
   "source": [
    "[<br/>\n",
    "    '臺北市', '新北市',  # 最北 <br/>\n",
    "    '桃園市', '新竹市', '新竹縣', '宜蘭縣',  # 北部<br/>\n",
    "    '苗栗縣', '臺中市', '彰化縣',  # 中部<br/>\n",
    "    '嘉義市', '嘉義縣', '臺南市', '高雄市', '屏東縣',  # 南部<br/>\n",
    "    '花蓮縣', '臺東縣'  # 東部<br/>\n",
    "]<br/>"
   ]
  },
  {
   "cell_type": "code",
   "execution_count": null,
   "metadata": {},
   "outputs": [],
   "source": [
    "from sklearn.metrics.pairwise import cosine_similarity\n",
    "import seaborn as sns\n",
    "\n",
    "similarity_matrix = pd.DataFrame(\n",
    "    cosine_similarity(pivot_sorted.values),\n",
    "    index=pivot_sorted.index, # 列索引為城市名稱\n",
    "    columns=pivot_sorted.index # 欄索引為城市名稱\n",
    ")\n",
    "\n",
    "plt.figure(figsize=(10, 8))\n",
    "sns.heatmap(similarity_matrix, annot=True, cmap='YlGnBu', cbar=False)\n",
    "plt.title(f'城市間{col}比例相似')\n",
    "plt.show()"
   ]
  }
 ],
 "metadata": {
  "kernelspec": {
   "display_name": "ST-RTA",
   "language": "python",
   "name": "python3"
  },
  "language_info": {
   "codemirror_mode": {
    "name": "ipython",
    "version": 3
   },
   "file_extension": ".py",
   "mimetype": "text/x-python",
   "name": "python",
   "nbconvert_exporter": "python",
   "pygments_lexer": "ipython3",
   "version": "3.9.21"
  }
 },
 "nbformat": 4,
 "nbformat_minor": 2
}
