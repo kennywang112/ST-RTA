{
 "cells": [
  {
   "cell_type": "markdown",
   "metadata": {},
   "source": [
    "# Macro"
   ]
  },
  {
   "cell_type": "markdown",
   "metadata": {},
   "source": [
    "### Morans I"
   ]
  },
  {
   "cell_type": "code",
   "execution_count": null,
   "metadata": {},
   "outputs": [],
   "source": [
    "import os\n",
    "\n",
    "current_dir = os.getcwd()\n",
    "parent_dir = os.path.dirname(current_dir)\n",
    "analyze_path = os.path.join(parent_dir, \"utils\")\n",
    "\n",
    "os.chdir(analyze_path)"
   ]
  },
  {
   "cell_type": "code",
   "execution_count": null,
   "metadata": {},
   "outputs": [],
   "source": [
    "import numpy as np\n",
    "import pandas as pd\n",
    "import geopandas as gpd\n",
    "import matplotlib.pyplot as plt\n",
    "\n",
    "dataA1 = pd.read_csv('../ComputedData/Accident/DataA1_with_MYP.csv')\n",
    "dataA2 = pd.read_csv('../ComputedData/Accident/DataA2_with_MYP.csv')\n",
    "taiwan = gpd.read_file('../Data/OFiles_9e222fea-bafb-4436-9b17-10921abc6ef2/TOWN_MOI_1140318.shp')\n",
    "taiwan = taiwan[(~taiwan['TOWNNAME'].isin(['旗津區', '頭城鎮', '蘭嶼鄉', '綠島鄉', '琉球鄉'])) & \n",
    "                (~taiwan['COUNTYNAME'].isin(['金門縣', '連江縣', '澎湖縣']))]"
   ]
  },
  {
   "cell_type": "code",
   "execution_count": null,
   "metadata": {},
   "outputs": [],
   "source": [
    "from utils import get_grid\n",
    "\n",
    "filtered_A2 = dataA2[dataA2['當事者順位'] == 1]\n",
    "filtered_A1 = dataA1[dataA1['當事者順位'] == 1]\n",
    "\n",
    "filtered_A1['source'] = 'A1'\n",
    "filtered_A2['source'] = 'A2'\n",
    "filtered_A1['num_accidents'] = 1 \n",
    "filtered_A2['num_accidents'] = 1\n",
    "combined_data = pd.concat([filtered_A1, filtered_A2], ignore_index=True)\n",
    "\n",
    "hex_grid = get_grid(combined_data, hex_size=0.01, threshold=-1)\n",
    "taiwan = taiwan.to_crs(hex_grid.crs)  # 確保 CRS 一致\n",
    "\n",
    "hex_grid = hex_grid[hex_grid.intersects(taiwan.unary_union)]\n",
    "# hex_grid.to_file('../ComputedData/Grid/macro_hs.geojson', driver='GeoJSON')"
   ]
  },
  {
   "cell_type": "markdown",
   "metadata": {},
   "source": [
    "## Infrastructure Analyze"
   ]
  },
  {
   "cell_type": "code",
   "execution_count": null,
   "metadata": {},
   "outputs": [],
   "source": [
    "combined_data['full_infrastructure'] = combined_data['mrt_100m_count'] + combined_data['youbike_100m_count'] + combined_data['parkinglot_100m_count']"
   ]
  },
  {
   "cell_type": "code",
   "execution_count": null,
   "metadata": {},
   "outputs": [],
   "source": [
    "import pandas as pd\n",
    "import seaborn as sns\n",
    "import matplotlib.pyplot as plt\n",
    "from matplotlib.font_manager import FontProperties\n",
    "\n",
    "# 設置中文字體\n",
    "myfont = FontProperties(fname=r\"/Users/wangqiqian/Library/Fonts/標楷體.ttf\")\n",
    "sns.set(style=\"whitegrid\", font=myfont.get_name())\n",
    "\n",
    "def plot_facility_vs_human_vehicle_subplot(data, facilities, accident_col, accident_type):\n",
    "    fig, axes = plt.subplots(2, 2, figsize=(16, 12))\n",
    "    axes = axes.flatten()\n",
    "\n",
    "    for i, facility_col in enumerate(facilities):\n",
    "\n",
    "        data['is_human_vehicle'] = (data[accident_col] == accident_type).astype(int)\n",
    "\n",
    "        grouped = data.groupby(facility_col).agg(\n",
    "            human_vehicle_ratio=('is_human_vehicle', 'mean'),\n",
    "            total_count=('is_human_vehicle', 'size')\n",
    "        ).reset_index()\n",
    "\n",
    "        sns.barplot(\n",
    "            data=grouped,\n",
    "            x=facility_col,\n",
    "            y='human_vehicle_ratio',\n",
    "            palette=\"Blues_d\",\n",
    "            ax=axes[i]  # 指定子圖\n",
    "        )\n",
    "\n",
    "        for index, row in grouped.iterrows():\n",
    "            axes[i].text(\n",
    "                x=index, \n",
    "                y=row['human_vehicle_ratio'] + 0.001,\n",
    "                s=f\"{round(row['total_count'])}\", \n",
    "                ha='center', \n",
    "                va='bottom', \n",
    "                fontsize=10, \n",
    "                fontproperties=myfont\n",
    "            )\n",
    "\n",
    "        axes[i].set_title(f\"{facility_col} 附近人與車事故比例\", fontsize=14, fontproperties=myfont)\n",
    "        axes[i].set_xlabel(f\"{facility_col} Count\", fontsize=12, fontproperties=myfont)\n",
    "        axes[i].set_ylabel(\"人與車事故比例\", fontsize=12, fontproperties=myfont)\n",
    "        axes[i].tick_params(axis='x', labelsize=10)\n",
    "        axes[i].tick_params(axis='y', labelsize=10)\n",
    "        axes[i].grid(axis='y', linestyle='--', alpha=0.7)\n",
    "\n",
    "    for j in range(len(facilities), len(axes)):\n",
    "        fig.delaxes(axes[j])\n",
    "\n",
    "    plt.tight_layout()\n",
    "    plt.show()\n",
    "\n",
    "plot_facility_vs_human_vehicle_subplot(\n",
    "    combined_data,\n",
    "    facilities=['youbike_100m_count', 'mrt_100m_count', 'parkinglot_100m_count', 'full_infrastructure'],\n",
    "    accident_col='事故類型及型態大類別名稱',\n",
    "    accident_type='人與車'\n",
    ")"
   ]
  },
  {
   "cell_type": "markdown",
   "metadata": {},
   "source": [
    "## Accident map\n"
   ]
  },
  {
   "cell_type": "code",
   "execution_count": null,
   "metadata": {},
   "outputs": [],
   "source": [
    "fig, ax = plt.subplots(figsize=(10, 10))\n",
    "taiwan.plot(ax=ax, color='white', edgecolor='black') \n",
    "hex_grid.plot(\n",
    "    column='num_accidents', \n",
    "    cmap='OrRd', \n",
    "    legend=True, \n",
    "    edgecolor='black', \n",
    "    linewidth=0.2, \n",
    "    alpha=0.6,\n",
    "    ax=ax\n",
    ")\n",
    "plt.title('Hexagon Accident Counts (num_accidents > 0)')\n",
    "plt.axis('off')\n",
    "plt.show()"
   ]
  },
  {
   "cell_type": "markdown",
   "metadata": {},
   "source": [
    "### This is now deprecated because ISA isn't intuitive for hexagons."
   ]
  },
  {
   "cell_type": "code",
   "execution_count": null,
   "metadata": {},
   "outputs": [],
   "source": [
    "from utils import incremental_spatial_autocorrelation, incremental_spatial_autocorrelation_knn\n",
    "\n",
    "# Incremental Spatial Autocorrelation\n",
    "# grid 中心點到中心點的incremental\n",
    "thresholds, moran_I, z_scores, p_values = incremental_spatial_autocorrelation(\n",
    "    hex_grid, value_col='num_accidents', min_dist=1000, max_dist=5000, step=1000\n",
    ")\n",
    "# thresholds, moran_I, z_scores, p_values = incremental_spatial_autocorrelation_knn(\n",
    "#     hex_grid, value_col='num_accidents', min_k=5, max_k=30, step=1\n",
    "# )\n",
    "\n",
    "plt.figure(figsize=(10, 6))\n",
    "plt.plot(thresholds / 1000, z_scores, marker='o')\n",
    "plt.xlabel('Distance Threshold (km)')\n",
    "plt.ylabel('Z-Score')\n",
    "plt.title(\"Incremental Spatial Autocorrelation (ISA)\")\n",
    "plt.grid(True)\n",
    "plt.show()\n",
    "\n",
    "# 找 Z-score 最大的距離\n",
    "best_idx = np.argmax(z_scores)\n",
    "best_distance = thresholds[best_idx]\n",
    "print(f\"最佳分析距離 (m): {best_distance}\")\n",
    "print(f\"Z-score: {z_scores[best_idx]:.4f}\")\n",
    "print(f\"Moran's I: {moran_I[best_idx]:.4f}\")"
   ]
  },
  {
   "cell_type": "markdown",
   "metadata": {},
   "source": [
    "## Lisa plot"
   ]
  },
  {
   "cell_type": "code",
   "execution_count": null,
   "metadata": {},
   "outputs": [],
   "source": [
    "from utils_lisa import LocalMoranAnalysis\n",
    "\n",
    "analysis = LocalMoranAnalysis(hex_grid, taiwan, k=6)\n",
    "analysis.calculate_local_moran()\n",
    "analysis.plot_lisa()\n",
    "analysis.lisa_scatter_plot()"
   ]
  },
  {
   "cell_type": "markdown",
   "metadata": {},
   "source": [
    "### Calculate and Plot GI\n",
    "This is to find the most significant hotspot in each knn"
   ]
  },
  {
   "cell_type": "code",
   "execution_count": null,
   "metadata": {},
   "outputs": [],
   "source": [
    "from utils import calculate_gi, plot_map\n",
    "\n",
    "# 只有queen不能使用，因為沒參數可以修改\n",
    "# for i in range(3000, 15000, 3000):\n",
    "# for i in range(10000, 30000, 5000):\n",
    "for i in range(6, 10, 1): # knn的i意義是鄰近資料\n",
    "    print(i)\n",
    "    grid = calculate_gi(i, hex_grid, adjacency='knn')\n",
    "    c = grid[grid['hotspot'] != 'Not Significant']\n",
    "    if c.shape[0] > 0:\n",
    "        print('sig:', c.shape[0])"
   ]
  },
  {
   "cell_type": "code",
   "execution_count": null,
   "metadata": {},
   "outputs": [],
   "source": [
    "from utils import calculate_gi, plot_map\n",
    "# 做圖要轉回原始 CRS\n",
    "# grid = calculate_gi(10000, hex_grid, adjacency=None)\n",
    "# grid = calculate_gi(10000, hex_grid, adjacency='queen')\n",
    "grid = calculate_gi(6, hex_grid, adjacency='knn')\n",
    "# grid.to_file('../ComputedData/Grid/macro_gi.geojson', driver='GeoJSON')\n",
    "\n",
    "# plot_map(filtered_A2, grid.to_crs('EPSG:4326'), gi=True)"
   ]
  },
  {
   "cell_type": "code",
   "execution_count": null,
   "metadata": {},
   "outputs": [],
   "source": [
    "import matplotlib.colors as mcolors\n",
    "\n",
    "cmap = mcolors.ListedColormap([\n",
    "    '#800026',  # dark red - Hotspot 99%\n",
    "    '#FC4E2A',  # red - Hotspot 95%\n",
    "    '#FD8D3C',  # light red - Hotspot 90%\n",
    "    '#d9d9d9',  # grey - Not Significant\n",
    "    '#6baed6',  # light blue - Coldspot 90%\n",
    "    '#3182bd',  # blue - Coldspot 95%\n",
    "    '#08519c'   # dark blue - Coldspot 99%\n",
    "])\n",
    "\n",
    "# 照順序排\n",
    "categories = [\n",
    "    'Hotspot 99%', \n",
    "    'Hotspot 95%', \n",
    "    'Hotspot 90%', \n",
    "    'Not Significant', \n",
    "    'Coldspot 90%', \n",
    "    'Coldspot 95%', \n",
    "    'Coldspot 99%'\n",
    "]\n",
    "\n",
    "grid = grid.to_crs(epsg=4326)  # 把座標轉回跟 folium 一樣\n",
    "\n",
    "fig, ax = plt.subplots(figsize=(10, 10))\n",
    "taiwan.to_crs(epsg=4326).plot(ax=ax, color='white', edgecolor='black', linewidth=0.5)\n",
    "\n",
    "grid.plot(\n",
    "    column='hotspot', \n",
    "    categorical=True, \n",
    "    cmap=cmap, \n",
    "    legend=True, \n",
    "    edgecolor='grey', \n",
    "    linewidth=0.2, \n",
    "    alpha=0.6,\n",
    "    ax=ax,\n",
    "    categories=categories,\n",
    "    legend_kwds={\n",
    "        'bbox_to_anchor': (1.05, 1),\n",
    "        'loc': 'upper left',\n",
    "        'frameon': False\n",
    "    }\n",
    ")\n",
    "\n",
    "plt.title('Hotspot Analysis (Getis-Ord Gi*) - 90%, 95%, 99% Confidence Levels')\n",
    "plt.axis('off')\n",
    "plt.show()"
   ]
  },
  {
   "cell_type": "markdown",
   "metadata": {},
   "source": [
    "### Find the nearest county from grid"
   ]
  },
  {
   "cell_type": "code",
   "execution_count": null,
   "metadata": {},
   "outputs": [],
   "source": [
    "counties = taiwan[['COUNTYNAME', 'geometry']].copy()\n",
    "hot_hex = hex_grid[hex_grid['hotspot'] != 'Not Significant'].copy()\n",
    "\n",
    "def find_nearest_county(hexagon, counties_gdf):\n",
    "    # 每個 hexagon 到所有 county 的距離\n",
    "    distances = counties_gdf.distance(hexagon)\n",
    "    nearest_idx = distances.idxmin()\n",
    "    return counties_gdf.loc[nearest_idx, 'COUNTYNAME']\n",
    "\n",
    "hot_hex['nearest_county'] = hot_hex['geometry'].apply(lambda x: find_nearest_county(x, counties))\n",
    "hot_hex['nearest_county'].unique()"
   ]
  },
  {
   "cell_type": "markdown",
   "metadata": {},
   "source": [
    "## Find the nearest county for each hexagon"
   ]
  },
  {
   "cell_type": "code",
   "execution_count": null,
   "metadata": {},
   "outputs": [],
   "source": [
    "counties = counties.to_crs(\"EPSG:3826\")\n",
    "hex_grid = hex_grid.to_crs(\"EPSG:3826\")\n",
    "\n",
    "hex_with_county = gpd.sjoin_nearest(hex_grid, counties[['COUNTYNAME', 'geometry']], how='left', distance_col='dist_to_county')\n",
    "# Find the nearest county for each hexagon"
   ]
  },
  {
   "cell_type": "markdown",
   "metadata": {},
   "source": [
    "### With normalize"
   ]
  },
  {
   "cell_type": "code",
   "execution_count": null,
   "metadata": {},
   "outputs": [],
   "source": [
    "import matplotlib.pyplot as plt\n",
    "import seaborn as sns\n",
    "\n",
    "plt.rcParams['font.family'] = ['Arial Unicode Ms']\n",
    "\n",
    "hot = hot_hex[['hotspot', 'nearest_county']].value_counts()\n",
    "hot_df = hot.reset_index()\n",
    "hot_df.columns = ['熱點', '最近縣市', '數量']\n",
    "\n",
    "# Add a normalized column\n",
    "count_hexagon_in_county = hex_with_county['COUNTYNAME'].value_counts()\n",
    "\n",
    "hot_df['normalized_count'] = hot_df.apply(\n",
    "    lambda row: row['數量'] / count_hexagon_in_county[row['最近縣市']], axis=1\n",
    ")\n",
    "\n",
    "plt.figure(figsize=(12, 6))\n",
    "sns.barplot(data=hot_df, x='最近縣市', y='normalized_count', hue='熱點', palette='viridis')\n",
    "\n",
    "plt.title('各縣市內熱點分布（比例）', fontsize=16)\n",
    "plt.xlabel('最近縣市', fontsize=12)\n",
    "plt.ylabel('比例', fontsize=12)\n",
    "plt.legend(title='熱點', fontsize=10)\n",
    "plt.xticks(rotation=30)\n",
    "\n",
    "plt.tight_layout()\n",
    "plt.show()"
   ]
  },
  {
   "cell_type": "markdown",
   "metadata": {},
   "source": [
    "### Without normalize"
   ]
  },
  {
   "cell_type": "code",
   "execution_count": null,
   "metadata": {},
   "outputs": [],
   "source": [
    "import matplotlib.pyplot as plt\n",
    "import seaborn as sns\n",
    "\n",
    "plt.rcParams['font.family'] = ['Arial Unicode Ms']\n",
    "\n",
    "hot = hot_hex[['hotspot', 'nearest_county']].value_counts()\n",
    "hot_df = hot.reset_index()\n",
    "hot_df.columns = ['熱點', '最近縣市', '數量']\n",
    "\n",
    "plt.figure(figsize=(12, 6))\n",
    "sns.barplot(data=hot_df, x='最近縣市', y='數量', hue='熱點', palette='viridis')\n",
    "\n",
    "plt.title('各縣市內熱點分布', fontsize=16)\n",
    "plt.xlabel('最近縣市', fontsize=12)\n",
    "plt.ylabel('數量', fontsize=12)\n",
    "plt.legend(title='熱點', fontsize=10)\n",
    "plt.xticks(rotation=30)\n",
    "\n",
    "plt.tight_layout()\n",
    "plt.show()"
   ]
  },
  {
   "cell_type": "markdown",
   "metadata": {},
   "source": [
    "## 作圖比較\n",
    "主要以道路設計進行，因為天氣、車輛無法討論空間同質"
   ]
  },
  {
   "cell_type": "code",
   "execution_count": null,
   "metadata": {},
   "outputs": [],
   "source": [
    "col = '道路型態子類別名稱'\n",
    "\n",
    "# 先合併所有熱點 hex 的事故索引與縣市\n",
    "city_indices = []\n",
    "for city in hot_hex['nearest_county'].unique():\n",
    "    indices = sum(hot_hex[hot_hex['nearest_county'] == city]['accident_indices'], [])\n",
    "    city_indices.append((city, indices))\n",
    "\n",
    "result = []\n",
    "\n",
    "for city, indices in city_indices:\n",
    "    if not indices:\n",
    "        continue\n",
    "    \n",
    "    # project回原始資料\n",
    "    city_data = combined_data.loc[indices]\n",
    "    counts = city_data[col].value_counts(normalize=True)  # 計算比例\n",
    "    for signal_type, ratio in counts.items():\n",
    "        result.append({'城市': city, col: signal_type, '比例': ratio})\n",
    "\n",
    "result_df = pd.DataFrame(result)\n",
    "\n",
    "# 轉成 pivot table 方便比較\n",
    "pivot = result_df.pivot(index='城市', columns=col, values='比例').fillna(0)\n",
    "\n",
    "city_order = [\n",
    "    '臺北市', '新北市',  # 最北\n",
    "    '桃園市', '新竹市', '新竹縣', '宜蘭縣',  # 北部\n",
    "    '苗栗縣', '臺中市', '彰化縣',  # 中部\n",
    "    '嘉義市', '嘉義縣', '臺南市', '高雄市', '屏東縣',  # 南部\n",
    "    '花蓮縣', '臺東縣'  # 東部\n",
    "]\n",
    "\n",
    "pivot_sorted = pivot.loc[city_order]\n",
    "\n",
    "# plt.rcParams['font.family'] = ['Arial Unicode Ms']\n",
    "plt.rcParams['font.family'] = ['Microsoft JhengHei'] \n",
    "\n",
    "# pivot_sorted = pivot.loc[pivot.max(axis=1).sort_values(ascending=False).index]\n",
    "pivot_sorted.plot(kind='bar', stacked=True, figsize=(12, 8), colormap='tab20')\n",
    "\n",
    "plt.ylabel('比例')\n",
    "plt.title(f'各城市熱點區域內不同{col}比例')\n",
    "plt.legend(title=col, bbox_to_anchor=(1.05, 1), loc='upper left')\n",
    "plt.xticks(rotation=0)\n",
    "plt.tight_layout()\n",
    "plt.show()"
   ]
  },
  {
   "cell_type": "markdown",
   "metadata": {},
   "source": [
    "[\n",
    "    '臺北市', '新北市',  # 最北\n",
    "    '桃園市', '新竹市', '新竹縣', '宜蘭縣',  # 北部\n",
    "    '苗栗縣', '臺中市', '彰化縣',  # 中部\n",
    "    '嘉義市', '嘉義縣', '臺南市', '高雄市', '屏東縣',  # 南部\n",
    "    '花蓮縣', '臺東縣'  # 東部\n",
    "]"
   ]
  },
  {
   "cell_type": "code",
   "execution_count": null,
   "metadata": {},
   "outputs": [],
   "source": [
    "from sklearn.metrics.pairwise import cosine_similarity\n",
    "import seaborn as sns\n",
    "\n",
    "similarity_matrix = pd.DataFrame(\n",
    "    cosine_similarity(pivot_sorted.values),\n",
    "    index=pivot_sorted.index, # 列索引為城市名稱\n",
    "    columns=pivot_sorted.index # 欄索引為城市名稱\n",
    ")\n",
    "\n",
    "plt.figure(figsize=(10, 8))\n",
    "sns.heatmap(similarity_matrix, annot=True, cmap='YlGnBu', cbar=False)\n",
    "plt.title(f'城市間{col}比例相似')\n",
    "plt.show()"
   ]
  }
 ],
 "metadata": {
  "kernelspec": {
   "display_name": "ST-RTA",
   "language": "python",
   "name": "python3"
  },
  "language_info": {
   "codemirror_mode": {
    "name": "ipython",
    "version": 3
   },
   "file_extension": ".py",
   "mimetype": "text/x-python",
   "name": "python",
   "nbconvert_exporter": "python",
   "pygments_lexer": "ipython3",
   "version": "3.9.21"
  }
 },
 "nbformat": 4,
 "nbformat_minor": 2
}
