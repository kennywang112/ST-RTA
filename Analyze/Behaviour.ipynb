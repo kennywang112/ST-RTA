{
 "cells": [
  {
   "cell_type": "code",
   "execution_count": null,
   "id": "465d341e",
   "metadata": {},
   "outputs": [],
   "source": [
    "import os\n",
    "\n",
    "current_dir = os.getcwd()\n",
    "parent_dir = os.path.dirname(current_dir)\n",
    "analyze_path = os.path.join(parent_dir, \"utils\")\n",
    "\n",
    "os.chdir(analyze_path)"
   ]
  },
  {
   "cell_type": "code",
   "execution_count": null,
   "id": "2246a5e0",
   "metadata": {},
   "outputs": [],
   "source": [
    "import bnlearn as bn\n",
    "\n",
    "import matplotlib.pyplot as plt\n",
    "plt.rcParams['font.family'] = ['Arial Unicode Ms']\n",
    "# plt.rcParams['font.sans-serif'] = ['Microsoft YaHei']"
   ]
  },
  {
   "cell_type": "code",
   "execution_count": null,
   "id": "931b530a",
   "metadata": {},
   "outputs": [],
   "source": [
    "from utils import read_data\n",
    "combined_data = read_data()"
   ]
  },
  {
   "cell_type": "code",
   "execution_count": null,
   "id": "25e734e2",
   "metadata": {},
   "outputs": [],
   "source": [
    "select_group = [\n",
    "\n",
    "    # 號誌\n",
    "    '號誌-號誌種類名稱', '號誌-號誌動作名稱',\n",
    "\n",
    "    # 車道劃分\n",
    "    '車道劃分設施-分道設施-快車道或一般車道間名稱',\n",
    "    '車道劃分設施-分道設施-快慢車道間名稱', '車道劃分設施-分道設施-路面邊線名稱',\n",
    "\n",
    "    # 大類別\n",
    "    # '車輛撞擊部位大類別名稱-最初',\n",
    "    # '事故類型及型態大類別名稱', '車道劃分設施-分向設施大類別名稱',\n",
    "    # '道路型態大類別名稱',\n",
    "    '車輛撞擊部位子類別名稱-最初',\n",
    "    '事故類型及型態子類別名稱', '車道劃分設施-分向設施子類別名稱',\n",
    "    '道路型態子類別名稱',\n",
    "\n",
    "    # 其他\n",
    "    '速限-第1當事者', '道路類別-第1當事者-名稱',\n",
    "\n",
    "    # 設施\n",
    "    'youbike_100m_count', 'mrt_100m_count', 'parkinglot_100m_count',\n",
    "    \n",
    "    # 駕駛、行人行為\n",
    "    '肇因研判子類別名稱-主要'\n",
    "    ]"
   ]
  },
  {
   "cell_type": "code",
   "execution_count": null,
   "id": "7a2badf5",
   "metadata": {},
   "outputs": [],
   "source": [
    "data = combined_data[select_group].copy()\n",
    "data['facility'] = data[['youbike_100m_count', 'mrt_100m_count', 'parkinglot_100m_count']].apply(\n",
    "    lambda row: '1' if (row > 0).any() else '0', axis=1\n",
    ")\n",
    "data.drop(columns=['youbike_100m_count', 'mrt_100m_count', 'parkinglot_100m_count'], inplace=True)\n",
    "data['速限-第1當事者'] = data['速限-第1當事者'].apply(lambda x: 'High' if x > 50 else 'Low')\n",
    "# 專注分析市區道路\n",
    "data = data[data['道路類別-第1當事者-名稱'] == '市區道路']"
   ]
  },
  {
   "cell_type": "code",
   "execution_count": null,
   "id": "34e6d48a",
   "metadata": {},
   "outputs": [],
   "source": [
    "for i in data.columns:\n",
    "    print(i, len(data[i].unique()))"
   ]
  },
  {
   "cell_type": "code",
   "execution_count": null,
   "id": "51eb0724",
   "metadata": {},
   "outputs": [],
   "source": [
    "# 學哪些變數之間有邊，結果是一個DAG\n",
    "model = bn.structure_learning.fit(data, methodtype='hc', scoretype='bic')\n",
    "# 計算每個節點的 條件機率表 (CPT, Conditional Probability Table)\n",
    "model_param = bn.parameter_learning.fit(model, data)\n",
    "# 計算邊緣強度，如果p小於顯著就是有相關\n",
    "model_independence = bn.independence_test(model, data, test='chi_square', prune=True)"
   ]
  },
  {
   "cell_type": "code",
   "execution_count": null,
   "id": "82ca89e1",
   "metadata": {},
   "outputs": [],
   "source": [
    "model_independence['independence_test']"
   ]
  },
  {
   "cell_type": "code",
   "execution_count": null,
   "id": "6018d5d3",
   "metadata": {},
   "outputs": [],
   "source": [
    "bn.get_parents(model['model_edges'])"
   ]
  },
  {
   "cell_type": "code",
   "execution_count": null,
   "id": "09e23995",
   "metadata": {},
   "outputs": [],
   "source": [
    "# Conditional Probability Distributions (CPDs)\n",
    "CPDs = bn.print_CPD(model_param)\n",
    "CPDs['車道劃分設施-分道設施-路面邊線名稱']"
   ]
  },
  {
   "cell_type": "code",
   "execution_count": null,
   "id": "e308104b",
   "metadata": {},
   "outputs": [],
   "source": [
    "from matplotlib import rcParams\n",
    "rcParams['font.sans-serif'] = ['Microsoft JhengHei']\n",
    "rcParams['axes.unicode_minus'] = False\n",
    "\n",
    "# G = bn.plot(model, interactive=False, node_color=\"#36AA5B\", edge_labels=None)\n",
    "bn.plot(model_independence, interactive=False, edge_labels='pvalue', params_static={'layout': 'spring_layout'})"
   ]
  },
  {
   "cell_type": "code",
   "execution_count": null,
   "id": "9bce9654",
   "metadata": {},
   "outputs": [],
   "source": [
    "import numpy as np\n",
    "import pandas as pd\n",
    "import networkx as nx\n",
    "import plotly.graph_objects as go\n",
    "\n",
    "def draw_bn_plotly(model, alpha=0.05, layout_algo=\"\"):\n",
    "    edges = [(str(u), str(v)) for u, v in model['model_edges']]\n",
    "    df = model['independence_test'][['source','target','p_value']].copy()\n",
    "    df['source'] = df['source'].astype(str); df['target'] = df['target'].astype(str)\n",
    "    p_map = {(s,t):p for s,t,p in df.itertuples(index=False, name=None)}\n",
    "    p_map.update({(t,s):p for (s,t),p in list(p_map.items())})\n",
    "\n",
    "    G = nx.DiGraph()\n",
    "    G.add_edges_from(edges)\n",
    "\n",
    "    pos = (nx.spring_layout(G, seed=42) if layout_algo==\"spring\"\n",
    "           else nx.kamada_kawai_layout(G))\n",
    "\n",
    "    # nodes\n",
    "    deg = dict(G.degree()); mdeg = max(deg.values()) if deg else 1\n",
    "    node_x, node_y, node_text, node_size = [], [], [], []\n",
    "    for n in G.nodes():\n",
    "        x,y = pos[n]\n",
    "        node_x.append(x); node_y.append(y)\n",
    "        node_text.append(f\"{n}<br>degree: {deg.get(n,0)}\")\n",
    "        node_size.append(10 + 25*(deg.get(n,1)/mdeg))\n",
    "\n",
    "    node_trace = go.Scatter(\n",
    "        x=node_x, y=node_y, mode='markers+text',\n",
    "        text=[str(n) for n in G.nodes()], textposition=\"top center\",\n",
    "        hovertext=node_text, hoverinfo=\"text\",\n",
    "        marker=dict(size=node_size, line=dict(width=1), color=\"#636efa\")\n",
    "    )\n",
    "\n",
    "    # edges\n",
    "    edge_traces = []\n",
    "    for u,v in G.edges():\n",
    "        x0,y0 = pos[u]; x1,y1 = pos[v]\n",
    "        p = p_map.get((u,v), np.nan)\n",
    "        if np.isnan(p):\n",
    "            width, dash, color = 1.0, \"dot\", \"#999\"\n",
    "            tip = f\"{u} → {v}<br>p-value: N/A\"\n",
    "        else:\n",
    "            w = -np.log10(max(p, 1e-300))\n",
    "            width = 1 # 1 + 0.8*min(10, w)\n",
    "            sig = (p <= alpha)\n",
    "            dash = \"solid\" if sig else \"dot\"\n",
    "            color = \"#d62728\" if sig else \"#1f77b4\"\n",
    "            tip = f\"{u} → {v}<br>p-value: {p:.3e}\"\n",
    "\n",
    "        edge_traces.append(go.Scatter(\n",
    "            x=[x0, x1], y=[y0, y1],\n",
    "            mode='lines',\n",
    "            hoverinfo='text', text=[tip],\n",
    "            line=dict(width=width, color=color, dash=dash)\n",
    "        ))\n",
    "\n",
    "        # 箭頭（用 annotation 畫，避免太多圖層負擔）\n",
    "    annotations = []\n",
    "    for u,v in G.edges():\n",
    "        x0,y0 = pos[u]; x1,y1 = pos[v]\n",
    "        annotations.append(dict(\n",
    "            ax=x0, ay=y0, x=x1, y=y1,\n",
    "            xref=\"x\", yref=\"y\", axref=\"x\", ayref=\"y\",\n",
    "            showarrow=True, arrowhead=3, arrowsize=1.2, opacity=0.8\n",
    "        ))\n",
    "\n",
    "    fig = go.Figure(data=edge_traces + [node_trace],\n",
    "        layout=go.Layout(\n",
    "            template=None, showlegend=False,\n",
    "            hovermode='closest',\n",
    "            margin=dict(l=10, r=10, t=10, b=10),\n",
    "            xaxis=dict(showgrid=False, zeroline=False, showticklabels=False),\n",
    "            yaxis=dict(showgrid=False, zeroline=False, showticklabels=False),\n",
    "            annotations=annotations\n",
    "        )\n",
    "    )\n",
    "    return fig\n",
    "\n",
    "draw_bn_plotly(model_independence, alpha=0.01, layout_algo='w')"
   ]
  }
 ],
 "metadata": {
  "kernelspec": {
   "display_name": "ST-RTA",
   "language": "python",
   "name": "python3"
  },
  "language_info": {
   "codemirror_mode": {
    "name": "ipython",
    "version": 3
   },
   "file_extension": ".py",
   "mimetype": "text/x-python",
   "name": "python",
   "nbconvert_exporter": "python",
   "pygments_lexer": "ipython3",
   "version": "3.9.21"
  }
 },
 "nbformat": 4,
 "nbformat_minor": 5
}
