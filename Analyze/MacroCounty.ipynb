{
 "cells": [
  {
   "cell_type": "markdown",
   "metadata": {},
   "source": [
    "# Macro"
   ]
  },
  {
   "cell_type": "markdown",
   "metadata": {},
   "source": [
    "### Morans I\n",
    "使用 Incremental Spatial Autocorrelation (ISA)"
   ]
  },
  {
   "cell_type": "code",
   "execution_count": null,
   "metadata": {},
   "outputs": [],
   "source": [
    "import os\n",
    "\n",
    "current_dir = os.getcwd()\n",
    "parent_dir = os.path.dirname(current_dir)\n",
    "analyze_path = os.path.join(parent_dir, \"utils\")\n",
    "\n",
    "os.chdir(analyze_path)"
   ]
  },
  {
   "cell_type": "code",
   "execution_count": null,
   "metadata": {},
   "outputs": [],
   "source": [
    "import numpy as np\n",
    "import pandas as pd\n",
    "from esda import Moran\n",
    "import geopandas as gpd\n",
    "import matplotlib.pyplot as plt\n",
    "from shapely.geometry import Polygon\n",
    "from libpysal.weights import DistanceBand\n",
    "from scipy.spatial import distance_matrix\n",
    "\n",
    "dataA1 = pd.read_csv('../ComputedData/Accident/DataA1_with_MRT_Youbike_Parkinglot.csv')\n",
    "dataA2 = pd.read_csv('../ComputedData/Accident/DataA2_with_MRT_Youbike_Parkinglot.csv')\n",
    "taiwan = gpd.read_file('../Data/OFiles_9e222fea-bafb-4436-9b17-10921abc6ef2/TOWN_MOI_1140318.shp')\n",
    "taiwan = taiwan[(~taiwan['TOWNNAME'].isin(['旗津區', '頭城鎮', '蘭嶼鄉', '綠島鄉', '琉球鄉'])) & \n",
    "                (~taiwan['COUNTYNAME'].isin(['金門縣', '連江縣', '澎湖縣']))]"
   ]
  },
  {
   "cell_type": "code",
   "execution_count": null,
   "metadata": {},
   "outputs": [],
   "source": [
    "filtered_A2 = dataA2[dataA2['當事者順位'] == 1]\n",
    "# filtered_A2 = filtered_A2[filtered_A2['發生月份'] == 1]\n",
    "print(filtered_A2.shape)"
   ]
  },
  {
   "cell_type": "code",
   "execution_count": null,
   "metadata": {},
   "outputs": [],
   "source": [
    "gdf_points = gpd.GeoDataFrame(\n",
    "    filtered_A2,\n",
    "    geometry=gpd.points_from_xy(filtered_A2['經度'], filtered_A2['緯度']),\n",
    "    crs='EPSG:4326'  # WGS84\n",
    ")\n",
    "\n",
    "taiwan = taiwan.to_crs(epsg=3826)\n",
    "gdf_points = gdf_points.to_crs(epsg=3826)\n",
    "\n",
    "for county, county_polygon in taiwan.groupby('COUNTYNAME'):\n",
    "    print(f\"處理: {county}\")\n",
    "\n",
    "    points_with_county = gpd.sjoin(gdf_points, taiwan, how='inner', predicate='within')\n",
    "    accident_counts = points_with_county.groupby('COUNTYNAME').size().reset_index(name='num_accidents')\n",
    "    taiwan_with_accidents = taiwan.merge(accident_counts, on='COUNTYNAME', how='left')\n",
    "    taiwan_with_accidents['num_accidents'] = taiwan_with_accidents['num_accidents'].fillna(0).astype(int)\n"
   ]
  },
  {
   "cell_type": "code",
   "execution_count": null,
   "metadata": {},
   "outputs": [],
   "source": [
    "import matplotlib.pyplot as plt\n",
    "\n",
    "fig, ax = plt.subplots(figsize=(12, 10))\n",
    "\n",
    "# 畫 Choropleth map\n",
    "taiwan_with_accidents.plot(\n",
    "    column='num_accidents',      # 用 num_accidents 當作色階依據\n",
    "    cmap='OrRd',                  # OrRd = 橘紅色系\n",
    "    legend=True,                  # 加上色階圖例\n",
    "    edgecolor='black',             # 邊界線黑色\n",
    "    linewidth=0.5,                 # 邊界線寬\n",
    "    ax=ax\n",
    ")\n",
    "\n",
    "plt.title('Accident', fontsize=18)\n",
    "plt.axis('off')  # 不要座標軸\n",
    "plt.show()\n"
   ]
  },
  {
   "cell_type": "code",
   "execution_count": null,
   "metadata": {},
   "outputs": [],
   "source": [
    "from utils import incremental_spatial_autocorrelation\n",
    "\n",
    "thresholds, moran_I, z_scores, p_values = incremental_spatial_autocorrelation(\n",
    "    taiwan_with_accidents, \n",
    "    value_col='num_accidents',\n",
    "    min_dist=5000,  # 設一個適合縣市之間距離的起始\n",
    "    max_dist=30000,  # 台灣縣市範圍較大，最大設大一點\n",
    "    step=5000  # 每次增加 10 km\n",
    ")"
   ]
  },
  {
   "cell_type": "code",
   "execution_count": null,
   "metadata": {},
   "outputs": [],
   "source": [
    "plt.plot(thresholds, z_scores)\n",
    "plt.xlabel('Threshold Distance (m)')\n",
    "plt.ylabel('Z-Score')\n",
    "plt.title('Incremental Spatial Autocorrelation (ISA)')\n",
    "plt.legend()\n",
    "plt.show()\n"
   ]
  },
  {
   "cell_type": "markdown",
   "metadata": {},
   "source": [
    "### GI"
   ]
  },
  {
   "cell_type": "code",
   "execution_count": null,
   "metadata": {},
   "outputs": [],
   "source": [
    "from utils import calculate_gi\n",
    "\n",
    "for i in range(5000, 50000, 5000):\n",
    "    print(i)\n",
    "    taiwan_with_accidents = calculate_gi(i, taiwan_with_accidents)\n",
    "    c = taiwan_with_accidents[taiwan_with_accidents['hotspot'] != 'Not Significant']\n",
    "    if c.shape[0] > 0:\n",
    "        print('sig')\n",
    "        print(c.shape[0])"
   ]
  },
  {
   "cell_type": "code",
   "execution_count": null,
   "metadata": {},
   "outputs": [],
   "source": [
    "taiwan_with_accidents = calculate_gi(15000, taiwan_with_accidents)"
   ]
  },
  {
   "cell_type": "code",
   "execution_count": null,
   "metadata": {},
   "outputs": [],
   "source": [
    "import matplotlib.pyplot as plt\n",
    "import matplotlib.colors as mcolors\n",
    "\n",
    "# 顏色對應表\n",
    "cmap = mcolors.ListedColormap([\n",
    "    '#800026',  # dark red - Hotspot 99%\n",
    "    '#FC4E2A',  # red - Hotspot 95%\n",
    "    '#FD8D3C',  # light red - Hotspot 90%\n",
    "    '#d9d9d9',  # grey - Not Significant\n",
    "    '#6baed6',  # light blue - Coldspot 90%\n",
    "    '#3182bd',  # blue - Coldspot 95%\n",
    "    '#08519c'   # dark blue - Coldspot 99%\n",
    "])\n",
    "\n",
    "categories = [\n",
    "    'Hotspot 99%', \n",
    "    'Hotspot 95%', \n",
    "    'Hotspot 90%', \n",
    "    'Not Significant', \n",
    "    'Coldspot 90%', \n",
    "    'Coldspot 95%', \n",
    "    'Coldspot 99%'\n",
    "]\n",
    "\n",
    "fig, ax = plt.subplots(figsize=(12, 12))\n",
    "taiwan.plot(ax=ax, color='white', edgecolor='black', linewidth=0.5)  # 畫台灣底圖\n",
    "\n",
    "taiwan_with_accidents.plot(\n",
    "    column='hotspot', \n",
    "    categorical=True, \n",
    "    cmap=cmap, \n",
    "    legend=True, \n",
    "    edgecolor='grey', \n",
    "    linewidth=0.8, \n",
    "    alpha=0.8,\n",
    "    ax=ax,\n",
    "    categories=categories,\n",
    "    legend_kwds={\n",
    "        'bbox_to_anchor': (1.05, 1),\n",
    "        'loc': 'upper left',\n",
    "        'frameon': False\n",
    "    }\n",
    ")\n",
    "\n",
    "plt.title('Taiwan Accident Hotspot Analysis (Getis-Ord Gi*) - 90%, 95%, 99%', fontsize=16)\n",
    "plt.axis('off')\n",
    "plt.tight_layout()\n",
    "plt.show()"
   ]
  }
 ],
 "metadata": {
  "kernelspec": {
   "display_name": "ST-RTA",
   "language": "python",
   "name": "python3"
  },
  "language_info": {
   "codemirror_mode": {
    "name": "ipython",
    "version": 3
   },
   "file_extension": ".py",
   "mimetype": "text/x-python",
   "name": "python",
   "nbconvert_exporter": "python",
   "pygments_lexer": "ipython3",
   "version": "3.9.21"
  }
 },
 "nbformat": 4,
 "nbformat_minor": 2
}
