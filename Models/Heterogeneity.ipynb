{
 "cells": [
  {
   "cell_type": "markdown",
   "id": "36d6d823",
   "metadata": {},
   "source": [
    "Model.ipynb 分支出來分析縣市異質"
   ]
  },
  {
   "cell_type": "code",
   "execution_count": null,
   "id": "7e32e7ba",
   "metadata": {},
   "outputs": [],
   "source": [
    "import os\n",
    "\n",
    "current_dir = os.getcwd()\n",
    "parent_dir = os.path.dirname(current_dir)\n",
    "analyze_path = os.path.join(parent_dir, \"utils\")\n",
    "\n",
    "os.chdir(analyze_path)"
   ]
  },
  {
   "cell_type": "code",
   "execution_count": null,
   "id": "805d1b14",
   "metadata": {},
   "outputs": [],
   "source": [
    "import numpy as np\n",
    "import pandas as pd\n",
    "import geopandas as gpd\n",
    "\n",
    "from config import select_group\n",
    "import matplotlib.pyplot as plt\n",
    "plt.rcParams['font.family'] = ['Arial Unicode Ms']"
   ]
  },
  {
   "cell_type": "code",
   "execution_count": null,
   "id": "435a75c5",
   "metadata": {},
   "outputs": [],
   "source": [
    "dataA1 = pd.read_csv('../ComputedData/Accident/DataA1_with_MYP.csv')\n",
    "dataA2 = pd.read_csv('../ComputedData/Accident/DataA2_with_MYP.csv')\n",
    "\n",
    "filtered_A2 = dataA2[dataA2['當事者順位'] == 1]\n",
    "filtered_A1 = dataA1[dataA1['當事者順位'] == 1]\n",
    "\n",
    "filtered_A1['source'] = 'A1'\n",
    "filtered_A2['source'] = 'A2'\n",
    "filtered_A1['num_accidents'] = 1 \n",
    "filtered_A2['num_accidents'] = 1\n",
    "combined_data = pd.concat([filtered_A1, filtered_A2], ignore_index=True)"
   ]
  },
  {
   "cell_type": "code",
   "execution_count": null,
   "id": "3217399e",
   "metadata": {},
   "outputs": [],
   "source": [
    "from shapely import wkt\n",
    "import geopandas as gpd\n",
    "import ast\n",
    "\n",
    "taiwan = gpd.read_file('../Data/OFiles_9e222fea-bafb-4436-9b17-10921abc6ef2/TOWN_MOI_1140318.shp')\n",
    "taiwan = taiwan[(~taiwan['TOWNNAME'].isin(['旗津區', '頭城鎮', '蘭嶼鄉', '綠島鄉', '琉球鄉'])) & \n",
    "                (~taiwan['COUNTYNAME'].isin(['金門縣', '連江縣', '澎湖縣']))]\n",
    "\n",
    "TM2 = 3826\n",
    "hex_grid_raw = pd.read_csv('../ComputedData/Grid/hex_grid.csv')\n",
    "hex_grid_raw['geometry'] = hex_grid_raw['geometry'].apply(wkt.loads)\n",
    "hex_grid = gpd.GeoDataFrame(hex_grid_raw, geometry='geometry').set_crs(TM2, allow_override=True)\n",
    "\n",
    "grid_gi_df = pd.read_csv('../ComputedData/Grid/grid_gi.csv')\n",
    "grid_gi_df['accident_indices'] = grid_gi_df['accident_indices'].apply(ast.literal_eval)\n",
    "grid_gi_df['geometry'] = grid_gi_df['geometry'].apply(wkt.loads)\n",
    "grid_gi  = gpd.GeoDataFrame(grid_gi_df, geometry='geometry').set_crs(TM2, allow_override=True)\n",
    "\n",
    "taiwan_tm2 = taiwan.to_crs(TM2)\n",
    "\n",
    "taiwan_cnty = taiwan_tm2[['COUNTYNAME','geometry']].dissolve(by='COUNTYNAME')\n",
    "taiwan_cnty['geometry'] = taiwan_cnty.buffer(0)\n",
    "taiwan_cnty = taiwan_cnty.reset_index()\n",
    "\n",
    "pts = hex_grid.copy()\n",
    "pts['geometry'] = pts.geometry.centroid\n",
    "\n",
    "county_join = gpd.sjoin(\n",
    "    pts[['geometry']], taiwan_cnty, how='left', predicate='within'\n",
    ")[['COUNTYNAME']]\n",
    "\n",
    "print('NaN ratio:', county_join['COUNTYNAME'].isna().mean())\n",
    "grid_gi['COUNTYNAME'] = county_join['COUNTYNAME']\n",
    "county_join.head()"
   ]
  },
  {
   "cell_type": "code",
   "execution_count": null,
   "id": "3ac7451a",
   "metadata": {},
   "outputs": [],
   "source": [
    "def process_speed(input_data):\n",
    "\n",
    "    bins_speed = [0, 10, 20, 30, 40, 50, 60, 70, 80, 90, 100, 110, float('inf')]\n",
    "    labels_speed = ['0-10', '11-20', '21-30', '31-40', '41-50', '51-60', '61-70', '71-80', '81-90', '91-100', '101-110', '110+']\n",
    "\n",
    "    input_data['速限-第1當事者'] = pd.cut(input_data['速限-第1當事者'], bins=bins_speed, labels=labels_speed, right=False).astype(str)\n",
    "\n",
    "    return input_data"
   ]
  },
  {
   "cell_type": "code",
   "execution_count": 103,
   "id": "9f4d90fa",
   "metadata": {},
   "outputs": [],
   "source": [
    "# 無事故的資料沒有參考性，所以要去掉\n",
    "grid_filter = grid_gi[grid_gi['accident_indices'].str.len() > 0].reset_index(drop=True)\n",
    "all_features_df = pd.read_csv(\"../ComputedData/ForModel/all_features.csv\")\n",
    "\n",
    "grid_filter['hotspot'] = grid_filter['hotspot'].apply(lambda x: 'Hotspot' if 'Hotspot' in str(x) else 'Not Hotspot')\n",
    "grid_filter = grid_filter[~grid_filter['COUNTYNAME'].isna()]"
   ]
  },
  {
   "cell_type": "code",
   "execution_count": 104,
   "id": "a9766f37",
   "metadata": {},
   "outputs": [
    {
     "name": "stdout",
     "output_type": "stream",
     "text": [
      "總索引數量: 315909\n",
      "去重後數量: 315909\n"
     ]
    }
   ],
   "source": [
    "countylst = list(grid_filter['COUNTYNAME'].unique())\n",
    "\n",
    "county_df = {}\n",
    "for county in countylst:\n",
    "\n",
    "    filter_hotspot = grid_filter[grid_filter['hotspot'] == 'Hotspot']\n",
    "    filter_not_hotspot = grid_filter[grid_filter['hotspot'] == 'Not Hotspot']\n",
    "\n",
    "    idx_hot = filter_hotspot.loc[filter_hotspot['COUNTYNAME'] == county, 'accident_indices']\n",
    "    idx_nothot = filter_not_hotspot.loc[filter_not_hotspot['COUNTYNAME'] == county, 'accident_indices']\n",
    "\n",
    "    # 攤平\n",
    "    hot_flat = [i for sublist in idx_hot for i in sublist]\n",
    "    nothot_flat = [i for sublist in idx_nothot for i in sublist]\n",
    "\n",
    "    county_df[county] = pd.concat([\n",
    "        combined_data.loc[hot_flat].assign(hotspot=\"Hotspot\"),\n",
    "        combined_data.loc[nothot_flat].assign(hotspot=\"Not Hotspot\")\n",
    "    ])\n",
    "    county_df[county].loc[hot_flat]['hotspot'] = 'Hotspot'\n",
    "    county_df[county].loc[nothot_flat]['hotspot'] = 'Not Hotspot'\n",
    "\n",
    "\n",
    "# 檢查重複\n",
    "all_indices = [i for sublist in grid_filter['accident_indices'] for i in sublist]\n",
    "print(\"總索引數量:\", len(all_indices))\n",
    "print(\"去重後數量:\", len(set(all_indices)))"
   ]
  },
  {
   "cell_type": "markdown",
   "id": "6098b860",
   "metadata": {},
   "source": [
    "Odd ratio 需要嘗試"
   ]
  }
 ],
 "metadata": {
  "kernelspec": {
   "display_name": "ST-RTA",
   "language": "python",
   "name": "python3"
  },
  "language_info": {
   "codemirror_mode": {
    "name": "ipython",
    "version": 3
   },
   "file_extension": ".py",
   "mimetype": "text/x-python",
   "name": "python",
   "nbconvert_exporter": "python",
   "pygments_lexer": "ipython3",
   "version": "3.9.21"
  }
 },
 "nbformat": 4,
 "nbformat_minor": 5
}
