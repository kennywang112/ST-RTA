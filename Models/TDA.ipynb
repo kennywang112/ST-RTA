{
 "cells": [
  {
   "cell_type": "code",
   "execution_count": null,
   "id": "20592ef2",
   "metadata": {},
   "outputs": [],
   "source": [
    "import os\n",
    "\n",
    "current_dir = os.getcwd()\n",
    "parent_dir = os.path.dirname(current_dir)\n",
    "analyze_path = os.path.join(parent_dir, \"utils\")\n",
    "\n",
    "os.chdir(analyze_path)"
   ]
  },
  {
   "cell_type": "code",
   "execution_count": null,
   "id": "924f3e57",
   "metadata": {},
   "outputs": [],
   "source": [
    "import ast\n",
    "import pandas as pd\n",
    "\n",
    "from sklearn.cluster import KMeans\n",
    "from sklearn.decomposition import PCA\n",
    "from tdam.cover import CubicalCover\n",
    "from tdam.clustering import FailSafeClustering\n",
    "from tdam.core_old import MapperAlgorithm\n",
    "\n",
    "from TrafficTDApythonUtils.utils_v3 import *\n",
    "from TrafficTDApythonUtils.plots import *"
   ]
  },
  {
   "cell_type": "code",
   "execution_count": null,
   "id": "e3e5d6ce",
   "metadata": {},
   "outputs": [],
   "source": [
    "dataA1 = pd.read_csv('../ComputedData/Accident/DataA1_with_MYP.csv')\n",
    "dataA2 = pd.read_csv('../ComputedData/Accident/DataA2_with_MYP.csv')\n",
    "\n",
    "filtered_A2 = dataA2[dataA2['當事者順位'] == 1]\n",
    "filtered_A1 = dataA1[dataA1['當事者順位'] == 1]\n",
    "\n",
    "filtered_A1['source'] = 'A1'\n",
    "filtered_A2['source'] = 'A2'\n",
    "filtered_A1['num_accidents'] = 1 \n",
    "filtered_A2['num_accidents'] = 1\n",
    "combined_data = pd.concat([filtered_A1, filtered_A2], ignore_index=True)\n",
    "\n",
    "grid = pd.read_csv(\"../ComputedData/Grid/grid.csv\")\n",
    "grid['accident_indices'] = grid['accident_indices'].apply(ast.literal_eval)\n",
    "grid['accident_indices'].iloc[0]"
   ]
  },
  {
   "cell_type": "code",
   "execution_count": null,
   "id": "e4cf89d8",
   "metadata": {},
   "outputs": [],
   "source": [
    "select_group = [\n",
    "    # 氣候暫不討論\n",
    "    # '天候名稱', '光線名稱',\n",
    "\n",
    "    # 道路問題\n",
    "    '路面狀況-路面鋪裝名稱', '路面狀況-路面狀態名稱', '路面狀況-路面缺陷名稱',\n",
    "    '道路障礙-障礙物名稱', '道路障礙-視距品質名稱', '道路障礙-視距名稱',\n",
    "\n",
    "    # 號誌\n",
    "    '號誌-號誌種類名稱', '號誌-號誌動作名稱',\n",
    "\n",
    "    # 車道劃分\n",
    "    '車道劃分設施-分道設施-快車道或一般車道間名稱',\n",
    "    '車道劃分設施-分道設施-快慢車道間名稱', '車道劃分設施-分道設施-路面邊線名稱',\n",
    "\n",
    "    # 大類別\n",
    "    # '肇因研判大類別名稱-主要', '肇因研判大類別名稱-個別', # 聚焦道路類型\n",
    "    # '當事者區分-類別-大類別名稱-車種', # 聚焦道路類型\n",
    "    # '當事者行動狀態大類別名稱', # 聚焦道路類型\n",
    "    # '車輛撞擊部位大類別名稱-最初', '車輛撞擊部位大類別名稱-其他', # 道路類型很大程度影響撞擊部位，所以不考慮\n",
    "    '事故類型及型態大類別名稱', '車道劃分設施-分向設施大類別名稱',\n",
    "    '事故位置大類別名稱', '道路型態大類別名稱',\n",
    "    \n",
    "    # 子類別\n",
    "    # '肇因研判子類別名稱-主要', '肇因研判子類別名稱-個別', # 聚焦道路類型\n",
    "    # '當事者區分-類別-子類別名稱-車種', # 聚焦道路類型\n",
    "    # '當事者行動狀態子類別名稱', # 聚焦道路類型\n",
    "    # '車輛撞擊部位子類別名稱-最初', '車輛撞擊部位子類別名稱-其他', # 道路類型很大程度影響撞擊部位，所以不考慮\n",
    "    # '事故類型及型態子類別名稱', '車道劃分設施-分向設施子類別名稱', \n",
    "    # '事故位置子類別名稱', '道路型態子類別名稱',\n",
    "\n",
    "    # 其他\n",
    "    # '當事者屬-性-別名稱', '當事者事故發生時年齡', '速限-第1當事者', '道路類別-第1當事者-名稱',\n",
    "    # '保護裝備名稱', '行動電話或電腦或其他相類功能裝置名稱', '肇事逃逸類別名稱-是否肇逃',\n",
    "\n",
    "    # 設施\n",
    "    'youbike_100m_count', 'mrt_100m_count', 'parkinglot_100m_count',\n",
    "\n",
    "    # A1 or A2\n",
    "    # 'source',\n",
    "    ]"
   ]
  },
  {
   "cell_type": "code",
   "execution_count": null,
   "id": "849e6756",
   "metadata": {},
   "outputs": [],
   "source": [
    "def extract_features(\n",
    "        grid, combined_data, select_group, rows\n",
    "        ):\n",
    "\n",
    "    indices = grid['accident_indices'].iloc[rows] # return list of original data index\n",
    "    sample = combined_data.iloc[indices]\n",
    "    sample = sample[select_group]\n",
    "\n",
    "    cat_cols = sample.select_dtypes(include='object').columns\n",
    "    num_cols = sample.select_dtypes(include='number').columns\n",
    "\n",
    "    cat_features = []\n",
    "    num_features = []\n",
    "    # for categorical features\n",
    "    if len(cat_cols) > 0:\n",
    "        for col in cat_cols:\n",
    "            vc = sample[col].value_counts(normalize=True)\n",
    "            vc.index = [f\"{col}_{v}\" for v in vc.index]\n",
    "            cat_features.append(vc)\n",
    "        cat_features = pd.concat(cat_features)\n",
    "    else:\n",
    "        cat_features = pd.Series(dtype='float64')\n",
    "    # for numerical features\n",
    "    if len(num_cols) > 0:\n",
    "        num_features = sample[num_cols].mean()\n",
    "        num_features.index = [f\"{col}_mean\" for col in num_features.index]\n",
    "    else:\n",
    "        num_features = pd.Series(dtype='float64')\n",
    "\n",
    "    all_features = pd.concat([cat_features, num_features])\n",
    "    all_features_df = all_features.to_frame().T\n",
    "\n",
    "    return all_features_df"
   ]
  },
  {
   "cell_type": "code",
   "execution_count": null,
   "id": "8ea8fc92",
   "metadata": {},
   "outputs": [],
   "source": [
    "all_features_list = []\n",
    "\n",
    "grid_filter = grid[grid['accident_indices'].str.len() > 0]\n",
    "for rows in range(grid_filter.shape[0]):\n",
    "    features = extract_features(grid_filter, combined_data, select_group, rows)\n",
    "    all_features_list.append(features)\n",
    "\n",
    "all_features_df = pd.concat(all_features_list, ignore_index=True)\n",
    "all_features_df.fillna(0, inplace=True)\n",
    "all_features_df"
   ]
  },
  {
   "cell_type": "code",
   "execution_count": null,
   "id": "48405bf3",
   "metadata": {},
   "outputs": [],
   "source": [
    "all_features_df[['mrt_100m_count_mean', 'youbike_100m_count_mean', 'parkinglot_100m_count_mean']] =\\\n",
    "      all_features_df[['mrt_100m_count_mean', 'youbike_100m_count_mean', 'parkinglot_100m_count_mean']].\\\n",
    "        apply(lambda x: (x - x.min()) / (x.max() - x.min()))"
   ]
  },
  {
   "cell_type": "markdown",
   "id": "a50e0008",
   "metadata": {},
   "source": [
    "## Start Mapper"
   ]
  },
  {
   "cell_type": "code",
   "execution_count": null,
   "id": "f11d8f87",
   "metadata": {},
   "outputs": [],
   "source": [
    "lens = PCA(10).fit_transform(all_features_df.to_numpy())"
   ]
  },
  {
   "cell_type": "code",
   "execution_count": null,
   "id": "02c20c48",
   "metadata": {},
   "outputs": [],
   "source": [
    "pca = PCA(6).fit(all_features_df.to_numpy())\n",
    "ratios = pca.explained_variance_ratio_\n",
    "print(ratios)\n",
    "print(ratios.sum()) "
   ]
  },
  {
   "cell_type": "code",
   "execution_count": null,
   "id": "c2e267c9",
   "metadata": {},
   "outputs": [],
   "source": [
    "overlap = 5\n",
    "interval = 10\n",
    "detailed_results = []\n",
    "silhouette_for_intervals = []\n",
    "\n",
    "mapper_algo = MapperAlgorithm(\n",
    "    cover=CubicalCover(\n",
    "        n_intervals=interval,\n",
    "        overlap_frac=overlap / 10\n",
    "    ),\n",
    "    clustering=FailSafeClustering(\n",
    "        KMeans(\n",
    "            n_clusters=2,\n",
    "            random_state=42\n",
    "        )\n",
    "    ),\n",
    "    n_jobs=-1\n",
    ")\n",
    "\n",
    "mapper_info = mapper_algo.fit_transform(all_features_df.to_numpy(), lens)\n",
    "\n",
    "silhouette_for_intervals.append(mapper_info[1])\n",
    "result = {\n",
    "    \"overlap\": overlap,\n",
    "    \"interval\": interval,\n",
    "    \"silhouette\": mapper_info[1],\n",
    "    \"mapper_info\": mapper_info\n",
    "}\n",
    "detailed_results.append(result)\n",
    "detailed_results_df = pd.DataFrame(detailed_results)"
   ]
  },
  {
   "cell_type": "code",
   "execution_count": null,
   "id": "5eced9ee",
   "metadata": {},
   "outputs": [],
   "source": [
    "choose = 'youbike_100m_count_mean'\n",
    "\n",
    "mapper_plotter = MapperPlotter(detailed_results_df['mapper_info'][0], \n",
    "                               all_features_df, seed=87, iterations=30, dim=2,\n",
    "                                range_lst=[-0.5, 0.5, 0.5, -0.5])\n",
    "\n",
    "def avg_label(data):\n",
    "    return sum(data) / len(data) if len(data) > 0 else 0\n",
    "\n",
    "mapper_plot = mapper_plotter.create_mapper_plot(choose, avg_label, avg=True)\n",
    "full_info = mapper_plotter.extract_data()\n",
    "mapper_plotter.map_colors(choose, size=0, threshold=0)\n",
    "mapper_plotter.plot(choose, avg=True, set_label=True, size=1000, anchor=1.33)"
   ]
  }
 ],
 "metadata": {
  "kernelspec": {
   "display_name": "ST-RTA",
   "language": "python",
   "name": "python3"
  },
  "language_info": {
   "codemirror_mode": {
    "name": "ipython",
    "version": 3
   },
   "file_extension": ".py",
   "mimetype": "text/x-python",
   "name": "python",
   "nbconvert_exporter": "python",
   "pygments_lexer": "ipython3",
   "version": "3.9.21"
  }
 },
 "nbformat": 4,
 "nbformat_minor": 5
}
