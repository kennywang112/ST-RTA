{
 "cells": [
  {
   "cell_type": "code",
   "execution_count": null,
   "id": "20592ef2",
   "metadata": {},
   "outputs": [],
   "source": [
    "import os\n",
    "\n",
    "current_dir = os.getcwd()\n",
    "parent_dir = os.path.dirname(current_dir)\n",
    "analyze_path = os.path.join(parent_dir, \"utils\")\n",
    "\n",
    "os.chdir(analyze_path)"
   ]
  },
  {
   "cell_type": "code",
   "execution_count": null,
   "id": "924f3e57",
   "metadata": {},
   "outputs": [],
   "source": [
    "import ast\n",
    "import pandas as pd\n",
    "\n",
    "from sklearn.cluster import KMeans\n",
    "from sklearn.decomposition import PCA\n",
    "from tdam.cover import CubicalCover\n",
    "from tdam.clustering import FailSafeClustering\n",
    "from tdam.core_old import MapperAlgorithm\n",
    "\n",
    "from TrafficTDApythonUtils.utils_v3 import *\n",
    "from TrafficTDApythonUtils.plots import *"
   ]
  },
  {
   "cell_type": "code",
   "execution_count": null,
   "id": "7f4fa306",
   "metadata": {},
   "outputs": [],
   "source": [
    "from utils import read_data\n",
    "combined_data = read_data()"
   ]
  },
  {
   "cell_type": "code",
   "execution_count": null,
   "id": "8ea8fc92",
   "metadata": {},
   "outputs": [],
   "source": [
    "all_features_df = pd.read_csv(\"../ComputedData/ForModel/all_features.csv\")"
   ]
  },
  {
   "cell_type": "markdown",
   "id": "a50e0008",
   "metadata": {},
   "source": [
    "## Start Mapper"
   ]
  },
  {
   "cell_type": "code",
   "execution_count": null,
   "id": "02c20c48",
   "metadata": {},
   "outputs": [],
   "source": [
    "lens = PCA(10).fit_transform(all_features_df.to_numpy())\n",
    "\n",
    "pca = PCA(10).fit(all_features_df.to_numpy())\n",
    "ratios = pca.explained_variance_ratio_\n",
    "print(ratios)\n",
    "print(ratios.sum()) "
   ]
  },
  {
   "cell_type": "code",
   "execution_count": null,
   "id": "71c12b3b",
   "metadata": {},
   "outputs": [],
   "source": [
    "import pickle"
   ]
  },
  {
   "cell_type": "code",
   "execution_count": null,
   "id": "49e6290e",
   "metadata": {},
   "outputs": [],
   "source": [
    "overlaps = [1,5]\n",
    "intervals = [6]\n",
    "detailed_results = []\n",
    "silhouette_for_intervals = []\n",
    "\n",
    "for overlap in overlaps:\n",
    "    for interval in intervals:\n",
    "        print(f\"Processing overlap {overlap}, interval {interval}\")\n",
    "        mapper_algo = MapperAlgorithm(\n",
    "            cover=CubicalCover(\n",
    "                n_intervals=interval,\n",
    "                overlap_frac=overlap / 10\n",
    "            ),\n",
    "            clustering=FailSafeClustering(\n",
    "                KMeans(\n",
    "                    n_clusters=2,\n",
    "                    random_state=42\n",
    "                )\n",
    "            ),\n",
    "            n_jobs=10\n",
    "        )\n",
    "\n",
    "        mapper_info = mapper_algo.fit_transform(all_features_df.to_numpy(), lens)\n",
    "\n",
    "        silhouette_for_intervals.append(mapper_info[1])\n",
    "        result = {\n",
    "            \"overlap\": overlap,\n",
    "            \"interval\": interval,\n",
    "            \"silhouette\": mapper_info[1],\n",
    "            \"mapper_info\": mapper_info\n",
    "        }\n",
    "        detailed_results.append(result)\n",
    "\n",
    "        with open(f\"../ComputedData/ForMatrix/o{overlap}i{interval}.pkl\", 'wb') as file:\n",
    "            pickle.dump(result, file)\n",
    "\n",
    "detailed_results_df = pd.DataFrame(detailed_results)"
   ]
  },
  {
   "cell_type": "code",
   "execution_count": null,
   "id": "b3629167",
   "metadata": {},
   "outputs": [],
   "source": [
    "detailed_results_df = pickle.load(open(\"../ComputedData/ForMatrix/o5i2.pkl\", \"rb\"))"
   ]
  },
  {
   "cell_type": "code",
   "execution_count": null,
   "id": "5eced9ee",
   "metadata": {},
   "outputs": [],
   "source": [
    "choose = 'youbike_100m_count_mean'\n",
    "\n",
    "mapper_plotter = MapperPlotter(detailed_results_df['mapper_info'], \n",
    "                               all_features_df, seed=87, iterations=30, dim=2,\n",
    "                                range_lst=[-0.5, 0.5, 0.5, -0.5])\n",
    "\n",
    "def avg_label(data):\n",
    "    return sum(data) / len(data) if len(data) > 0 else 0\n",
    "\n",
    "mapper_plot = mapper_plotter.create_mapper_plot(choose, avg_label, avg=True)\n",
    "full_info = mapper_plotter.extract_data()\n",
    "mapper_plotter.map_colors(choose, size=0, threshold=0)\n",
    "mapper_plotter.plot(choose, avg=True, set_label=True, size=1000, anchor=1.33)"
   ]
  }
 ],
 "metadata": {
  "kernelspec": {
   "display_name": "ST-RTA",
   "language": "python",
   "name": "python3"
  },
  "language_info": {
   "codemirror_mode": {
    "name": "ipython",
    "version": 3
   },
   "file_extension": ".py",
   "mimetype": "text/x-python",
   "name": "python",
   "nbconvert_exporter": "python",
   "pygments_lexer": "ipython3",
   "version": "3.9.21"
  }
 },
 "nbformat": 4,
 "nbformat_minor": 5
}
