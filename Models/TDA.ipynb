{
 "cells": [
  {
   "cell_type": "code",
   "execution_count": 1,
   "id": "20592ef2",
   "metadata": {},
   "outputs": [],
   "source": [
    "import os\n",
    "\n",
    "current_dir = os.getcwd()\n",
    "parent_dir = os.path.dirname(current_dir)\n",
    "analyze_path = os.path.join(parent_dir, \"utils\")\n",
    "\n",
    "os.chdir(analyze_path)"
   ]
  },
  {
   "cell_type": "code",
   "execution_count": 2,
   "id": "924f3e57",
   "metadata": {},
   "outputs": [],
   "source": [
    "import pandas as pd\n",
    "\n",
    "from sklearn.cluster import KMeans\n",
    "from sklearn.decomposition import PCA\n",
    "from tdam.cover import CubicalCover\n",
    "from tdam.clustering import FailSafeClustering\n",
    "from tdam.core_old import MapperAlgorithm\n",
    "\n",
    "from TrafficTDApythonUtils.utils_v3 import *\n",
    "from TrafficTDApythonUtils.plots import *"
   ]
  },
  {
   "cell_type": "code",
   "execution_count": null,
   "id": "01b53bc9",
   "metadata": {},
   "outputs": [],
   "source": [
    "from utils import read_data, read_taiwan_specific\n",
    "\n",
    "combined_data = read_data()\n",
    "taiwan, grid_filter = read_taiwan_specific(read_grid=True)"
   ]
  },
  {
   "cell_type": "code",
   "execution_count": null,
   "id": "8ea8fc92",
   "metadata": {},
   "outputs": [],
   "source": [
    "# all_features_df = pd.read_csv(\"../ComputedData/ForModel/all_features.csv\")\n",
    "all_features_df = pd.read_csv(\"../ComputedData/ForModel/all_features_filtered.csv\")"
   ]
  },
  {
   "cell_type": "markdown",
   "id": "a50e0008",
   "metadata": {},
   "source": [
    "## Start Mapper"
   ]
  },
  {
   "cell_type": "code",
   "execution_count": null,
   "id": "02c20c48",
   "metadata": {},
   "outputs": [],
   "source": [
    "pc = 9\n",
    "\n",
    "lens = PCA(pc).fit_transform(all_features_df)\n",
    "\n",
    "pca = PCA(pc).fit(all_features_df)\n",
    "ratios = pca.explained_variance_ratio_\n",
    "print(ratios)\n",
    "print(ratios.sum()) "
   ]
  },
  {
   "cell_type": "code",
   "execution_count": null,
   "id": "71c12b3b",
   "metadata": {},
   "outputs": [],
   "source": [
    "import pickle"
   ]
  },
  {
   "cell_type": "code",
   "execution_count": null,
   "id": "49e6290e",
   "metadata": {},
   "outputs": [],
   "source": [
    "overlaps = [2, 5]\n",
    "intervals = [7, 8, 9, 10]\n",
    "detailed_results = []\n",
    "silhouette_for_intervals = []\n",
    "\n",
    "for overlap in overlaps:\n",
    "    for interval in intervals:\n",
    "        print(f\"Processing overlap {overlap}, interval {interval}\")\n",
    "        mapper_algo = MapperAlgorithm(\n",
    "            cover=CubicalCover(\n",
    "                n_intervals=interval,\n",
    "                overlap_frac=overlap / 10\n",
    "            ),\n",
    "            clustering=FailSafeClustering(\n",
    "                KMeans(\n",
    "                    n_clusters=2,\n",
    "                    random_state=42\n",
    "                )\n",
    "            ),\n",
    "            n_jobs=14\n",
    "        )\n",
    "\n",
    "        mapper_info = mapper_algo.fit_transform(all_features_df.to_numpy(), lens)\n",
    "\n",
    "        silhouette_for_intervals.append(mapper_info[1])\n",
    "        result = {\n",
    "            \"overlap\": overlap,\n",
    "            \"interval\": interval,\n",
    "            \"silhouette\": mapper_info[1],\n",
    "            \"mapper_info\": mapper_info\n",
    "        }\n",
    "        detailed_results.append(result)\n",
    "\n",
    "        with open(f\"../ComputedData/ForMatrixFilter/o{overlap}i{interval}.pkl\", 'wb') as file:\n",
    "            pickle.dump(result, file)\n",
    "\n",
    "detailed_results_df = pd.DataFrame(detailed_results)"
   ]
  },
  {
   "cell_type": "code",
   "execution_count": null,
   "id": "5eced9ee",
   "metadata": {},
   "outputs": [],
   "source": [
    "all_features_df['hotspot'] = grid_filter['hotspot']\n",
    "all_features_df['hotspot'] = all_features_df['hotspot'].apply(lambda x: 'Hotspot' if 'Hotspot' in str(x) else 'Not Hotspot')\n",
    "all_features_df['youbike'] = all_features_df['youbike_100m_count_mean'].apply(lambda x: 'Facility' if x>0 else 'No Facility')\n",
    "all_features_df['hotspot_youbike'] = all_features_df['hotspot'] + '_' + all_features_df['youbike']\n",
    "\n",
    "for overlap in overlaps:\n",
    "    for interval in intervals:\n",
    "        \n",
    "        detailed_results_df = pickle.load(open(f\"../ComputedData/ForMatrixFilter/o{overlap}i{interval}.pkl\", \"rb\"))\n",
    "        choose = 'hotspot_youbike'\n",
    "        mapper_plotter = MapperPlotter(detailed_results_df['mapper_info'], \n",
    "                                    all_features_df, seed=87, iterations=30, dim=3,\n",
    "                                        range_lst=[-0.5, 0.5, 0.5, -0.5])\n",
    "\n",
    "        # def avg_label(data):\n",
    "        #     return sum(data) / len(data) if len(data) > 0 else 0\n",
    "        def most_common_encoded_label(data):\n",
    "            most_common_item = Counter(data).most_common(1)[0][0]\n",
    "            return most_common_item\n",
    "\n",
    "        mapper_plot = mapper_plotter.create_mapper_plot(choose, most_common_encoded_label, avg=False)\n",
    "        full_info = mapper_plotter.extract_data()\n",
    "        mapper_plotter.map_colors(choose, size=10, threshold=0)\n",
    "        mapper_plotter.plot(choose, avg=False, set_label=True, size=1000, anchor=1.33,\n",
    "                            save_path=f\"../ComputedData/ForMatrixFilter/Plots/o{overlap}i{interval}.png\")"
   ]
  }
 ],
 "metadata": {
  "kernelspec": {
   "display_name": "ST-RTA",
   "language": "python",
   "name": "python3"
  },
  "language_info": {
   "codemirror_mode": {
    "name": "ipython",
    "version": 3
   },
   "file_extension": ".py",
   "mimetype": "text/x-python",
   "name": "python",
   "nbconvert_exporter": "python",
   "pygments_lexer": "ipython3",
   "version": "3.9.21"
  }
 },
 "nbformat": 4,
 "nbformat_minor": 5
}
