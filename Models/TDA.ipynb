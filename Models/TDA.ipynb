{
 "cells": [
  {
   "cell_type": "code",
   "execution_count": 1,
   "id": "20592ef2",
   "metadata": {},
   "outputs": [],
   "source": [
    "import os\n",
    "\n",
    "current_dir = os.getcwd()\n",
    "parent_dir = os.path.dirname(current_dir)\n",
    "analyze_path = os.path.join(parent_dir, \"utils\")\n",
    "\n",
    "os.chdir(analyze_path)"
   ]
  },
  {
   "cell_type": "code",
   "execution_count": 2,
   "id": "924f3e57",
   "metadata": {},
   "outputs": [],
   "source": [
    "from sklearn.cluster import KMeans\n",
    "from sklearn.decomposition import PCA\n",
    "from tdam.cover import CubicalCover\n",
    "from tdam.clustering import FailSafeClustering\n",
    "from tdam.core_old import MapperAlgorithm\n",
    "\n",
    "from TrafficTDApythonUtils.utils_v3 import *\n",
    "from TrafficTDApythonUtils.plots import *"
   ]
  },
  {
   "cell_type": "code",
   "execution_count": null,
   "id": "e3e5d6ce",
   "metadata": {},
   "outputs": [],
   "source": [
    "import pandas as pd\n",
    "\n",
    "new_grid = pd.read_csv(\"../ComputedData/ForTDA/new_grid.csv\")\n",
    "new_grid.drop(columns=['hotspot'], inplace=True)"
   ]
  },
  {
   "cell_type": "code",
   "execution_count": null,
   "id": "f11d8f87",
   "metadata": {},
   "outputs": [],
   "source": [
    "countyname = new_grid['COUNTYNAME']\n",
    "new_grid.drop(columns=['COUNTYNAME'], inplace=True)\n",
    "lens = PCA(10).fit_transform(new_grid.to_numpy())\n",
    "\n",
    "# lens_df = pd.DataFrame(lens, columns=[f'PC{i+1}' for i in range(lens.shape[1])])"
   ]
  },
  {
   "cell_type": "code",
   "execution_count": null,
   "id": "c2e267c9",
   "metadata": {},
   "outputs": [],
   "source": [
    "overlap = 7\n",
    "interval = 10\n",
    "detailed_results = []\n",
    "silhouette_for_intervals = []\n",
    "\n",
    "mapper_algo = MapperAlgorithm(\n",
    "    cover=CubicalCover(\n",
    "        n_intervals=interval,\n",
    "        overlap_frac=overlap / 10\n",
    "    ),\n",
    "    clustering=FailSafeClustering(\n",
    "        KMeans(n_clusters=2)\n",
    "    ),\n",
    "    n_jobs=-1\n",
    ")\n",
    "\n",
    "mapper_info = mapper_algo.fit_transform(new_grid.to_numpy(), lens)\n",
    "\n",
    "silhouette_for_intervals.append(mapper_info[1])\n",
    "result = {\n",
    "    \"overlap\": overlap,\n",
    "    \"interval\": interval,\n",
    "    \"silhouette\": mapper_info[1],\n",
    "    \"mapper_info\": mapper_info\n",
    "}\n",
    "detailed_results.append(result)\n",
    "detailed_results_df = pd.DataFrame(detailed_results)"
   ]
  },
  {
   "cell_type": "code",
   "execution_count": null,
   "id": "5eced9ee",
   "metadata": {},
   "outputs": [],
   "source": [
    "choose = '車輛撞擊部位大類別名稱-最初_汽車'\n",
    "\n",
    "mapper_plotter = MapperPlotter(detailed_results_df['mapper_info'][0], \n",
    "                               new_grid, seed=87, iterations=30, dim=2,\n",
    "                                range_lst=[-0.5, 0.5, 0.5, -0.5])"
   ]
  },
  {
   "cell_type": "code",
   "execution_count": null,
   "id": "7ab22a54",
   "metadata": {},
   "outputs": [],
   "source": [
    "def avg_label(data):\n",
    "    return sum(data) / len(data) if len(data) > 0 else 0\n",
    "\n",
    "mapper_plot = mapper_plotter.create_mapper_plot(choose, avg_label, avg=True)\n",
    "full_info = mapper_plotter.extract_data()\n",
    "mapper_plotter.map_colors(choose, size=0, threshold=0)\n",
    "mapper_plotter.plot(choose, avg=True, set_label=True, size=1000, anchor=1.33)"
   ]
  }
 ],
 "metadata": {
  "kernelspec": {
   "display_name": "ST-RTA",
   "language": "python",
   "name": "python3"
  },
  "language_info": {
   "codemirror_mode": {
    "name": "ipython",
    "version": 3
   },
   "file_extension": ".py",
   "mimetype": "text/x-python",
   "name": "python",
   "nbconvert_exporter": "python",
   "pygments_lexer": "ipython3",
   "version": "3.9.21"
  }
 },
 "nbformat": 4,
 "nbformat_minor": 5
}
