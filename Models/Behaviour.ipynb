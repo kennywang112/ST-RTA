{
 "cells": [
  {
   "cell_type": "code",
   "execution_count": null,
   "id": "465d341e",
   "metadata": {},
   "outputs": [],
   "source": [
    "import os\n",
    "import pandas as pd\n",
    "\n",
    "current_dir = os.getcwd()\n",
    "parent_dir = os.path.dirname(current_dir)\n",
    "analyze_path = os.path.join(parent_dir, \"utils\")\n",
    "\n",
    "os.chdir(analyze_path)"
   ]
  },
  {
   "cell_type": "code",
   "execution_count": null,
   "id": "2246a5e0",
   "metadata": {},
   "outputs": [],
   "source": [
    "import bnlearn as bn\n",
    "\n",
    "import matplotlib.pyplot as plt\n",
    "plt.rcParams['font.family'] = ['Arial Unicode Ms']\n",
    "# plt.rcParams['font.sans-serif'] = ['Microsoft YaHei']"
   ]
  },
  {
   "cell_type": "code",
   "execution_count": null,
   "id": "7082fed2",
   "metadata": {},
   "outputs": [],
   "source": [
    "# This is from TDAv2\n",
    "combined_data = pd.read_csv('../ComputedData/ForModel/combined_data_with_hotspot.csv')\n",
    "combined_data.shape"
   ]
  },
  {
   "cell_type": "code",
   "execution_count": null,
   "id": "7a2badf5",
   "metadata": {},
   "outputs": [],
   "source": [
    "select_group = [\n",
    "    # 號誌\n",
    "    '號誌-號誌種類名稱', '號誌-號誌動作名稱',\n",
    "\n",
    "    # 車道劃分\n",
    "    '車道劃分設施-分道設施-快車道或一般車道間名稱',\n",
    "    '車道劃分設施-分道設施-快慢車道間名稱', '車道劃分設施-分道設施-路面邊線名稱',\n",
    "\n",
    "    # 大類別\n",
    "    '事故類型及型態子類別名稱', '車道劃分設施-分向設施子類別名稱',\n",
    "    '道路型態子類別名稱',\n",
    "\n",
    "    # 其他\n",
    "    '速限-第1當事者',\n",
    "    '道路類別-第1當事者-名稱',\n",
    "\n",
    "    # 設施\n",
    "    'youbike_100m_count', 'mrt_100m_count', 'parkinglot_100m_count',\n",
    "    \n",
    "    # 駕駛、行人行為\n",
    "    '肇因研判子類別名稱-主要',\n",
    "\n",
    "    'COUNTYNAME'\n",
    "    ]\n",
    "\n",
    "data = combined_data[select_group].copy()\n",
    "data['facility'] = data[['youbike_100m_count']].apply(lambda row: '1' if (row > 0).any() else '0', axis=1)\n",
    "data.drop(columns=['youbike_100m_count', 'mrt_100m_count', 'parkinglot_100m_count'], inplace=True)\n",
    "\n",
    "max_speed = data['速限-第1當事者'].max()\n",
    "bins = range(0, int(max_speed) + 11, 10)\n",
    "\n",
    "data['速限-第1當事者'] = pd.cut(\n",
    "    data['速限-第1當事者'],\n",
    "    bins=bins,\n",
    "    right=False, \n",
    "    include_lowest=True,\n",
    "    labels=[f\"{i}-{i+9}\" for i in bins[:-1]]\n",
    ")"
   ]
  },
  {
   "cell_type": "code",
   "execution_count": null,
   "id": "71ccb28e",
   "metadata": {},
   "outputs": [],
   "source": [
    "parent = [\n",
    "    '號誌-號誌種類名稱', '號誌-號誌動作名稱','車道劃分設施-分道設施-快車道或一般車道間名稱', '車道劃分設施-分道設施-快慢車道間名稱',\n",
    "    '車道劃分設施-分道設施-路面邊線名稱', '車道劃分設施-分向設施子類別名稱', '道路型態子類別名稱',\n",
    "    '速限-第1當事者', '道路類別-第1當事者-名稱', 'facility', 'COUNTYNAME'\n",
    "    ]\n",
    "cause = ['肇因研判子類別名稱-主要']\n",
    "result = ['事故類型及型態子類別名稱']\n",
    "\n",
    "white_list = [\n",
    "    ('速限-第1當事者', '肇因研判子類別名稱-主要'),\n",
    "    ('道路類別-第1當事者-名稱', '肇因研判子類別名稱-主要'),\n",
    "    ('道路型態子類別名稱', '肇因研判子類別名稱-主要'),\n",
    "    ('facility', '肇因研判子類別名稱-主要'),\n",
    "    ('號誌-號誌種類名稱', '肇因研判子類別名稱-主要'),\n",
    "    # ('肇因研判子類別名稱-主要', '事故類型及型態子類別名稱'),\n",
    "]\n",
    "\n",
    "# This is for english version\n",
    "# from config import feature_name_map\n",
    "# parent = [feature_name_map.get(col, col) for col in parent]\n",
    "# cause = [feature_name_map.get(col, col) for col in cause]\n",
    "# result = [feature_name_map.get(col, col) for col in result]\n",
    "# white_list = [\n",
    "#     (feature_name_map.get(src, src), feature_name_map.get(dst, dst))\n",
    "#     for src, dst in white_list\n",
    "# ]\n",
    "# data = data.rename(columns=feature_name_map)\n",
    "\n",
    "black_list = []\n",
    "# cause -> parent\n",
    "black_list += [(c, p) for c in cause for p in parent]\n",
    "# result -> parent/cause\n",
    "black_list += [(r, x) for r in result for x in (parent + cause + result)]\n",
    "# 保險：parent -> result（避免直接 shortcut，如果只想透過肇因解釋）\n",
    "# black_list += [(p, r) for p in parent for r in result]"
   ]
  },
  {
   "cell_type": "code",
   "execution_count": null,
   "id": "51eb0724",
   "metadata": {},
   "outputs": [],
   "source": [
    "# 學哪些變數之間有邊，結果是一個DAG\n",
    "model = bn.structure_learning.fit(data, methodtype='hc', scoretype='bic', bw_list_method='edges',\n",
    "                                  # 肇因對於事故類型一定是上游。ex. 不會因為撞路樹而造成患病，而是因為患病才造成撞路樹\n",
    "                                   black_list=black_list, white_list=white_list,\n",
    "                                   fixed_edges=white_list, max_indegree=None)\n",
    "# 計算每個節點的 條件機率表 (CPT, Conditional Probability Table)\n",
    "model_param = bn.parameter_learning.fit(model, data, scoretype='bdeu', methodtype='bayes')\n",
    "# 計算邊緣強度，如果p小於顯著就是有相關\n",
    "model_independence = bn.independence_test(model_param, data, test='chi_square', prune=True)\n",
    "\n",
    "# model_independence['independence_test']\n",
    "# bn.get_parents(model['model_edges'])"
   ]
  },
  {
   "cell_type": "code",
   "execution_count": null,
   "id": "e1221544",
   "metadata": {},
   "outputs": [],
   "source": [
    "from matplotlib import rcParams\n",
    "rcParams['font.sans-serif'] = ['Microsoft JhengHei']\n",
    "rcParams['axes.unicode_minus'] = False\n",
    "\n",
    "# G = bn.plot(model, interactive=False, node_color=\"#36AA5B\", edge_labels=None)\n",
    "bn.plot(model_independence, interactive=False, edge_labels='pvalue', \n",
    "        params_static={'layout': 'spring_layout', 'font_color': \"#974848\", 'edge_color': \"#974848\"})"
   ]
  },
  {
   "cell_type": "code",
   "execution_count": null,
   "id": "4abf99d8",
   "metadata": {},
   "outputs": [],
   "source": [
    "import numpy as np\n",
    "from utils_behaviour import draw_bn_plotly\n",
    "\n",
    "draw_bn_plotly(model_independence, layout_algo='spring', en=False, width=600, height=400, seed=42, iter=30)"
   ]
  },
  {
   "cell_type": "markdown",
   "id": "1471d429",
   "metadata": {},
   "source": [
    "## Inference\n",
    "這個方法針對特定的推論得出cpt，現在討論反向所以evidence會是肇因，討論特定特徵下不同設計的機率"
   ]
  },
  {
   "cell_type": "code",
   "execution_count": null,
   "id": "37ce1a11",
   "metadata": {},
   "outputs": [],
   "source": [
    "from utils_behaviour import cpd_add_n, filter_cpd, get_outlier"
   ]
  },
  {
   "cell_type": "code",
   "execution_count": null,
   "id": "7d7c6460",
   "metadata": {},
   "outputs": [],
   "source": [
    "parent = ['速限-第1當事者', '道路類別-第1當事者-名稱', '道路型態子類別名稱', 'facility', '號誌-號誌種類名稱']\n",
    "child = '肇因研判子類別名稱-主要'\n",
    "\n",
    "evidence_v = list(data['肇因研判子類別名稱-主要'].value_counts().head(10).index)\n",
    "\n",
    "for v in evidence_v:\n",
    "    q2 = bn.inference.fit(\n",
    "        model_param, \n",
    "        variables=parent,\n",
    "        evidence={'肇因研判子類別名稱-主要': v})\n",
    "\n",
    "    model = q2.df\n",
    "    evidence_df = data[data['肇因研判子類別名稱-主要'] == v]\n",
    "\n",
    "    filtered_condition = cpd_add_n(parent, child, model, evidence_df, cpd=False, threshold=30)\n",
    "\n",
    "    filtered_condition.to_csv(f'../ComputedData/Behaviour/{v}.csv', encoding='utf-8', index=False)"
   ]
  },
  {
   "cell_type": "code",
   "execution_count": null,
   "id": "e51e23b3",
   "metadata": {},
   "outputs": [],
   "source": [
    "for i in range(len(evidence_v)):\n",
    "    print(evidence_v[i])\n",
    "    # Inference方面n和p不會是正比的主要原因是p是由cpt反推，所以不是基於n來計算\n",
    "    filtered_condition = pd.read_csv(f'../ComputedData/Behaviour/{evidence_v[i]}.csv', encoding='utf-8')\n",
    "    new_con_dist = filter_cpd(filtered_condition)\n",
    "    # print(new_con_dist.shape)\n",
    "    new_con_dist_out = get_outlier(filtered_condition, new_con_dist)\n",
    "    print(new_con_dist_out)"
   ]
  },
  {
   "cell_type": "code",
   "execution_count": null,
   "id": "fb18b857",
   "metadata": {},
   "outputs": [],
   "source": [
    "for i in range(len(evidence_v)):\n",
    "    # Inference方面n和p不會是正比的主要原因是p是由cpt反推，所以不是基於n來計算\n",
    "    filtered_condition = pd.read_csv(f'../ComputedData/Behaviour/{evidence_v[i]}.csv', encoding='utf-8')\n",
    "    new_con_dist = filter_cpd(filtered_condition)\n",
    "\n",
    "    print(round(new_con_dist['p'].sum(), 4))"
   ]
  },
  {
   "cell_type": "markdown",
   "id": "420bb3f7",
   "metadata": {},
   "source": [
    "## CPD\n",
    "沒有針對特徵，回傳肇因的因"
   ]
  },
  {
   "cell_type": "code",
   "execution_count": null,
   "id": "b929b5e9",
   "metadata": {},
   "outputs": [],
   "source": [
    "from config import category_value_map\n",
    "\n",
    "CPDs = bn.print_CPD(model_param)\n",
    "dfprob_cause = CPDs[child]\n",
    "filtered = cpd_add_n(parent, child, dfprob_cause, data, threshold=0)\n",
    "\n",
    "# filtered[parent] = filtered[parent].map(category_value_map[parent])\n",
    "# filtered[child] = filtered[child].map(category_value_map[child])\n",
    "# filtered[parent2] = filtered[parent2].map(category_value_map[parent2])"
   ]
  },
  {
   "cell_type": "code",
   "execution_count": null,
   "id": "4ae89a6b",
   "metadata": {},
   "outputs": [],
   "source": [
    "filtered = filtered[filtered['n'] > 100]\n",
    "filtered['facility'] = filtered['facility'].astype(int)\n",
    "final_filtered = filter_cpd(filtered)"
   ]
  },
  {
   "cell_type": "markdown",
   "id": "ddcde45a",
   "metadata": {},
   "source": [
    "### 確認CPT的機率"
   ]
  },
  {
   "cell_type": "code",
   "execution_count": null,
   "id": "069ddcef",
   "metadata": {},
   "outputs": [],
   "source": [
    "import numpy as np\n",
    "# parent 組合數\n",
    "q = dfprob_cause.groupby(parent, dropna=False).ngroups\n",
    "assert np.prod([data[col].nunique() for col in parent])==q\n",
    "# 每個 parent 組合底下的機率和都應該 ≈ 1\n",
    "chk = dfprob_cause.groupby(parent, dropna=False)['p'].sum().unique()"
   ]
  }
 ],
 "metadata": {
  "kernelspec": {
   "display_name": "ST-RTA",
   "language": "python",
   "name": "python3"
  },
  "language_info": {
   "codemirror_mode": {
    "name": "ipython",
    "version": 3
   },
   "file_extension": ".py",
   "mimetype": "text/x-python",
   "name": "python",
   "nbconvert_exporter": "python",
   "pygments_lexer": "ipython3",
   "version": "3.9.21"
  }
 },
 "nbformat": 4,
 "nbformat_minor": 5
}
