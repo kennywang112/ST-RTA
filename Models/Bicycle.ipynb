{
 "cells": [
  {
   "cell_type": "markdown",
   "id": "34682265",
   "metadata": {},
   "source": [
    "設施 和 當事者區分(類別) （腳踏自行車） 是否有關聯"
   ]
  },
  {
   "cell_type": "code",
   "execution_count": null,
   "id": "da6c91ab",
   "metadata": {},
   "outputs": [],
   "source": [
    "import os\n",
    "import pandas as pd\n",
    "\n",
    "current_dir = os.getcwd()\n",
    "parent_dir = os.path.dirname(current_dir)\n",
    "analyze_path = os.path.join(parent_dir, \"utils\")\n",
    "\n",
    "os.chdir(analyze_path)\n",
    "\n",
    "import matplotlib.pyplot as plt\n",
    "plt.rcParams['font.family'] = ['Arial Unicode Ms']"
   ]
  },
  {
   "cell_type": "code",
   "execution_count": null,
   "id": "72979e31",
   "metadata": {},
   "outputs": [],
   "source": [
    "# from utils import read_data\n",
    "# combined_data = read_data()\n",
    "\n",
    "# 不限制第一順位\n",
    "filtered_A1 = pd.read_csv('../ComputedData/Accident/DataA1_with_youbike.csv')\n",
    "filtered_A2 = pd.read_csv('../ComputedData/Accident/DataA2_with_youbike.csv')\n",
    "\n",
    "filtered_A1['source'] = 'A1'\n",
    "filtered_A2['source'] = 'A2'\n",
    "filtered_A1['num_accidents'] = 1 \n",
    "filtered_A2['num_accidents'] = 1\n",
    "combined_data = pd.concat([filtered_A1, filtered_A2], ignore_index=True)\n",
    "\n",
    "# 替換離群值成中位數\n",
    "median_speed = combined_data.loc[combined_data['速限-第1當事者'] < 200, '速限-第1當事者'].median()\n",
    "median_age = combined_data.loc[(combined_data['當事者事故發生時年齡'] > 0) & (combined_data['當事者事故發生時年齡'] < 100),\n",
    "                '當事者事故發生時年齡'].median()\n",
    "combined_data.loc[combined_data['速限-第1當事者'] >= 200, '速限-第1當事者'] = median_speed\n",
    "combined_data.loc[(combined_data['當事者事故發生時年齡'] >= 100) | \n",
    "                (combined_data['當事者事故發生時年齡'] <= 0), '當事者事故發生時年齡'] = median_age"
   ]
  },
  {
   "cell_type": "code",
   "execution_count": null,
   "id": "a6c2769d",
   "metadata": {},
   "outputs": [],
   "source": [
    "a = combined_data[combined_data['事故類型及型態大類別名稱'] == '人與車']\n",
    "# a = combined_data[combined_data['號誌-號誌種類名稱'] == '行車管制號誌(附設行人專用號誌)']\n",
    "# a = combined_data[combined_data['youbike_100m_count'] > 0]\n",
    "# a['號誌-號誌種類名稱'].value_counts(normalize=True), combined_data['號誌-號誌種類名稱'].value_counts(normalize=True)\n",
    "a['號誌-號誌種類名稱'].value_counts(normalize=True)"
   ]
  },
  {
   "cell_type": "code",
   "execution_count": null,
   "id": "29d07c3a",
   "metadata": {},
   "outputs": [],
   "source": [
    "combined_data['號誌-號誌種類名稱'].value_counts(normalize=True)"
   ]
  },
  {
   "cell_type": "code",
   "execution_count": null,
   "id": "62f8d897",
   "metadata": {},
   "outputs": [],
   "source": [
    "import geopandas as gpd\n",
    "\n",
    "TM2 = 3826\n",
    "taiwan = gpd.read_file('../Data/OFiles_9e222fea-bafb-4436-9b17-10921abc6ef2/TOWN_MOI_1140318.shp')\n",
    "taiwan = taiwan[(~taiwan['TOWNNAME'].isin(['旗津區', '頭城鎮', '蘭嶼鄉', '綠島鄉', '琉球鄉'])) & \n",
    "                (~taiwan['COUNTYNAME'].isin(['金門縣', '連江縣', '澎湖縣']))].to_crs(TM2)\n",
    "taiwan_cnty = taiwan[['COUNTYNAME','geometry']].dissolve(by='COUNTYNAME')\n",
    "taiwan_cnty['geometry'] = taiwan_cnty.buffer(0)\n",
    "cnty = taiwan_cnty.reset_index()\n",
    "\n",
    "from shapely.geometry import Point\n",
    "gdf_points = gpd.GeoDataFrame(combined_data, \n",
    "                              geometry=[Point(xy) for xy in zip(combined_data['經度'], combined_data['緯度'])],\n",
    "                              crs='EPSG:4326')\n",
    "\n",
    "gdf_points = gdf_points.to_crs(3826)\n",
    "gdf_joined = gpd.sjoin(gdf_points, cnty[['COUNTYNAME', 'geometry']], how='left', predicate='within')\n",
    "combined_data['COUNTYNAME'] = gdf_joined['COUNTYNAME'].values"
   ]
  },
  {
   "cell_type": "code",
   "execution_count": null,
   "id": "1936e717",
   "metadata": {},
   "outputs": [],
   "source": [
    "combined_data1 = combined_data[combined_data['當事者順位'] == 1]\n",
    "combined_data2 = combined_data[combined_data['當事者順位'] > 1]\n",
    "combined_data1.shape, combined_data2.shape"
   ]
  },
  {
   "cell_type": "code",
   "execution_count": null,
   "id": "cec982ff",
   "metadata": {},
   "outputs": [],
   "source": [
    "def create_crosstab(data, type='大', scale='100'):\n",
    "    type_name = f'當事者區分-類別-{type}類別名稱-車種'\n",
    "    table = pd.crosstab(\n",
    "        data[type_name],\n",
    "        data[f'youbike_{scale}m_count'],\n",
    "        normalize='index'\n",
    "    )\n",
    "    raw_counts = pd.crosstab(data[type_name], data[f'youbike_{scale}m_count'])\n",
    "    row_sum = raw_counts.sum(axis=1)\n",
    "    table = table[row_sum > 30]\n",
    "\n",
    "    return table.sort_values(by=0, ascending=True)"
   ]
  },
  {
   "cell_type": "code",
   "execution_count": null,
   "id": "5cf8501d",
   "metadata": {},
   "outputs": [],
   "source": [
    "c1 = create_crosstab(combined_data1, type='子', scale='50')\n",
    "c1 = c1[c1.columns[c1.columns != 0]].sum(axis=1)\n",
    "\n",
    "c1.plot(kind='barh', color='#36AA5B', figsize=(8, 6))\n",
    "plt.xlabel('Ratio')\n",
    "plt.grid(axis='x')\n",
    "plt.tight_layout()"
   ]
  },
  {
   "cell_type": "markdown",
   "id": "995f7736",
   "metadata": {},
   "source": [
    "### 分析第二順位和第一順位的關係"
   ]
  },
  {
   "cell_type": "code",
   "execution_count": null,
   "id": "cc3ebfd0",
   "metadata": {},
   "outputs": [],
   "source": [
    "types = '子'\n",
    "\n",
    "combined_data['事故ID'] = (\n",
    "    combined_data['發生日期'].astype(str) + '_' +\n",
    "    combined_data['發生時間'].astype(str) + '_' +\n",
    "    combined_data['發生地點'].astype(str)\n",
    ")\n",
    "first_rank = combined_data[combined_data['當事者順位'] == 1.0].copy()\n",
    "second_rank = combined_data[combined_data['當事者順位'] == 2.0][['事故ID', f'當事者區分-類別-{types}類別名稱-車種']]\n",
    "second_rank = second_rank.rename(columns={f'當事者區分-類別-{types}類別名稱-車種': '第二順位車種'})\n",
    "\n",
    "result = pd.merge(first_rank, second_rank, on='事故ID', how='left')\n",
    "result = result.rename(columns={f'當事者區分-類別-{types}類別名稱-車種': '第一順位車種'})\n",
    "result = result[result['COUNTYNAME'].notna()]\n",
    "result_filter = result[result['第二順位車種'].notna()]\n",
    "result_filter.shape"
   ]
  },
  {
   "cell_type": "code",
   "execution_count": null,
   "id": "3dc69986",
   "metadata": {},
   "outputs": [],
   "source": [
    "result_filter = result_filter[result_filter['第一順位車種'].isin(\n",
    "    result_filter['第一順位車種'].value_counts()[result_filter['第一順位車種'].value_counts() > 1000].index\n",
    ")]\n",
    "result_filter = result_filter[result_filter['第二順位車種'].isin(\n",
    "    result_filter['第二順位車種'].value_counts()[result_filter['第二順位車種'].value_counts() > 1000].index\n",
    ")]"
   ]
  },
  {
   "cell_type": "code",
   "execution_count": null,
   "id": "464eb5a2",
   "metadata": {},
   "outputs": [],
   "source": [
    "import plotly.graph_objects as go\n",
    "\n",
    "df = result_filter.dropna(subset=['第一順位車種', '第二順位車種'])\n",
    "\n",
    "left_nodes = [f\"{x}(主)\" for x in sorted(df['第一順位車種'].unique())]\n",
    "right_nodes = [f\"{x}(次)\" for x in sorted(df['第二順位車種'].unique())]\n",
    "\n",
    "all_nodes = left_nodes + right_nodes\n",
    "left_map = {x: i for i, x in enumerate(left_nodes)}\n",
    "right_map = {x: i+len(left_nodes) for i, x in enumerate(right_nodes)}\n",
    "\n",
    "flows = df.groupby(['第一順位車種', '第二順位車種']).size().reset_index(name='count')\n",
    "\n",
    "sources = flows['第一順位車種'].map(lambda x: left_map[f\"{x}(主)\"])\n",
    "targets = flows['第二順位車種'].map(lambda x: right_map[f\"{x}(次)\"])\n",
    "values = flows['count']\n",
    "\n",
    "link_colors = []\n",
    "for s, t in zip(flows['第一順位車種'], flows['第二順位車種']):\n",
    "    # if \"腳踏自行車\" in s or \"腳踏自行車\" in t:\n",
    "    #     link_colors.append(\"#349a76\")  # 綠色半透明\n",
    "    # else:\n",
    "    #     link_colors.append(\"rgba(150,150,150,0.3)\") \n",
    "    if \"慢車\" in s or \"慢車\" in t:\n",
    "        link_colors.append(\"#349a76\")  # 綠色半透明\n",
    "    else:\n",
    "        link_colors.append(\"rgba(150,150,150,0.3)\") \n",
    "\n",
    "fig = go.Figure(data=[go.Sankey(\n",
    "    # orientation=\"v\",\n",
    "    node=dict(\n",
    "        pad=15,\n",
    "        thickness=20,\n",
    "        line=dict(color=\"black\", width=0.5),\n",
    "        label=all_nodes,\n",
    "        color=[\"#6fa8dc\"]*len(left_nodes) + [\"#f6b26b\"]*len(right_nodes)\n",
    "    ),\n",
    "    link=dict(\n",
    "        source=sources,\n",
    "        target=targets,\n",
    "        value=values,\n",
    "        color=link_colors\n",
    "    )\n",
    ")])\n",
    "fig.update_layout(\n",
    "    title_text=\"Sankey diagram\", \n",
    "    font_size=12,\n",
    "    width=800,\n",
    "    height=1200)\n",
    "fig.show()"
   ]
  },
  {
   "cell_type": "markdown",
   "id": "89ddd280",
   "metadata": {},
   "source": [
    "### 分析設施和腳踏車事故的相關性\n",
    "設施的數量增加腳踏車發生比例"
   ]
  },
  {
   "cell_type": "markdown",
   "id": "31a2c3ee",
   "metadata": {},
   "source": [
    "## 1 (deprecated)"
   ]
  },
  {
   "cell_type": "code",
   "execution_count": null,
   "id": "86bb6f85",
   "metadata": {},
   "outputs": [],
   "source": [
    "bike_data = pd.DataFrame(columns = ['youbike_scale', 'youbike_count', 'bike_accident_ratio'])\n",
    "\n",
    "youbike_types = ['50', '100', '200', '300']\n",
    "\n",
    "for type in youbike_types:\n",
    "\n",
    "    car = '腳踏自行車'\n",
    "    youbike_type = f'youbike_{type}m_count'\n",
    "    include_youbike = result[(result['第一順位車種'] == car) | \n",
    "                            (result['第二順位車種'] == car)]\n",
    "\n",
    "    total_accidents_by_facility = result.groupby(youbike_type).size().reset_index()\n",
    "    bike_accidents_by_facility = include_youbike.groupby(youbike_type).size().reset_index()\n",
    "\n",
    "    total_accidents_by_facility[youbike_type] =\\\n",
    "        total_accidents_by_facility[youbike_type].apply(lambda x: 1 if x > 0 else 0)\n",
    "    total_accidents_by_facility = total_accidents_by_facility.groupby(youbike_type).sum()\n",
    "    bike_accidents_by_facility[youbike_type] =\\\n",
    "        bike_accidents_by_facility[youbike_type].apply(lambda x: 1 if x > 0 else 0)\n",
    "    bike_accidents_by_facility = bike_accidents_by_facility.groupby(youbike_type).sum()\n",
    "\n",
    "    facility_ratio = (bike_accidents_by_facility / total_accidents_by_facility).fillna(0)\n",
    "    facility_ratio_df = facility_ratio.reset_index()\n",
    "    facility_ratio_df.columns = ['youbike_count', 'bike_accident_ratio']\n",
    "    facility_ratio_df['youbike_scale'] = type\n",
    "    bike_data = pd.concat([bike_data, \n",
    "                        facility_ratio_df[['youbike_scale', 'youbike_count', 'bike_accident_ratio']]], ignore_index=True)\n",
    "\n",
    "bike_data"
   ]
  },
  {
   "cell_type": "code",
   "execution_count": null,
   "id": "f8f83420",
   "metadata": {},
   "outputs": [],
   "source": [
    "import numpy as np\n",
    "from matplotlib.ticker import PercentFormatter\n",
    "\n",
    "plot_df = (\n",
    "    bike_data\n",
    "    .pivot(index='youbike_scale', columns='youbike_count', values='bike_accident_ratio')\n",
    "    .sort_index()\n",
    ")\n",
    "\n",
    "y = np.arange(len(plot_df.index))\n",
    "height = 0.35  # bar 的厚度\n",
    "\n",
    "fig, ax = plt.subplots(figsize=(9, 5))\n",
    "bars0 = ax.barh(y - height/2, plot_df[0].to_numpy(), height, label='Without YouBike', color=\"#9f9fe3\")\n",
    "bars1 = ax.barh(y + height/2, plot_df[1].to_numpy(), height, label='With YouBike', color=\"#b5537f\")\n",
    "\n",
    "ax.set_ylabel('YouBike buffer scale (meters)')\n",
    "ax.set_xlabel('Bicycle accident ratio')\n",
    "ax.set_title('Bicycle accident ratios with/without YouBike stations at different buffer scales')\n",
    "ax.set_yticks(y)\n",
    "ax.set_yticklabels(plot_df.index.astype(int))\n",
    "ax.xaxis.set_major_formatter(PercentFormatter(1.0))\n",
    "ax.legend(loc='center left', bbox_to_anchor=(1, 0.5))\n",
    "\n",
    "# 標籤在 bar 右邊\n",
    "for bars in (bars0, bars1):\n",
    "    for b in bars:\n",
    "        w = b.get_width()\n",
    "        ax.annotate(f'{w*100:.2f}%',\n",
    "                    xy=(w, b.get_y() + b.get_height()/2),\n",
    "                    xytext=(3, 0),\n",
    "                    textcoords=\"offset points\",\n",
    "                    ha='left', va='center', fontsize=8)\n",
    "\n",
    "plt.tight_layout()\n",
    "plt.show()\n"
   ]
  },
  {
   "cell_type": "markdown",
   "id": "ff3ca2c3",
   "metadata": {},
   "source": [
    "## 2"
   ]
  },
  {
   "cell_type": "code",
   "execution_count": null,
   "id": "389c8f9d",
   "metadata": {},
   "outputs": [],
   "source": [
    "def youbike_bin(x):\n",
    "    if x >= 5:\n",
    "        return '5+'\n",
    "    elif x >= 3:\n",
    "        return '3~4'\n",
    "    elif x >= 1:\n",
    "        return '1~2'\n",
    "    else:\n",
    "        return '0'"
   ]
  },
  {
   "cell_type": "code",
   "execution_count": null,
   "id": "5089ef64",
   "metadata": {},
   "outputs": [],
   "source": [
    "youbike_type = 'youbike_100m_count'\n",
    "\n",
    "include_youbike = result[(result['第一順位車種'] == '腳踏自行車') | (result['第二順位車種'] == '腳踏自行車')]\n",
    "\n",
    "total_accidents_by_facility = result.groupby(youbike_type).size().reset_index()\n",
    "bike_accidents_by_facility = include_youbike.groupby(youbike_type).size().reset_index()\n",
    "\n",
    "total_accidents_by_facility[youbike_type] = total_accidents_by_facility[youbike_type].apply(youbike_bin)\n",
    "total_accidents_by_facility = total_accidents_by_facility.groupby(youbike_type).sum()\n",
    "bike_accidents_by_facility[youbike_type] = bike_accidents_by_facility[youbike_type].apply(youbike_bin)\n",
    "\n",
    "bike_accidents_by_facility = bike_accidents_by_facility.groupby(youbike_type).sum()\n",
    "\n",
    "facility_ratio = (bike_accidents_by_facility / total_accidents_by_facility).fillna(0)\n",
    "facility_ratio_df = facility_ratio.reset_index()\n",
    "facility_ratio_df.columns = [youbike_type, 'bike_accident_ratio']"
   ]
  },
  {
   "cell_type": "code",
   "execution_count": null,
   "id": "86f25b0e",
   "metadata": {},
   "outputs": [],
   "source": [
    "plt.figure(figsize=(8, 6))\n",
    "plt.bar(facility_ratio_df[youbike_type], facility_ratio_df['bike_accident_ratio'], color=\"#396B49\")\n",
    "plt.xlabel('Number of YouBike Facilities around Accident')\n",
    "plt.ylabel('Bicycle Accident Ratio')\n",
    "plt.grid(axis='y', linestyle='--', alpha=0.5)\n",
    "bars = plt.bar(\n",
    "    facility_ratio_df[youbike_type],\n",
    "    facility_ratio_df['bike_accident_ratio'],\n",
    "    color=\"#479560\"\n",
    ")\n",
    "for bar, xval in zip(bars, facility_ratio_df[youbike_type]):\n",
    "    height = bar.get_height()\n",
    "    total = total_accidents_by_facility.at[xval, 0]\n",
    "    label = f\"{total}\"\n",
    "    plt.text(\n",
    "        bar.get_x() + bar.get_width()/2,\n",
    "        height,\n",
    "        label,\n",
    "        ha='center', va='bottom', fontsize=9\n",
    "    )\n",
    "plt.tight_layout()\n",
    "plt.show()"
   ]
  },
  {
   "cell_type": "markdown",
   "id": "eb2b2735",
   "metadata": {},
   "source": [
    "## 3"
   ]
  },
  {
   "cell_type": "code",
   "execution_count": null,
   "id": "9ef6d099",
   "metadata": {},
   "outputs": [],
   "source": [
    "countys = ['臺北市', '新北市', '臺中市', '高雄市', '臺東縣', '花蓮縣']\n",
    "result = result[result['COUNTYNAME'].isin(countys)]\n",
    "youbike_type = 'youbike_100m_count'\n",
    "\n",
    "include_youbike = result[(result['第一順位車種'] == '腳踏自行車') | (result['第二順位車種'] == '腳踏自行車')]\n",
    "\n",
    "result['youbike_bin'] = result[youbike_type].apply(youbike_bin)\n",
    "include_youbike['youbike_bin'] = include_youbike[youbike_type].apply(youbike_bin)\n",
    "\n",
    "total_accidents_by_facility = result.groupby(['COUNTYNAME', 'youbike_bin']).size().reset_index(name='total')\n",
    "bike_accidents_by_facility = include_youbike.groupby(['COUNTYNAME', 'youbike_bin']).size().reset_index(name='bike')\n",
    "\n",
    "facility_ratio_df = pd.merge(total_accidents_by_facility, bike_accidents_by_facility, \n",
    "                            on=['COUNTYNAME', 'youbike_bin'], how='left').fillna(0)\n",
    "\n",
    "facility_ratio_df['bike_accident_ratio'] = facility_ratio_df['bike'] / facility_ratio_df['total']\n",
    "facility_ratio_df = facility_ratio_df[['COUNTYNAME', 'youbike_bin', 'bike_accident_ratio', 'total']]\n",
    "facility_ratio_df = facility_ratio_df.sort_values(['COUNTYNAME', 'youbike_bin'])"
   ]
  },
  {
   "cell_type": "code",
   "execution_count": null,
   "id": "a9b90524",
   "metadata": {},
   "outputs": [],
   "source": [
    "from config import countycity_dct\n",
    "facility_ratio_df['COUNTYNAME'] = facility_ratio_df['COUNTYNAME'].map(countycity_dct)"
   ]
  },
  {
   "cell_type": "code",
   "execution_count": null,
   "id": "aa38dc13",
   "metadata": {},
   "outputs": [],
   "source": [
    "import matplotlib.pyplot as plt\n",
    "import numpy as np\n",
    "\n",
    "bins = ['0', '1~2', '3~4', '5+']\n",
    "countys = facility_ratio_df['COUNTYNAME'].unique()\n",
    "bar_width = 0.2\n",
    "x = np.arange(len(countys))\n",
    "\n",
    "colors = [\"#479560\", \"#7D9A8D\", \"#B2C2B2\", \"#C4B2B2\"]\n",
    "\n",
    "plt.figure(figsize=(10, 6))\n",
    "\n",
    "for i, bin_label in enumerate(bins):\n",
    "    df_bin = facility_ratio_df[facility_ratio_df['youbike_bin'] == bin_label].set_index('COUNTYNAME').reindex(countys)\n",
    "    ratios = df_bin['bike_accident_ratio']\n",
    "    totals = df_bin['total']\n",
    "    bars = plt.bar(x + i * bar_width, ratios, width=bar_width, label=bin_label, color=colors[i])\n",
    "    for bar, total in zip(bars, totals):\n",
    "        if not np.isnan(bar.get_height()):\n",
    "            plt.text(\n",
    "                bar.get_x() + bar.get_width()/2,\n",
    "                bar.get_height(),\n",
    "                str(int(total)) if not np.isnan(total) else \"\",\n",
    "                ha='center', va='bottom', fontsize=9\n",
    "            )\n",
    "\n",
    "plt.xlabel('County')\n",
    "plt.ylabel('Bicycle Accident Ratio')\n",
    "plt.xticks(x + bar_width * (len(bins)-1)/2, countys)\n",
    "plt.legend(title='YouBike Facilities')\n",
    "plt.grid(axis='y', linestyle='--', alpha=0.5)\n",
    "plt.tight_layout()\n",
    "plt.show()"
   ]
  },
  {
   "cell_type": "markdown",
   "id": "002b932b",
   "metadata": {},
   "source": [
    "## 各縣市人車事故比例"
   ]
  },
  {
   "cell_type": "code",
   "execution_count": null,
   "id": "eef3fa15",
   "metadata": {},
   "outputs": [],
   "source": [
    "result"
   ]
  },
  {
   "cell_type": "code",
   "execution_count": null,
   "id": "555037e8",
   "metadata": {},
   "outputs": [],
   "source": [
    "countys = ['臺北市', '新北市', '臺中市', '高雄市', '臺東縣', '花蓮縣']\n",
    "result = result[result['COUNTYNAME'].isin(countys)]\n",
    "youbike_type = 'youbike_100m_count'\n",
    "\n",
    "include_youbike = result[(result['事故類型及型態大類別名稱'] == '人與車') | (result['事故類型及型態大類別名稱'] == '人與車')]\n",
    "\n",
    "result['youbike_bin'] = result[youbike_type].apply(youbike_bin)\n",
    "include_youbike['youbike_bin'] = include_youbike[youbike_type].apply(youbike_bin)\n",
    "\n",
    "total_accidents_by_facility = result.groupby(['COUNTYNAME', 'youbike_bin']).size().reset_index(name='total')\n",
    "bike_accidents_by_facility = include_youbike.groupby(['COUNTYNAME', 'youbike_bin']).size().reset_index(name='bike')\n",
    "\n",
    "facility_ratio_df = pd.merge(total_accidents_by_facility, bike_accidents_by_facility, \n",
    "                            on=['COUNTYNAME', 'youbike_bin'], how='left').fillna(0)\n",
    "\n",
    "facility_ratio_df['bike_accident_ratio'] = facility_ratio_df['bike'] / facility_ratio_df['total']\n",
    "facility_ratio_df = facility_ratio_df[['COUNTYNAME', 'youbike_bin', 'bike_accident_ratio', 'total']]\n",
    "facility_ratio_df = facility_ratio_df.sort_values(['COUNTYNAME', 'youbike_bin'])"
   ]
  },
  {
   "cell_type": "code",
   "execution_count": null,
   "id": "88632cf3",
   "metadata": {},
   "outputs": [],
   "source": [
    "from config import countycity_dct\n",
    "facility_ratio_df['COUNTYNAME'] = facility_ratio_df['COUNTYNAME'].map(countycity_dct)"
   ]
  },
  {
   "cell_type": "code",
   "execution_count": null,
   "id": "00028ba8",
   "metadata": {},
   "outputs": [],
   "source": [
    "bins = ['0', '1~2', '3~4', '5+']\n",
    "countys = facility_ratio_df['COUNTYNAME'].unique()\n",
    "bar_width = 0.2\n",
    "x = np.arange(len(countys))\n",
    "\n",
    "colors = [\"#479560\", \"#7D9A8D\", \"#B2C2B2\", \"#C4B2B2\"]\n",
    "\n",
    "plt.figure(figsize=(10, 6))\n",
    "\n",
    "for i, bin_label in enumerate(bins):\n",
    "    df_bin = facility_ratio_df[facility_ratio_df['youbike_bin'] == bin_label].set_index('COUNTYNAME').reindex(countys)\n",
    "    ratios = df_bin['bike_accident_ratio']\n",
    "    totals = df_bin['total']\n",
    "    bars = plt.bar(x + i * bar_width, ratios, width=bar_width, label=bin_label, color=colors[i])\n",
    "    for bar, total in zip(bars, totals):\n",
    "        if not np.isnan(bar.get_height()):\n",
    "            plt.text(\n",
    "                bar.get_x() + bar.get_width()/2,\n",
    "                bar.get_height(),\n",
    "                str(int(total)) if not np.isnan(total) else \"\",\n",
    "                ha='center', va='bottom', fontsize=9\n",
    "            )\n",
    "\n",
    "plt.xlabel('County')\n",
    "plt.ylabel('Pedestrian-Vehicle Ratio')\n",
    "plt.xticks(x + bar_width * (len(bins)-1)/2, countys)\n",
    "plt.legend(title='YouBike Facilities')\n",
    "plt.grid(axis='y', linestyle='--', alpha=0.5)\n",
    "plt.tight_layout()\n",
    "plt.show()"
   ]
  }
 ],
 "metadata": {
  "kernelspec": {
   "display_name": "ST-RTA",
   "language": "python",
   "name": "python3"
  },
  "language_info": {
   "codemirror_mode": {
    "name": "ipython",
    "version": 3
   },
   "file_extension": ".py",
   "mimetype": "text/x-python",
   "name": "python",
   "nbconvert_exporter": "python",
   "pygments_lexer": "ipython3",
   "version": "3.9.21"
  }
 },
 "nbformat": 4,
 "nbformat_minor": 5
}
