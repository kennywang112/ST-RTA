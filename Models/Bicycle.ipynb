{
 "cells": [
  {
   "cell_type": "markdown",
   "id": "34682265",
   "metadata": {},
   "source": [
    "設施 和 當事者區分(類別) （腳踏自行車） 是否有關聯"
   ]
  },
  {
   "cell_type": "code",
   "execution_count": null,
   "id": "da6c91ab",
   "metadata": {},
   "outputs": [],
   "source": [
    "import os\n",
    "import pandas as pd\n",
    "\n",
    "current_dir = os.getcwd()\n",
    "parent_dir = os.path.dirname(current_dir)\n",
    "analyze_path = os.path.join(parent_dir, \"utils\")\n",
    "\n",
    "os.chdir(analyze_path)\n",
    "\n",
    "import matplotlib.pyplot as plt\n",
    "plt.rcParams['font.family'] = ['Arial Unicode Ms']"
   ]
  },
  {
   "cell_type": "code",
   "execution_count": null,
   "id": "a6d3b000",
   "metadata": {},
   "outputs": [],
   "source": [
    "from utils import read_data, read_taiwan_specific\n",
    "import geopandas as gpd\n",
    "from shapely.geometry import Point"
   ]
  },
  {
   "cell_type": "code",
   "execution_count": null,
   "id": "72979e31",
   "metadata": {},
   "outputs": [],
   "source": [
    "combined_data = read_data()"
   ]
  },
  {
   "cell_type": "code",
   "execution_count": null,
   "id": "b24d44df",
   "metadata": {},
   "outputs": [],
   "source": [
    "TM2 = 3826\n",
    "taiwan, grid_filter = read_taiwan_specific()\n",
    "taiwan_cnty = taiwan[['COUNTYNAME','geometry']].dissolve(by='COUNTYNAME')\n",
    "taiwan_cnty['geometry'] = taiwan_cnty.buffer(0)\n",
    "cnty = taiwan_cnty.reset_index()\n",
    "\n",
    "gdf_points = gpd.GeoDataFrame(combined_data, \n",
    "                              geometry=[Point(xy) for xy in zip(combined_data['經度'], combined_data['緯度'])],\n",
    "                              crs='EPSG:4326').to_crs(3826)\n",
    "\n",
    "gdf_joined = gpd.sjoin(gdf_points, cnty[['COUNTYNAME', 'geometry']], how='left', predicate='within')\n",
    "combined_data['COUNTYNAME'] = gdf_joined['COUNTYNAME'].values"
   ]
  },
  {
   "cell_type": "code",
   "execution_count": null,
   "id": "cec982ff",
   "metadata": {},
   "outputs": [],
   "source": [
    "def create_crosstab(data, type='大', scale='100'):\n",
    "    type_name = f'當事者區分-類別-{type}類別名稱-車種'\n",
    "    table = pd.crosstab(\n",
    "        data[type_name],\n",
    "        data[f'youbike_{scale}m_count'],\n",
    "        normalize='index'\n",
    "    )\n",
    "    raw_counts = pd.crosstab(data[type_name], data[f'youbike_{scale}m_count'])\n",
    "    row_sum = raw_counts.sum(axis=1)\n",
    "    table = table[row_sum > 30]\n",
    "\n",
    "    return table.sort_values(by=0, ascending=True)"
   ]
  },
  {
   "cell_type": "code",
   "execution_count": null,
   "id": "5cf8501d",
   "metadata": {},
   "outputs": [],
   "source": [
    "c1 = create_crosstab(combined_data, type='子', scale='100')\n",
    "c1 = c1[c1.columns[c1.columns != 0]].sum(axis=1)\n",
    "\n",
    "c1.plot(kind='barh', color='#36AA5B', figsize=(8, 6))\n",
    "plt.xlabel('Ratio')\n",
    "plt.grid(axis='x')\n",
    "plt.tight_layout()"
   ]
  },
  {
   "cell_type": "markdown",
   "id": "89ddd280",
   "metadata": {},
   "source": [
    "### Correlation between facilities and different variables"
   ]
  },
  {
   "cell_type": "code",
   "execution_count": null,
   "id": "8e4cd659",
   "metadata": {},
   "outputs": [],
   "source": [
    "from utils_eda import BicycleFacilityAnalyzer, youbike_bin\n",
    "countys = ['臺北市', '新北市', '臺中市', '高雄市', '臺東縣', '花蓮縣']\n",
    "# countys = ['新竹市', '桃園市', '嘉義市', '臺南市']"
   ]
  },
  {
   "cell_type": "code",
   "execution_count": null,
   "id": "9ef6d099",
   "metadata": {},
   "outputs": [],
   "source": [
    "from config import countycity_dct\n",
    "\n",
    "analyzer = BicycleFacilityAnalyzer(result=combined_data, countycity_dct=countycity_dct, countys_lst=countys)\n",
    "analyzer.get_facility_ration(cols='當事者區分-類別-子類別名稱-車種', attr='腳踏自行車')\n",
    "analyzer.plot_facility_accident_ratio(ylabel='Bicycle Accident Ratio')"
   ]
  },
  {
   "cell_type": "code",
   "execution_count": null,
   "id": "136585c0",
   "metadata": {},
   "outputs": [],
   "source": [
    "analyzer = BicycleFacilityAnalyzer(result=combined_data, countycity_dct=countycity_dct, countys_lst=countys)\n",
    "analyzer.get_facility_ration(cols='事故類型及型態大類別名稱', attr='人與車')\n",
    "analyzer.plot_facility_accident_ratio(ylabel='Pedestrian-Vehicle Ratio')"
   ]
  },
  {
   "cell_type": "code",
   "execution_count": null,
   "id": "f1226f6d",
   "metadata": {},
   "outputs": [],
   "source": [
    "analyzer = BicycleFacilityAnalyzer(result=combined_data, countycity_dct=countycity_dct, countys_lst=countys)\n",
    "analyzer.get_facility_ration(cols='車道劃分設施-分向設施子類別名稱', attr='無分向設施')\n",
    "analyzer.plot_facility_accident_ratio(ylabel='No Directional Facility Ratio')"
   ]
  },
  {
   "cell_type": "code",
   "execution_count": null,
   "id": "4b2d5b3f",
   "metadata": {},
   "outputs": [],
   "source": [
    "analyzer = BicycleFacilityAnalyzer(result=combined_data, countycity_dct=countycity_dct, countys_lst=countys)\n",
    "analyzer.get_facility_ration(cols='號誌-號誌種類名稱', attr='無號誌')\n",
    "analyzer.plot_facility_accident_ratio(ylabel='No Traffic Signal Ratio')"
   ]
  },
  {
   "cell_type": "code",
   "execution_count": null,
   "id": "04268e84",
   "metadata": {},
   "outputs": [],
   "source": [
    "analyzer = BicycleFacilityAnalyzer(result=combined_data, countycity_dct=countycity_dct, countys_lst=countys)\n",
    "analyzer.get_facility_ration(cols='事故類型及型態大類別名稱', attr='車與車')\n",
    "analyzer.plot_facility_accident_ratio(ylabel='Vehicle-Vehicle Ratio')"
   ]
  },
  {
   "cell_type": "code",
   "execution_count": null,
   "id": "1eabda70",
   "metadata": {},
   "outputs": [],
   "source": [
    "combined_data.columns"
   ]
  },
  {
   "cell_type": "code",
   "execution_count": null,
   "id": "4aa3b19d",
   "metadata": {},
   "outputs": [],
   "source": [
    "combined_data['車道劃分設施-分道設施-快慢車道間名稱'].unique()"
   ]
  }
 ],
 "metadata": {
  "kernelspec": {
   "display_name": "ST-RTA",
   "language": "python",
   "name": "python3"
  },
  "language_info": {
   "codemirror_mode": {
    "name": "ipython",
    "version": 3
   },
   "file_extension": ".py",
   "mimetype": "text/x-python",
   "name": "python",
   "nbconvert_exporter": "python",
   "pygments_lexer": "ipython3",
   "version": "3.9.21"
  }
 },
 "nbformat": 4,
 "nbformat_minor": 5
}
