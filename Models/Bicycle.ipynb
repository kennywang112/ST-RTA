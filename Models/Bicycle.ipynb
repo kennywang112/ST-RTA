{
 "cells": [
  {
   "cell_type": "markdown",
   "id": "34682265",
   "metadata": {},
   "source": [
    "設施 和 當事者區分(類別) （腳踏自行車） 是否有關聯"
   ]
  },
  {
   "cell_type": "code",
   "execution_count": null,
   "id": "da6c91ab",
   "metadata": {},
   "outputs": [],
   "source": [
    "import os\n",
    "import pandas as pd\n",
    "\n",
    "current_dir = os.getcwd()\n",
    "parent_dir = os.path.dirname(current_dir)\n",
    "analyze_path = os.path.join(parent_dir, \"utils\")\n",
    "\n",
    "os.chdir(analyze_path)\n",
    "\n",
    "import matplotlib.pyplot as plt\n",
    "plt.rcParams['font.family'] = ['Arial Unicode Ms']"
   ]
  },
  {
   "cell_type": "code",
   "execution_count": null,
   "id": "72979e31",
   "metadata": {},
   "outputs": [],
   "source": [
    "# from utils import read_data\n",
    "# combined_data = read_data()\n",
    "\n",
    "# 不限制第一順位\n",
    "filtered_A1 = pd.read_csv('../ComputedData/Accident/DataA1_with_youbike.csv')\n",
    "filtered_A2 = pd.read_csv('../ComputedData/Accident/DataA2_with_youbike.csv')\n",
    "\n",
    "filtered_A1['source'] = 'A1'\n",
    "filtered_A2['source'] = 'A2'\n",
    "filtered_A1['num_accidents'] = 1 \n",
    "filtered_A2['num_accidents'] = 1\n",
    "combined_data = pd.concat([filtered_A1, filtered_A2], ignore_index=True)\n",
    "\n",
    "# 替換離群值成中位數\n",
    "median_speed = combined_data.loc[combined_data['速限-第1當事者'] < 200, '速限-第1當事者'].median()\n",
    "median_age = combined_data.loc[(combined_data['當事者事故發生時年齡'] > 0) & (combined_data['當事者事故發生時年齡'] < 100),\n",
    "                '當事者事故發生時年齡'].median()\n",
    "combined_data.loc[combined_data['速限-第1當事者'] >= 200, '速限-第1當事者'] = median_speed\n",
    "combined_data.loc[(combined_data['當事者事故發生時年齡'] >= 100) | \n",
    "                (combined_data['當事者事故發生時年齡'] <= 0), '當事者事故發生時年齡'] = median_age"
   ]
  },
  {
   "cell_type": "code",
   "execution_count": null,
   "id": "1936e717",
   "metadata": {},
   "outputs": [],
   "source": [
    "combined_data1 = combined_data[combined_data['當事者順位'] == 1]\n",
    "combined_data2 = combined_data[combined_data['當事者順位'] > 1]\n",
    "combined_data1.shape, combined_data2.shape"
   ]
  },
  {
   "cell_type": "code",
   "execution_count": null,
   "id": "cec982ff",
   "metadata": {},
   "outputs": [],
   "source": [
    "def create_crosstab(data, type='大', scale='100'):\n",
    "    type_name = f'當事者區分-類別-{type}類別名稱-車種'\n",
    "    table = pd.crosstab(\n",
    "        data[type_name],\n",
    "        data[f'youbike_{scale}m_count'],\n",
    "        normalize='index'\n",
    "    )\n",
    "    raw_counts = pd.crosstab(data[type_name], data[f'youbike_{scale}m_count'])\n",
    "    row_sum = raw_counts.sum(axis=1)\n",
    "    table = table[row_sum > 30]\n",
    "\n",
    "    return table.sort_values(by=0, ascending=True)"
   ]
  },
  {
   "cell_type": "code",
   "execution_count": null,
   "id": "5cf8501d",
   "metadata": {},
   "outputs": [],
   "source": [
    "c1 = create_crosstab(combined_data1, type='子', scale='50')\n",
    "c1 = c1[c1.columns[c1.columns != 0]].sum(axis=1)\n",
    "\n",
    "c1.plot(kind='barh', color='#36AA5B', figsize=(8, 6))\n",
    "plt.xlabel('Ratio')\n",
    "plt.grid(axis='x')\n",
    "plt.tight_layout()"
   ]
  },
  {
   "cell_type": "markdown",
   "id": "995f7736",
   "metadata": {},
   "source": [
    "### 分析第二順位和第一順位的關係"
   ]
  },
  {
   "cell_type": "code",
   "execution_count": null,
   "id": "cc3ebfd0",
   "metadata": {},
   "outputs": [],
   "source": [
    "types = '子'\n",
    "\n",
    "combined_data['事故ID'] = (\n",
    "    combined_data['發生日期'].astype(str) + '_' +\n",
    "    combined_data['發生時間'].astype(str) + '_' +\n",
    "    combined_data['發生地點'].astype(str)\n",
    ")\n",
    "first_rank = combined_data[combined_data['當事者順位'] == 1.0].copy()\n",
    "second_rank = combined_data[combined_data['當事者順位'] == 2.0][['事故ID', f'當事者區分-類別-{types}類別名稱-車種']]\n",
    "second_rank = second_rank.rename(columns={f'當事者區分-類別-{types}類別名稱-車種': '第二順位車種'})\n",
    "\n",
    "result = pd.merge(first_rank, second_rank, on='事故ID', how='left')\n",
    "result = result.rename(columns={f'當事者區分-類別-{types}類別名稱-車種': '第一順位車種'})\n",
    "result_filter = result[result['第二順位車種'].notna()]\n",
    "result_filter.shape"
   ]
  },
  {
   "cell_type": "code",
   "execution_count": null,
   "id": "3dc69986",
   "metadata": {},
   "outputs": [],
   "source": [
    "result_filter = result_filter[result_filter['第一順位車種'].isin(\n",
    "    result_filter['第一順位車種'].value_counts()[result_filter['第一順位車種'].value_counts() > 1000].index\n",
    ")]\n",
    "result_filter = result_filter[result_filter['第二順位車種'].isin(\n",
    "    result_filter['第二順位車種'].value_counts()[result_filter['第二順位車種'].value_counts() > 1000].index\n",
    ")]"
   ]
  },
  {
   "cell_type": "code",
   "execution_count": null,
   "id": "464eb5a2",
   "metadata": {},
   "outputs": [],
   "source": [
    "import plotly.graph_objects as go\n",
    "\n",
    "df = result_filter.dropna(subset=['第一順位車種', '第二順位車種'])\n",
    "\n",
    "left_nodes = [f\"{x}(主)\" for x in sorted(df['第一順位車種'].unique())]\n",
    "right_nodes = [f\"{x}(次)\" for x in sorted(df['第二順位車種'].unique())]\n",
    "\n",
    "all_nodes = left_nodes + right_nodes\n",
    "left_map = {x: i for i, x in enumerate(left_nodes)}\n",
    "right_map = {x: i+len(left_nodes) for i, x in enumerate(right_nodes)}\n",
    "\n",
    "flows = df.groupby(['第一順位車種', '第二順位車種']).size().reset_index(name='count')\n",
    "\n",
    "sources = flows['第一順位車種'].map(lambda x: left_map[f\"{x}(主)\"])\n",
    "targets = flows['第二順位車種'].map(lambda x: right_map[f\"{x}(次)\"])\n",
    "values = flows['count']\n",
    "\n",
    "link_colors = []\n",
    "for s, t in zip(flows['第一順位車種'], flows['第二順位車種']):\n",
    "    # if \"腳踏自行車\" in s or \"腳踏自行車\" in t:\n",
    "    #     link_colors.append(\"#349a76\")  # 綠色半透明\n",
    "    # else:\n",
    "    #     link_colors.append(\"rgba(150,150,150,0.3)\") \n",
    "    if \"慢車\" in s or \"慢車\" in t:\n",
    "        link_colors.append(\"#349a76\")  # 綠色半透明\n",
    "    else:\n",
    "        link_colors.append(\"rgba(150,150,150,0.3)\") \n",
    "\n",
    "fig = go.Figure(data=[go.Sankey(\n",
    "    # orientation=\"v\",\n",
    "    node=dict(\n",
    "        pad=15,\n",
    "        thickness=20,\n",
    "        line=dict(color=\"black\", width=0.5),\n",
    "        label=all_nodes,\n",
    "        color=[\"#6fa8dc\"]*len(left_nodes) + [\"#f6b26b\"]*len(right_nodes)\n",
    "    ),\n",
    "    link=dict(\n",
    "        source=sources,\n",
    "        target=targets,\n",
    "        value=values,\n",
    "        color=link_colors\n",
    "    )\n",
    ")])\n",
    "fig.update_layout(\n",
    "    title_text=\"Sankey diagram\", \n",
    "    font_size=12,\n",
    "    width=800,\n",
    "    height=1200)\n",
    "fig.show()"
   ]
  },
  {
   "cell_type": "markdown",
   "id": "89ddd280",
   "metadata": {},
   "source": [
    "### 分析設施和腳踏車事故的相關性\n",
    "設施的數量增加腳踏車發生比例"
   ]
  },
  {
   "cell_type": "code",
   "execution_count": null,
   "id": "86bb6f85",
   "metadata": {},
   "outputs": [],
   "source": [
    "bike_data = pd.DataFrame(columns = ['youbike_scale', 'youbike_count', 'bike_accident_ratio'])\n",
    "\n",
    "youbike_types = ['50', '100', '200', '300']\n",
    "\n",
    "for type in youbike_types:\n",
    "\n",
    "    youbike_type = f'youbike_{type}m_count'\n",
    "    result['accident_include_bike'] = result.apply(\n",
    "        lambda x: 1 if (x['第一順位車種'] == '腳踏自行車' or x['第二順位車種'] == '腳踏自行車') else 0, axis=1\n",
    "    )\n",
    "    include_youbike = result[(result['第一順位車種'] == '腳踏自行車') | \n",
    "                            (result['第二順位車種'] == '腳踏自行車')]\n",
    "\n",
    "    total_accidents_by_facility = result.groupby(youbike_type).size()\n",
    "    bike_accidents_by_facility = include_youbike.groupby(youbike_type).size()\n",
    "\n",
    "    total_accidents_by_facility = total_accidents_by_facility.reset_index()\n",
    "    bike_accidents_by_facility = bike_accidents_by_facility.reset_index()\n",
    "\n",
    "    total_accidents_by_facility[youbike_type] =\\\n",
    "        total_accidents_by_facility[youbike_type].apply(lambda x: 1 if x > 0 else 0)\n",
    "    total_accidents_by_facility = total_accidents_by_facility.groupby(youbike_type).sum()\n",
    "    bike_accidents_by_facility[youbike_type] =\\\n",
    "        bike_accidents_by_facility[youbike_type].apply(lambda x: 1 if x > 0 else 0)\n",
    "    bike_accidents_by_facility = bike_accidents_by_facility.groupby(youbike_type).sum()\n",
    "\n",
    "    facility_ratio = (bike_accidents_by_facility / total_accidents_by_facility).fillna(0)\n",
    "    facility_ratio_df = facility_ratio.reset_index()#.drop(columns=['index'])\n",
    "    facility_ratio_df.columns = ['youbike_count', 'bike_accident_ratio']\n",
    "    facility_ratio_df['youbike_scale'] = type\n",
    "    bike_data = pd.concat([bike_data, \n",
    "                        facility_ratio_df[['youbike_scale', 'youbike_count', 'bike_accident_ratio']]], ignore_index=True)\n",
    "\n",
    "bike_data"
   ]
  },
  {
   "cell_type": "code",
   "execution_count": null,
   "id": "f8f83420",
   "metadata": {},
   "outputs": [],
   "source": [
    "import numpy as np\n",
    "from matplotlib.ticker import PercentFormatter\n",
    "\n",
    "plot_df = (\n",
    "    bike_data\n",
    "    .pivot(index='youbike_scale', columns='youbike_count', values='bike_accident_ratio')\n",
    "    .sort_index()\n",
    ")\n",
    "\n",
    "y = np.arange(len(plot_df.index))\n",
    "height = 0.35  # bar 的厚度\n",
    "\n",
    "fig, ax = plt.subplots(figsize=(9, 5))\n",
    "bars0 = ax.barh(y - height/2, plot_df[0].to_numpy(), height, label='Without YouBike', color=\"#9f9fe3\")\n",
    "bars1 = ax.barh(y + height/2, plot_df[1].to_numpy(), height, label='With YouBike', color=\"#b5537f\")\n",
    "\n",
    "ax.set_ylabel('YouBike buffer scale (meters)')\n",
    "ax.set_xlabel('Bicycle accident ratio')\n",
    "ax.set_title('Bicycle accident ratios with/without YouBike stations at different buffer scales')\n",
    "ax.set_yticks(y)\n",
    "ax.set_yticklabels(plot_df.index.astype(int))\n",
    "ax.xaxis.set_major_formatter(PercentFormatter(1.0))\n",
    "ax.legend(loc='center left', bbox_to_anchor=(1, 0.5))\n",
    "\n",
    "# 標籤在 bar 右邊\n",
    "for bars in (bars0, bars1):\n",
    "    for b in bars:\n",
    "        w = b.get_width()\n",
    "        ax.annotate(f'{w*100:.2f}%',\n",
    "                    xy=(w, b.get_y() + b.get_height()/2),\n",
    "                    xytext=(3, 0),\n",
    "                    textcoords=\"offset points\",\n",
    "                    ha='left', va='center', fontsize=8)\n",
    "\n",
    "plt.tight_layout()\n",
    "plt.show()\n"
   ]
  },
  {
   "cell_type": "code",
   "execution_count": null,
   "id": "5089ef64",
   "metadata": {},
   "outputs": [],
   "source": [
    "youbike_type = 'youbike_100m_count'\n",
    "\n",
    "result['accident_include_bike'] = result.apply(\n",
    "    lambda x: 1 if (x['第一順位車種'] == '腳踏自行車' or x['第二順位車種'] == '腳踏自行車') else 0, axis=1\n",
    ")\n",
    "include_youbike = result[(result['第一順位車種'] == '腳踏自行車') | \n",
    "                         (result['第二順位車種'] == '腳踏自行車')]\n",
    "\n",
    "total_accidents_by_facility = result.groupby(youbike_type).size()\n",
    "bike_accidents_by_facility = include_youbike.groupby(youbike_type).size()\n",
    "\n",
    "facility_ratio = (bike_accidents_by_facility / total_accidents_by_facility).fillna(0)\n",
    "facility_ratio_df = facility_ratio.reset_index()\n",
    "facility_ratio_df.columns = [youbike_type, 'bike_accident_ratio']"
   ]
  },
  {
   "cell_type": "code",
   "execution_count": null,
   "id": "86f25b0e",
   "metadata": {},
   "outputs": [],
   "source": [
    "plt.figure(figsize=(8, 6))\n",
    "plt.bar(facility_ratio_df[youbike_type], facility_ratio_df['bike_accident_ratio'], color=\"#59B275\")\n",
    "plt.xlabel('Number of YouBike Facilities around Accident')\n",
    "plt.ylabel('Bicycle Accident Ratio')\n",
    "plt.grid(axis='y', linestyle='--', alpha=0.5)\n",
    "bars = plt.bar(\n",
    "    facility_ratio_df[youbike_type],\n",
    "    facility_ratio_df['bike_accident_ratio'],\n",
    "    color=\"#59B275\"\n",
    ")\n",
    "for bar, xval in zip(bars, facility_ratio_df[youbike_type]):\n",
    "    height = bar.get_height()\n",
    "    total = total_accidents_by_facility.loc[xval]\n",
    "    plt.text(\n",
    "        bar.get_x() + bar.get_width()/2,\n",
    "        height,\n",
    "        str(total),\n",
    "        ha='center', va='bottom', fontsize=9\n",
    "    )\n",
    "plt.tight_layout()\n",
    "plt.show()"
   ]
  },
  {
   "cell_type": "markdown",
   "id": "e64aca89",
   "metadata": {},
   "source": [
    "### 分析附近有腳踏車租借情況下的差異"
   ]
  },
  {
   "cell_type": "code",
   "execution_count": null,
   "id": "76f0c456",
   "metadata": {},
   "outputs": [],
   "source": [
    "bike_around = combined_data1[combined_data1['youbike_200m_count'] > 0]"
   ]
  },
  {
   "cell_type": "code",
   "execution_count": null,
   "id": "8784ce8d",
   "metadata": {},
   "outputs": [],
   "source": [
    "bike_around['當事者區分-類別-子類別名稱-車種'].value_counts(normalize=True)"
   ]
  },
  {
   "cell_type": "code",
   "execution_count": null,
   "id": "e71816aa",
   "metadata": {},
   "outputs": [],
   "source": [
    "combined_data1['當事者區分-類別-子類別名稱-車種'].value_counts(normalize=True)"
   ]
  }
 ],
 "metadata": {
  "kernelspec": {
   "display_name": "ST-RTA",
   "language": "python",
   "name": "python3"
  },
  "language_info": {
   "codemirror_mode": {
    "name": "ipython",
    "version": 3
   },
   "file_extension": ".py",
   "mimetype": "text/x-python",
   "name": "python",
   "nbconvert_exporter": "python",
   "pygments_lexer": "ipython3",
   "version": "3.9.21"
  }
 },
 "nbformat": 4,
 "nbformat_minor": 5
}
