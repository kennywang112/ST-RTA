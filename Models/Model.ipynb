{
 "cells": [
  {
   "cell_type": "code",
   "execution_count": null,
   "id": "8eeb03cf",
   "metadata": {},
   "outputs": [],
   "source": [
    "import os\n",
    "\n",
    "current_dir = os.getcwd()\n",
    "parent_dir = os.path.dirname(current_dir)\n",
    "analyze_path = os.path.join(parent_dir, \"utils\")\n",
    "\n",
    "os.chdir(analyze_path)"
   ]
  },
  {
   "cell_type": "markdown",
   "id": "09d1b50e",
   "metadata": {},
   "source": [
    "要先建立輸入到模型的資料\n",
    "- 若是要分類是否是熱點，應該要以一個區域的grid為單位\n",
    "- 所以建立得grid亦包含該地區的所有特徵資料，以比例顯示"
   ]
  },
  {
   "cell_type": "code",
   "execution_count": null,
   "id": "5a2ccdee",
   "metadata": {},
   "outputs": [],
   "source": [
    "import numpy as np\n",
    "import pandas as pd\n",
    "import geopandas as gpd\n",
    "\n",
    "from utils import get_grid, calculate_gi\n",
    "\n",
    "from imblearn.under_sampling import RandomUnderSampler\n",
    "from sklearn.preprocessing import LabelEncoder\n",
    "from sklearn.model_selection import train_test_split, StratifiedKFold, cross_val_score\n",
    "from sklearn.linear_model import LogisticRegression\n",
    "from sklearn.ensemble import RandomForestClassifier\n",
    "from sklearn.metrics import confusion_matrix, classification_report, roc_auc_score, average_precision_score"
   ]
  },
  {
   "cell_type": "code",
   "execution_count": null,
   "id": "475cd44b",
   "metadata": {},
   "outputs": [],
   "source": [
    "dataA1 = pd.read_csv('../ComputedData/Accident/DataA1_with_MYP.csv')\n",
    "dataA2 = pd.read_csv('../ComputedData/Accident/DataA2_with_MYP.csv')\n",
    "taiwan = gpd.read_file('../Data/OFiles_9e222fea-bafb-4436-9b17-10921abc6ef2/TOWN_MOI_1140318.shp')\n",
    "taiwan = taiwan[(~taiwan['TOWNNAME'].isin(['旗津區', '頭城鎮', '蘭嶼鄉', '綠島鄉', '琉球鄉'])) & \n",
    "                (~taiwan['COUNTYNAME'].isin(['金門縣', '連江縣', '澎湖縣']))]\n",
    "\n",
    "filtered_A2 = dataA2[dataA2['當事者順位'] == 1]\n",
    "filtered_A1 = dataA1[dataA1['當事者順位'] == 1]\n",
    "\n",
    "filtered_A1['source'] = 'A1'\n",
    "filtered_A2['source'] = 'A2'\n",
    "filtered_A1['num_accidents'] = 1 \n",
    "filtered_A2['num_accidents'] = 1\n",
    "combined_data = pd.concat([filtered_A1, filtered_A2], ignore_index=True)\n",
    "\n",
    "hex_grid = get_grid(combined_data, hex_size=0.01, threshold=-1)\n",
    "taiwan = taiwan.to_crs(hex_grid.crs)\n",
    "\n",
    "hex_grid = hex_grid[hex_grid.intersects(taiwan.unary_union)]"
   ]
  },
  {
   "cell_type": "markdown",
   "id": "d1ef8ae0",
   "metadata": {},
   "source": [
    "hex_grid目前包含所有事故索引，所以要回推\n",
    "- 回推方式從combined_data獲取，並且計算他們的事故特徵平均"
   ]
  },
  {
   "cell_type": "code",
   "execution_count": null,
   "id": "ec925400",
   "metadata": {},
   "outputs": [],
   "source": [
    "grid = calculate_gi(6, hex_grid, adjacency='knn')\n",
    "grid = gpd.sjoin(hex_grid, taiwan[['COUNTYNAME', 'geometry']], how='left', predicate='intersects')\n",
    "grid"
   ]
  },
  {
   "cell_type": "code",
   "execution_count": null,
   "id": "b20b7023",
   "metadata": {},
   "outputs": [],
   "source": [
    "select_group = [\n",
    "    # 氣候暫不討論\n",
    "    # '天候名稱', '光線名稱',\n",
    "\n",
    "    # 道路問題\n",
    "    # '路面狀況-路面鋪裝名稱', '路面狀況-路面狀態名稱', '路面狀況-路面缺陷名稱',\n",
    "    # '道路障礙-障礙物名稱', '道路障礙-視距品質名稱', '道路障礙-視距名稱',\n",
    "    # 號誌\n",
    "    '號誌-號誌種類名稱', '號誌-號誌動作名稱',\n",
    "    # 車道劃分\n",
    "    '車道劃分設施-分向設施大類別名稱', '車道劃分設施-分道設施-快車道或一般車道間名稱',\n",
    "    '車道劃分設施-分道設施-快慢車道間名稱', '車道劃分設施-分道設施-路面邊線名稱',\n",
    "    # 大類別\n",
    "    # '肇因研判大類別名稱-主要', '肇因研判大類別名稱-個別'\n",
    "    # '事故類型及型態大類別名稱', '車輛撞擊部位大類別名稱-最初', '車輛撞擊部位大類別名稱-其他',\n",
    "    # '事故位置大類別名稱', '當事者區分-類別-大類別名稱-車種', '當事者行動狀態大類別名稱',\n",
    "    # '道路型態大類別名稱',\n",
    "    \n",
    "    # 子類別\n",
    "    # '肇因研判子類別名稱-主要', '肇因研判子類別名稱-個別', \n",
    "    '當事者區分-類別-子類別名稱-車種', '當事者行動狀態子類別名稱',\n",
    "    '事故類型及型態子類別名稱', '車道劃分設施-分向設施子類別名稱', \n",
    "    '車輛撞擊部位子類別名稱-最初', '車輛撞擊部位子類別名稱-其他',\n",
    "    '事故位置子類別名稱', '道路型態子類別名稱',\n",
    "    # 其他\n",
    "    # '當事者屬-性-別名稱', '當事者事故發生時年齡', '速限-第1當事者', '道路類別-第1當事者-名稱',\n",
    "    # '保護裝備名稱', '行動電話或電腦或其他相類功能裝置名稱', '肇事逃逸類別名稱-是否肇逃',\n",
    "    # 設施\n",
    "    'mrt_100m_count', 'parkinglot_100m_count', 'youbike_100m_count',\n",
    "    # A1 or A2\n",
    "    # 'source', \n",
    "    ]"
   ]
  },
  {
   "cell_type": "code",
   "execution_count": null,
   "id": "99cf4ce6",
   "metadata": {},
   "outputs": [],
   "source": [
    "def extract_features(\n",
    "        grid, combined_data, select_group, rows\n",
    "        ):\n",
    "\n",
    "    indices = grid['accident_indices'].iloc[rows] # return list of original data index\n",
    "    sample = combined_data.iloc[indices]\n",
    "    sample = sample[select_group]\n",
    "\n",
    "    cat_cols = sample.select_dtypes(include='object').columns\n",
    "    num_cols = sample.select_dtypes(include='number').columns\n",
    "\n",
    "    # for categorical features\n",
    "    cat_features = []\n",
    "    for col in cat_cols:\n",
    "        vc = sample[col].value_counts(normalize=True)\n",
    "        vc.index = [f\"{col}_{v}\" for v in vc.index]\n",
    "        cat_features.append(vc)\n",
    "    cat_features = pd.concat(cat_features)\n",
    "\n",
    "    # for numerical features\n",
    "    num_features = sample[num_cols].mean()\n",
    "    num_features.index = [f\"{col}_mean\" for col in num_features.index]\n",
    "\n",
    "    all_features = pd.concat([cat_features, num_features])\n",
    "    all_features_df = all_features.to_frame().T\n",
    "\n",
    "    return all_features_df"
   ]
  },
  {
   "cell_type": "markdown",
   "id": "ec022585",
   "metadata": {},
   "source": [
    "## Features concat"
   ]
  },
  {
   "cell_type": "code",
   "execution_count": null,
   "id": "cafa5aca",
   "metadata": {},
   "outputs": [],
   "source": [
    "all_features_list = []\n",
    "\n",
    "grid_filter = grid[grid['accident_indices'].str.len() > 0]\n",
    "for rows in range(grid_filter.shape[0]):\n",
    "    features = extract_features(grid_filter, combined_data, select_group, rows)\n",
    "    all_features_list.append(features)\n",
    "\n",
    "all_features_df = pd.concat(all_features_list, ignore_index=True)\n",
    "all_features_df.fillna(0, inplace=True)\n",
    "all_features_df"
   ]
  },
  {
   "cell_type": "code",
   "execution_count": null,
   "id": "4ebf09ca",
   "metadata": {},
   "outputs": [],
   "source": [
    "# new_grid = pd.concat([grid.reset_index(drop=True)[['hotspot', 'COUNTYNAME']], all_features_df], axis=1)\n",
    "# new_grid.to_csv(\"../ComputedData/ForTDA/new_grid.csv\", index=False)"
   ]
  },
  {
   "cell_type": "code",
   "execution_count": null,
   "id": "c96d0074",
   "metadata": {},
   "outputs": [],
   "source": [
    "# with county town\n",
    "# 原始資料index並非從1開始所以需reset\n",
    "new_grid = pd.concat([grid_filter.reset_index(drop=True)[['hotspot', 'COUNTYNAME']], all_features_df], axis=1)\n",
    "county_dummies = pd.get_dummies(new_grid['COUNTYNAME'], prefix='county')\n",
    "new_grid_encoded = pd.concat([new_grid.drop(['COUNTYNAME'], axis=1), county_dummies], axis=1)\n",
    "\n",
    "# new feature\n",
    "# cond = (\n",
    "#     (new_grid['mrt_100m_count_mean'] > 0) |\n",
    "#     (new_grid['youbike_100m_count_mean'] > 0) |\n",
    "#     (new_grid['parkinglot_100m_count_mean'] > 0)\n",
    "# )\n",
    "# new_grid['cross_type'] = cond.astype(int)\n",
    "# new_grid['cross_type_label'] = new_grid['COUNTYNAME'] + '_' + new_grid['cross_type'].astype(str)\n",
    "# county_dummies = pd.get_dummies(new_grid['cross_type_label'], prefix='county')\n",
    "# new_grid_encoded = pd.concat([new_grid.drop(['cross_type_label', 'COUNTYNAME', 'cross_type'], axis=1), county_dummies], axis=1)\n",
    "\n",
    "# without county town\n",
    "# new_grid = pd.concat([grid.reset_index(drop=True)[['hotspot']], all_features_df], axis=1)\n",
    "# new_grid_encoded = new_grid\n",
    "\n",
    "# binary hotspot\n",
    "new_grid_encoded['hotspot'] = new_grid_encoded['hotspot'].apply(lambda x: 'Hotspot' if 'Hotspot' in str(x) else 'Not Hotspot')\n",
    "\n",
    "le = LabelEncoder()\n",
    "y = le.fit_transform(new_grid_encoded['hotspot'])\n",
    "X = new_grid_encoded.drop(columns=['hotspot'])"
   ]
  },
  {
   "cell_type": "code",
   "execution_count": null,
   "id": "9d53e653",
   "metadata": {},
   "outputs": [],
   "source": [
    "X_train, X_test, y_train, y_test = train_test_split(\n",
    "    X, y, test_size=0.3, stratify=y, random_state=42\n",
    ")\n",
    "y_train = pd.Series(y_train, index=X_train.index)\n",
    "y_test  = pd.Series(y_test,  index=X_test.index)\n",
    "\n",
    "# with undersampling\n",
    "cls_counts = y_test.value_counts()\n",
    "min_count = cls_counts.min()\n",
    "rus_test = RandomUnderSampler(\n",
    "    sampling_strategy={int(c): int(min_count) for c in cls_counts.index},\n",
    "    random_state=42\n",
    ")\n",
    "X_resampled_test, y_resampled_test = rus_test.fit_resample(X_test, y_test)\n",
    "\n",
    "# without undersampling\n",
    "# X_resampled_test = X_test.copy()\n",
    "# y_resampled_test = y_test.copy()\n",
    "\n",
    "print(\"before US\")\n",
    "print(pd.Series(y_test).map(dict(enumerate(le.classes_))).value_counts())\n",
    "print(\"after US\")\n",
    "print(pd.Series(y_resampled_test).map(dict(enumerate(le.classes_))).value_counts())"
   ]
  },
  {
   "cell_type": "code",
   "execution_count": null,
   "id": "0a0b4110",
   "metadata": {},
   "outputs": [],
   "source": [
    "lr = LogisticRegression(\n",
    "        class_weight='balanced', max_iter=1000, \n",
    "        random_state=42, \n",
    "        # multi_class='multinomial'\n",
    "    )\n",
    "rf = RandomForestClassifier(\n",
    "        n_estimators=300, max_depth=None, min_samples_leaf=1,\n",
    "        class_weight='balanced', n_jobs=-1, random_state=42,\n",
    "    )\n",
    "\n",
    "cv = StratifiedKFold(n_splits=5, shuffle=True, random_state=42)\n",
    "\n",
    "for name, clf in [('Logistic', lr), ('RandomForest', rf)]:\n",
    "    scores = cross_val_score(clf, X_train, y_train, cv=cv, n_jobs=-1,\n",
    "                            #  scoring='roc_auc_ovr_weighted',\n",
    "                            scoring='roc_auc'\n",
    "                             )\n",
    "    print(f'{name} CV ROC AUC: {scores.mean():.3f} ± {scores.std():.3f}')\n",
    "\n",
    "# lr.fit(X_train, y_train)\n",
    "rf.fit(X_train, y_train)\n",
    "\n",
    "# proba_test_bal = lr.predict_proba(X_resampled_test)\n",
    "proba_test_bal = rf.predict_proba(X_resampled_test)\n",
    "y_pred_bal = np.argmax(proba_test_bal, axis=1)"
   ]
  },
  {
   "cell_type": "code",
   "execution_count": null,
   "id": "21c85676",
   "metadata": {},
   "outputs": [],
   "source": [
    "from sklearn.preprocessing import label_binarize\n",
    "\n",
    "print(\"Confusion Matrix\")\n",
    "print(confusion_matrix(y_resampled_test, y_pred_bal, labels=range(len(le.classes_))))\n",
    "\n",
    "print(\"Classification Report\")\n",
    "print(classification_report(\n",
    "    y_resampled_test, y_pred_bal, target_names=le.classes_, digits=3\n",
    "))\n",
    "\n",
    "\n",
    "if proba_test_bal.shape[1] == 2:\n",
    "    # 二元分類\n",
    "    roc_auc = roc_auc_score(y_resampled_test, proba_test_bal[:, 1])\n",
    "    print(f'ROC AUC: {roc_auc:.3f}')\n",
    "    y_test_bin = label_binarize(y_resampled_test, classes=range(len(le.classes_)))\n",
    "    pr_auc_macro  = average_precision_score(y_test_bin, proba_test_bal[:, 1], average='macro')\n",
    "    pr_auc_weight = average_precision_score(y_test_bin, proba_test_bal[:, 1], average='weighted')\n",
    "    print(f'PR  AUC macro: {pr_auc_macro:.3f}')\n",
    "    print(f'PR  AUC wighted: {pr_auc_weight:.3f}')\n",
    "else:\n",
    "    # 多類分類\n",
    "    roc_auc = roc_auc_score(y_resampled_test, proba_test_bal, average='weighted', multi_class='ovr')\n",
    "    print(f'ROC AUC: {roc_auc:.3f}')\n",
    "    # 多類PR AUC需要 binarize 後用 one-vs-rest，再做 macro/weighted 平均\n",
    "    y_test_bin = label_binarize(y_resampled_test, classes=range(len(le.classes_)))  # shape [n, n_classes]\n",
    "    pr_auc_macro  = average_precision_score(y_test_bin, proba_test_bal, average='macro')\n",
    "    pr_auc_weight = average_precision_score(y_test_bin, proba_test_bal, average='weighted')\n",
    "    print(f'PR  AUC macro: {pr_auc_macro:.3f}')\n",
    "    print(f'PR  AUC wighted: {pr_auc_weight:.3f}')"
   ]
  },
  {
   "cell_type": "markdown",
   "id": "c6017ce8",
   "metadata": {},
   "source": [
    "設施平均：該地區的事故點附近平均會有幾個設施"
   ]
  },
  {
   "cell_type": "markdown",
   "id": "3b99b80c",
   "metadata": {},
   "source": [
    "# LinearRegression coefficient"
   ]
  },
  {
   "cell_type": "code",
   "execution_count": null,
   "id": "d679d661",
   "metadata": {},
   "outputs": [],
   "source": [
    "coefs = lr.coef_[0]  # 若是二元分類，取第0個類別\n",
    "feature_names = X_train.columns\n",
    "indices = np.argsort(np.abs(coefs))[::-1]  # 依照絕對值排序\n",
    "\n",
    "for i in indices:\n",
    "    print(f\"{feature_names[i]}: {coefs[i]:.4f}\")"
   ]
  },
  {
   "cell_type": "markdown",
   "id": "48e0bbf5",
   "metadata": {},
   "source": [
    "# RandomForest Feature Importance"
   ]
  },
  {
   "cell_type": "code",
   "execution_count": null,
   "id": "8ca4a6ba",
   "metadata": {},
   "outputs": [],
   "source": [
    "importances = rf.feature_importances_\n",
    "indices = np.argsort(importances)[::-1]\n",
    "feature_names = X_train.columns\n",
    "\n",
    "for i in indices:\n",
    "    print(f\"{feature_names[i]}: {importances[i]:.4f}\")"
   ]
  },
  {
   "cell_type": "code",
   "execution_count": null,
   "id": "5265a169",
   "metadata": {},
   "outputs": [],
   "source": [
    "feature_names = X_train.columns\n",
    "importances = rf.feature_importances_\n",
    "\n",
    "fi_df = pd.DataFrame({'feature': feature_names, 'importance': importances})\n",
    "fi_df['main_feature'] = fi_df['feature'].str.split('_').str[0]\n",
    "grouped = fi_df.groupby('main_feature')['importance'].sum().sort_values(ascending=False)\n",
    "\n",
    "print(grouped)"
   ]
  }
 ],
 "metadata": {
  "kernelspec": {
   "display_name": "ST-RTA",
   "language": "python",
   "name": "python3"
  },
  "language_info": {
   "codemirror_mode": {
    "name": "ipython",
    "version": 3
   },
   "file_extension": ".py",
   "mimetype": "text/x-python",
   "name": "python",
   "nbconvert_exporter": "python",
   "pygments_lexer": "ipython3",
   "version": "3.9.21"
  }
 },
 "nbformat": 4,
 "nbformat_minor": 5
}
